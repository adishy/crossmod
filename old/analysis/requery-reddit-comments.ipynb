{
 "cells": [
  {
   "cell_type": "code",
   "execution_count": 46,
   "metadata": {},
   "outputs": [],
   "source": [
    "import pandas as pd"
   ]
  },
  {
   "cell_type": "code",
   "execution_count": 47,
   "metadata": {},
   "outputs": [
    {
     "name": "stdout",
     "output_type": "stream",
     "text": [
      "6747 348\n"
     ]
    }
   ],
   "source": [
    "filepath = \"~/Downloads/\"\n",
    "db_name = \"crossmoddb_48hours_test_2\"\n",
    "\n",
    "tf = pd.read_csv(filepath + db_name + \".csv\")\n",
    "\n",
    "toxicity_limit = 0.8\n",
    "\n",
    "print(tf.shape[0], tf[tf.toxicity_score >= toxicity_limit].shape[0])"
   ]
  },
  {
   "cell_type": "code",
   "execution_count": 48,
   "metadata": {},
   "outputs": [
    {
     "data": {
      "text/html": [
       "<div>\n",
       "<style scoped>\n",
       "    .dataframe tbody tr th:only-of-type {\n",
       "        vertical-align: middle;\n",
       "    }\n",
       "\n",
       "    .dataframe tbody tr th {\n",
       "        vertical-align: top;\n",
       "    }\n",
       "\n",
       "    .dataframe thead th {\n",
       "        text-align: right;\n",
       "    }\n",
       "</style>\n",
       "<table border=\"1\" class=\"dataframe\">\n",
       "  <thead>\n",
       "    <tr style=\"text-align: right;\">\n",
       "      <th></th>\n",
       "      <th>created_at</th>\n",
       "      <th>ingested_at</th>\n",
       "      <th>comment_id</th>\n",
       "      <th>comment_body</th>\n",
       "      <th>toxicity_score</th>\n",
       "      <th>crossmod_action</th>\n",
       "      <th>author</th>\n",
       "      <th>subreddit</th>\n",
       "      <th>banned_by</th>\n",
       "      <th>banned_at</th>\n",
       "    </tr>\n",
       "  </thead>\n",
       "  <tbody>\n",
       "    <tr>\n",
       "      <th>2</th>\n",
       "      <td>1.571102e+09</td>\n",
       "      <td>1.571102e+09</td>\n",
       "      <td>f3sgg68</td>\n",
       "      <td>I hate people.</td>\n",
       "      <td>0.897010</td>\n",
       "      <td>EMPTY</td>\n",
       "      <td>RideTheWindForever</td>\n",
       "      <td>t5_2t7no</td>\n",
       "      <td>not_available</td>\n",
       "      <td>not_available</td>\n",
       "    </tr>\n",
       "    <tr>\n",
       "      <th>88</th>\n",
       "      <td>1.571105e+09</td>\n",
       "      <td>1.571105e+09</td>\n",
       "      <td>f3sm4ly</td>\n",
       "      <td>This guy is a creep.</td>\n",
       "      <td>0.872345</td>\n",
       "      <td>EMPTY</td>\n",
       "      <td>centima</td>\n",
       "      <td>t5_2t7no</td>\n",
       "      <td>not_available</td>\n",
       "      <td>not_available</td>\n",
       "    </tr>\n",
       "    <tr>\n",
       "      <th>104</th>\n",
       "      <td>1.571105e+09</td>\n",
       "      <td>1.571106e+09</td>\n",
       "      <td>f3sn2n4</td>\n",
       "      <td>God I bet they love you in corporate America.\\...</td>\n",
       "      <td>0.837852</td>\n",
       "      <td>EMPTY</td>\n",
       "      <td>ZaneWuzHere</td>\n",
       "      <td>t5_2t7no</td>\n",
       "      <td>not_available</td>\n",
       "      <td>not_available</td>\n",
       "    </tr>\n",
       "    <tr>\n",
       "      <th>128</th>\n",
       "      <td>1.571106e+09</td>\n",
       "      <td>1.571106e+09</td>\n",
       "      <td>f3socwp</td>\n",
       "      <td>Dude stop PMing me pics of your dick. This is ...</td>\n",
       "      <td>0.915338</td>\n",
       "      <td>remove</td>\n",
       "      <td>travel-bound</td>\n",
       "      <td>t5_2t7no</td>\n",
       "      <td>not_available</td>\n",
       "      <td>not_available</td>\n",
       "    </tr>\n",
       "    <tr>\n",
       "      <th>139</th>\n",
       "      <td>1.571106e+09</td>\n",
       "      <td>1.571106e+09</td>\n",
       "      <td>f3soujc</td>\n",
       "      <td>&gt; It's intentionally hyperbolic.  \\n\\nNo shit ...</td>\n",
       "      <td>0.857540</td>\n",
       "      <td>EMPTY</td>\n",
       "      <td>ExistingPlant</td>\n",
       "      <td>t5_2t7no</td>\n",
       "      <td>not_available</td>\n",
       "      <td>not_available</td>\n",
       "    </tr>\n",
       "  </tbody>\n",
       "</table>\n",
       "</div>"
      ],
      "text/plain": [
       "       created_at   ingested_at comment_id  \\\n",
       "2    1.571102e+09  1.571102e+09    f3sgg68   \n",
       "88   1.571105e+09  1.571105e+09    f3sm4ly   \n",
       "104  1.571105e+09  1.571106e+09    f3sn2n4   \n",
       "128  1.571106e+09  1.571106e+09    f3socwp   \n",
       "139  1.571106e+09  1.571106e+09    f3soujc   \n",
       "\n",
       "                                          comment_body  toxicity_score  \\\n",
       "2                                       I hate people.        0.897010   \n",
       "88                                This guy is a creep.        0.872345   \n",
       "104  God I bet they love you in corporate America.\\...        0.837852   \n",
       "128  Dude stop PMing me pics of your dick. This is ...        0.915338   \n",
       "139  > It's intentionally hyperbolic.  \\n\\nNo shit ...        0.857540   \n",
       "\n",
       "    crossmod_action              author subreddit      banned_by  \\\n",
       "2             EMPTY  RideTheWindForever  t5_2t7no  not_available   \n",
       "88            EMPTY             centima  t5_2t7no  not_available   \n",
       "104           EMPTY         ZaneWuzHere  t5_2t7no  not_available   \n",
       "128          remove        travel-bound  t5_2t7no  not_available   \n",
       "139           EMPTY       ExistingPlant  t5_2t7no  not_available   \n",
       "\n",
       "         banned_at  \n",
       "2    not_available  \n",
       "88   not_available  \n",
       "104  not_available  \n",
       "128  not_available  \n",
       "139  not_available  "
      ]
     },
     "execution_count": 48,
     "metadata": {},
     "output_type": "execute_result"
    }
   ],
   "source": [
    "tf[tf.toxicity_score >= toxicity_limit].head()"
   ]
  },
  {
   "cell_type": "code",
   "execution_count": 72,
   "metadata": {},
   "outputs": [
    {
     "name": "stdout",
     "output_type": "stream",
     "text": [
      "Rate of toxic comments on r/Futurology within crossmoddb_20hours_test_1 : 1.516793%\n",
      "Rate of toxic comments on r/Futurology within crossmoddb_48hours_test_2 : 2.564103%\n"
     ]
    }
   ],
   "source": [
    "for db_name in [\"crossmoddb_20hours_test_1\", \"crossmoddb_48hours_test_2\"]:\n",
    "    tf = pd.read_csv(filepath + db_name + \".csv\")\n",
    "    percent = 100.0 * tf[tf.crossmod_action == \"remove\"].shape[0]/tf.shape[0]\n",
    "    print(\"Rate of toxic comments on r/Futurology within %s : %f%s\" %(db_name, percent, \"%\"))"
   ]
  },
  {
   "cell_type": "markdown",
   "metadata": {},
   "source": [
    "# Query Reddit API by comment_id to see if it was removed\n",
    "\n",
    "\n",
    "* Note: Append comment\\_id in the dataframe with \"t1_\" to query for the actual comments"
   ]
  },
  {
   "cell_type": "code",
   "execution_count": null,
   "metadata": {},
   "outputs": [],
   "source": []
  }
 ],
 "metadata": {
  "kernelspec": {
   "display_name": "Python 3",
   "language": "python",
   "name": "python3"
  },
  "language_info": {
   "codemirror_mode": {
    "name": "ipython",
    "version": 3
   },
   "file_extension": ".py",
   "mimetype": "text/x-python",
   "name": "python",
   "nbconvert_exporter": "python",
   "pygments_lexer": "ipython3",
   "version": "3.6.4"
  }
 },
 "nbformat": 4,
 "nbformat_minor": 2
}
