{
 "cells": [
  {
   "cell_type": "code",
   "execution_count": 109,
   "metadata": {},
   "outputs": [],
   "source": [
    "import pandas as pd"
   ]
  },
  {
   "cell_type": "code",
   "execution_count": 262,
   "metadata": {},
   "outputs": [],
   "source": [
    "# filepath = \"/data/databases/all_reporting_data.csv\"\n",
    "filepath = \"/data/databases/reporting_experiment_results.csv\"\n",
    "df = pd.read_csv(filepath)"
   ]
  },
  {
   "cell_type": "code",
   "execution_count": 263,
   "metadata": {},
   "outputs": [
    {
     "data": {
      "text/plain": [
       "(250424, 17767)"
      ]
     },
     "execution_count": 263,
     "metadata": {},
     "output_type": "execute_result"
    }
   ],
   "source": [
    "df.shape[0], df.dropna().shape[0]"
   ]
  },
  {
   "cell_type": "code",
   "execution_count": 295,
   "metadata": {},
   "outputs": [],
   "source": [
    "import datetime\n",
    "\n",
    "def striptime1(x):\n",
    "    end_date = x\n",
    "    try:\n",
    "        return datetime.datetime.strptime(end_date, '%Y-%m-%d %H:%M:%S')\n",
    "    except:\n",
    "        # Some timestamps also have milliseconds\n",
    "        return datetime.datetime.strptime(end_date[:-7], '%Y-%m-%d %H:%M:%S')\n",
    "\n",
    "df['created'] = df['created_utc'].apply(striptime1)\n",
    "df['ingested'] = df['ingested_utc'].apply(striptime1)"
   ]
  },
  {
   "cell_type": "code",
   "execution_count": 265,
   "metadata": {},
   "outputs": [
    {
     "name": "stdout",
     "output_type": "stream",
     "text": [
      "Total number of comments ingested by Crossmod during the experiment =  250424\n",
      "Total number of comments reported by Crossmod during the experiment =  2686\n",
      "% of comments reported by Crossmod during the experiment =  1.07258090278887 %\n",
      "Total number of comments removed by moderators during the experiment =  17767\n",
      "% of comments removed by moderators during the experiment =  7.0947672747021056 %\n"
     ]
    }
   ],
   "source": [
    "print(\"Total number of comments ingested by Crossmod during the experiment = \", df.shape[0])\n",
    "print(\"Total number of comments reported by Crossmod during the experiment = \", df[df.crossmod_action == \"report\"].shape[0])\n",
    "print(\"% of comments reported by Crossmod during the experiment = \", 100.0 * df[df.crossmod_action == \"report\"].shape[0]/df.shape[0], \"%\")\n",
    "print(\"Total number of comments removed by moderators during the experiment = \", df[df.banned_by.notna()].shape[0])\n",
    "print(\"% of comments removed by moderators during the experiment = \", 100.0 * df[df.banned_by.notna()].shape[0]/df.shape[0], \"%\")"
   ]
  },
  {
   "cell_type": "code",
   "execution_count": 266,
   "metadata": {
    "scrolled": true
   },
   "outputs": [
    {
     "name": "stderr",
     "output_type": "stream",
     "text": [
      "/data/home/crossmod-dev/crossmod-retrain/env/lib/python3.6/site-packages/ipykernel_launcher.py:2: SettingWithCopyWarning: \n",
      "A value is trying to be set on a copy of a slice from a DataFrame.\n",
      "Try using .loc[row_indexer,col_indexer] = value instead\n",
      "\n",
      "See the caveats in the documentation: https://pandas.pydata.org/pandas-docs/stable/user_guide/indexing.html#returning-a-view-versus-a-copy\n",
      "  \n"
     ]
    },
    {
     "data": {
      "text/html": [
       "<div>\n",
       "<style scoped>\n",
       "    .dataframe tbody tr th:only-of-type {\n",
       "        vertical-align: middle;\n",
       "    }\n",
       "\n",
       "    .dataframe tbody tr th {\n",
       "        vertical-align: top;\n",
       "    }\n",
       "\n",
       "    .dataframe thead th {\n",
       "        text-align: right;\n",
       "    }\n",
       "</style>\n",
       "<table border=\"1\" class=\"dataframe\">\n",
       "  <thead>\n",
       "    <tr style=\"text-align: right;\">\n",
       "      <th></th>\n",
       "      <th>banned_by</th>\n",
       "      <th>freq</th>\n",
       "    </tr>\n",
       "  </thead>\n",
       "  <tbody>\n",
       "    <tr>\n",
       "      <th>12</th>\n",
       "      <td>AutoModerator</td>\n",
       "      <td>10789</td>\n",
       "    </tr>\n",
       "    <tr>\n",
       "      <th>20379</th>\n",
       "      <td>Agent_03</td>\n",
       "      <td>1658</td>\n",
       "    </tr>\n",
       "    <tr>\n",
       "      <th>518</th>\n",
       "      <td>lughnasadh</td>\n",
       "      <td>1518</td>\n",
       "    </tr>\n",
       "    <tr>\n",
       "      <th>20530</th>\n",
       "      <td>iTwalkers</td>\n",
       "      <td>736</td>\n",
       "    </tr>\n",
       "    <tr>\n",
       "      <th>2</th>\n",
       "      <td>V2O5</td>\n",
       "      <td>651</td>\n",
       "    </tr>\n",
       "    <tr>\n",
       "      <th>1945</th>\n",
       "      <td>lord_stryker</td>\n",
       "      <td>346</td>\n",
       "    </tr>\n",
       "    <tr>\n",
       "      <th>41414</th>\n",
       "      <td>Blank-Cheque</td>\n",
       "      <td>315</td>\n",
       "    </tr>\n",
       "    <tr>\n",
       "      <th>5092</th>\n",
       "      <td>ion-tom</td>\n",
       "      <td>314</td>\n",
       "    </tr>\n",
       "    <tr>\n",
       "      <th>2591</th>\n",
       "      <td>Stuttero</td>\n",
       "      <td>282</td>\n",
       "    </tr>\n",
       "    <tr>\n",
       "      <th>40424</th>\n",
       "      <td>KKalebBB</td>\n",
       "      <td>194</td>\n",
       "    </tr>\n",
       "    <tr>\n",
       "      <th>958</th>\n",
       "      <td>1</td>\n",
       "      <td>154</td>\n",
       "    </tr>\n",
       "    <tr>\n",
       "      <th>798</th>\n",
       "      <td>Yosarian2</td>\n",
       "      <td>144</td>\n",
       "    </tr>\n",
       "    <tr>\n",
       "      <th>7316</th>\n",
       "      <td>TransPlanetInjection</td>\n",
       "      <td>142</td>\n",
       "    </tr>\n",
       "    <tr>\n",
       "      <th>7839</th>\n",
       "      <td>Sirisian</td>\n",
       "      <td>139</td>\n",
       "    </tr>\n",
       "    <tr>\n",
       "      <th>12119</th>\n",
       "      <td>ImLivingAmongYou</td>\n",
       "      <td>112</td>\n",
       "    </tr>\n",
       "    <tr>\n",
       "      <th>197</th>\n",
       "      <td>ekser</td>\n",
       "      <td>86</td>\n",
       "    </tr>\n",
       "    <tr>\n",
       "      <th>1840</th>\n",
       "      <td>larsonthekidrs</td>\n",
       "      <td>49</td>\n",
       "    </tr>\n",
       "    <tr>\n",
       "      <th>3564</th>\n",
       "      <td>CivilServantBot</td>\n",
       "      <td>43</td>\n",
       "    </tr>\n",
       "    <tr>\n",
       "      <th>57132</th>\n",
       "      <td>gideonro</td>\n",
       "      <td>35</td>\n",
       "    </tr>\n",
       "    <tr>\n",
       "      <th>15140</th>\n",
       "      <td>Gobi_The_Mansoe</td>\n",
       "      <td>20</td>\n",
       "    </tr>\n",
       "    <tr>\n",
       "      <th>16271</th>\n",
       "      <td>CrossModerator</td>\n",
       "      <td>17</td>\n",
       "    </tr>\n",
       "    <tr>\n",
       "      <th>57460</th>\n",
       "      <td>n4noNuclei</td>\n",
       "      <td>13</td>\n",
       "    </tr>\n",
       "    <tr>\n",
       "      <th>6073</th>\n",
       "      <td>mind_bomber</td>\n",
       "      <td>8</td>\n",
       "    </tr>\n",
       "    <tr>\n",
       "      <th>14383</th>\n",
       "      <td>Buck-Nasty</td>\n",
       "      <td>1</td>\n",
       "    </tr>\n",
       "    <tr>\n",
       "      <th>24271</th>\n",
       "      <td>pizza_science</td>\n",
       "      <td>1</td>\n",
       "    </tr>\n",
       "  </tbody>\n",
       "</table>\n",
       "</div>"
      ],
      "text/plain": [
       "                  banned_by   freq\n",
       "12            AutoModerator  10789\n",
       "20379              Agent_03   1658\n",
       "518              lughnasadh   1518\n",
       "20530             iTwalkers    736\n",
       "2                      V2O5    651\n",
       "1945           lord_stryker    346\n",
       "41414          Blank-Cheque    315\n",
       "5092                ion-tom    314\n",
       "2591               Stuttero    282\n",
       "40424              KKalebBB    194\n",
       "958                       1    154\n",
       "798               Yosarian2    144\n",
       "7316   TransPlanetInjection    142\n",
       "7839               Sirisian    139\n",
       "12119      ImLivingAmongYou    112\n",
       "197                   ekser     86\n",
       "1840         larsonthekidrs     49\n",
       "3564        CivilServantBot     43\n",
       "57132              gideonro     35\n",
       "15140       Gobi_The_Mansoe     20\n",
       "16271        CrossModerator     17\n",
       "57460            n4noNuclei     13\n",
       "6073            mind_bomber      8\n",
       "14383            Buck-Nasty      1\n",
       "24271         pizza_science      1"
      ]
     },
     "execution_count": 266,
     "metadata": {},
     "output_type": "execute_result"
    }
   ],
   "source": [
    "sub_df = df[df.banned_by.notna()]\n",
    "sub_df['freq'] = sub_df.groupby('banned_by')['banned_by'].transform('count')\n",
    "sub_df[['banned_by', 'freq']].drop_duplicates().sort_values(['freq'], ascending = [False])"
   ]
  },
  {
   "cell_type": "code",
   "execution_count": 267,
   "metadata": {},
   "outputs": [
    {
     "data": {
      "text/plain": [
       "((250424, 12), (250424, 12))"
      ]
     },
     "execution_count": 267,
     "metadata": {},
     "output_type": "execute_result"
    }
   ],
   "source": [
    "df.shape, df[df.agreement_score.notna()].shape"
   ]
  },
  {
   "cell_type": "markdown",
   "metadata": {},
   "source": [
    "# Automod removals"
   ]
  },
  {
   "cell_type": "code",
   "execution_count": 268,
   "metadata": {},
   "outputs": [
    {
     "name": "stdout",
     "output_type": "stream",
     "text": [
      "Total number of comments removed by AutoModerator during the experiment =  10789\n",
      "% of removed comments that were removed by AutoModerator during the experiment =  60 %\n",
      "Number of comments reported by Crossmod that were subsequently removed by AutoModerator during the experiment =  304\n",
      "% of comments reported by Crossmod that were subsequently removed by AutoModerator during the experiment =  2 %\n"
     ]
    }
   ],
   "source": [
    "print(\"Total number of comments removed by AutoModerator during the experiment = \", df[df.banned_by == \"AutoModerator\"].shape[0])\n",
    "print(\"% of removed comments that were removed by AutoModerator during the experiment = \", int(100.0 * df[df.banned_by == \"AutoModerator\"].shape[0]/df[df.banned_by.notna()].shape[0]), \"%\")\n",
    "print(\"Number of comments reported by Crossmod that were subsequently removed by AutoModerator during the experiment = \" , df[(df.crossmod_action == \"report\") & (df.banned_by == \"AutoModerator\")].shape[0])\n",
    "print(\"% of comments reported by Crossmod that were subsequently removed by AutoModerator during the experiment = \" , int(100.0*df[(df.crossmod_action == \"report\") & (df.banned_by == \"AutoModerator\")].shape[0]/df[(df.banned_by == \"AutoModerator\")].shape[0]), \"%\")"
   ]
  },
  {
   "cell_type": "markdown",
   "metadata": {},
   "source": [
    "# Human moderator removals"
   ]
  },
  {
   "cell_type": "code",
   "execution_count": 269,
   "metadata": {},
   "outputs": [
    {
     "name": "stdout",
     "output_type": "stream",
     "text": [
      "Total number of comments removed by human moderators during the experiment =  6978\n",
      "% of removed comments that were removed by human mods during the experiment =  39 %\n",
      "Number of comments reported by Crossmod that were subsequently removed by human mods during the experiment =  1626\n",
      "% of comments reported by Crossmod that were subsequently removed by human mods during the experiment =  23 %\n"
     ]
    }
   ],
   "source": [
    "print(\"Total number of comments removed by human moderators during the experiment = \", df[(df.banned_by != \"AutoModerator\") & (df.banned_by.notna())].shape[0])\n",
    "print(\"% of removed comments that were removed by human mods during the experiment = \", int(100.0 * df[(df.banned_by != \"AutoModerator\") & (df.banned_by.notna())].shape[0]/df[df.banned_by.notna()].shape[0]), \"%\")\n",
    "print(\"Number of comments reported by Crossmod that were subsequently removed by human mods during the experiment = \", df[(df.crossmod_action == \"report\") & (df.banned_by != \"AutoModerator\") & (df.banned_by.notna())].shape[0])\n",
    "print(\"% of comments reported by Crossmod that were subsequently removed by human mods during the experiment = \", int(100*df[(df.crossmod_action == \"report\") & (df.banned_by != \"AutoModerator\") & (df.banned_by.notna())].shape[0]/df[(df.banned_by != \"AutoModerator\") & (df.banned_by.notna())].shape[0]), \"%\")"
   ]
  },
  {
   "cell_type": "markdown",
   "metadata": {},
   "source": [
    "# Crossmod reports"
   ]
  },
  {
   "cell_type": "code",
   "execution_count": 270,
   "metadata": {},
   "outputs": [
    {
     "name": "stdout",
     "output_type": "stream",
     "text": [
      "Total number of comments reported by Crossmod during the experiment =  2686\n",
      "% comments ingested that were reported by Crossmod during the experiment =  1 %\n",
      "Number of comments reported by Crossmod that were subsequently removed during the experiment =  1930\n",
      "% of comments reported by Crossmod that were subsequently removed during the experiment =  71 %\n"
     ]
    }
   ],
   "source": [
    "print(\"Total number of comments reported by Crossmod during the experiment = \", df[df.crossmod_action == \"report\"].shape[0])\n",
    "print(\"% comments ingested that were reported by Crossmod during the experiment = \", int(100.0 * df[df.crossmod_action == \"report\"].shape[0]/df.shape[0]), \"%\")\n",
    "print(\"Number of comments reported by Crossmod that were subsequently removed during the experiment = \", df[(df.crossmod_action == \"report\") & (df.banned_by.notna())].shape[0])\n",
    "print(\"% of comments reported by Crossmod that were subsequently removed during the experiment = \", int(100.0 * df[(df.crossmod_action == \"report\") & (df.banned_by.notna())].shape[0]/df[df.crossmod_action == \"report\"].shape[0]), \"%\")"
   ]
  },
  {
   "cell_type": "markdown",
   "metadata": {},
   "source": [
    "# FALSE POSITIVES - "
   ]
  },
  {
   "cell_type": "code",
   "execution_count": 271,
   "metadata": {
    "scrolled": true
   },
   "outputs": [
    {
     "name": "stdout",
     "output_type": "stream",
     "text": [
      "Excuuuuuse me for not knowing EVERYTHING like you obviously do.  Eat downvotes, ass.\n",
      "----------------------\n",
      "No one cares that you’re a bad person AND unfashionable.\n",
      "----------------------\n",
      "Fuck Trump.\n",
      "\n",
      "And fuck anyone stupid enough to have supported him for even one second.\n",
      "----------------------\n",
      "Title Holder: Donald J. Trump “Worst Person Ever Born”\n",
      "----------------------\n",
      "Trump one last \"fuck you\" before he hopefully gets kicked.\n",
      "----------------------\n",
      "Things where worse before Obama you dumb Trumper! Seriously you trumpers are ignoring that huge fact! Sorry but dumb fuck trump who wants to dump pesticides in our rivers and lakes can get fucked. He's just mad Obama did it and Obama was a times person of the year.\n",
      "----------------------\n",
      "The people who support Trump are disgusting people\n",
      "----------------------\n",
      "Dude you brought up greta because you have no arguments not based on outrage porn you swallow. Not,everyone is obsessed with your imagined culture war, its so pathetic.\n",
      "----------------------\n",
      "Haha, get fucked rural America, enjoy your maga bullshit, feel sorry for anon fascists trapped in rural and suburban shitholes who won't protect their own citizens\n",
      "----------------------\n",
      "They are in full \"FUCK THE PLANET\" mode, cheering its destruction.\n",
      "----------------------\n",
      "That third paragraph should be a stickied comment on every post in this sub.\n",
      "----------------------\n",
      "How do I get passed the email registry. Like fuck. I don’t wanna give you my fucking email. I just want to read the fucking information ya fuckin twat.\n",
      "----------------------\n",
      "The face of evil: destroy the world so you can make a buck because your geriatric ass is going to die soon anyways.\n",
      "\n",
      "Boomers are all pure fucking evil\n",
      "----------------------\n",
      "Yeah I’m sorry but your factually and patently fucking wrong if you’re trying to get people to vote for this criminal. You buy effort of voting for Trump are aiding in abetting a fucking traitor. There is no fucking person who calls himself a human being that looks at the things he’s removed for protection from the environmental protection agency and thinks that this is a fucking person who should be president you should be ashamed of yourself and I wish you would not fucking procreate another person that creates more fucking idiots like you\n",
      "----------------------\n",
      "Reminding you that and I’m just reminding you that everything you said was factually untrue Trump is literally everything you said is factually untrue and your support and someone who has 16,000 verified lies indoor mistress on record which makes you another yet again fucking terrible shitty person who shouldn’t be allowed to vote and never be allowed to breed and reproduce your ignorance hurts the entire fucking human species because he’s trying to take away all of our environmental protections and he’s assisting in the global destruction of the human race you should ice I literally cannot put into words how much I fucking hate you how much I hate him as well it’s fucking infuriating that people like you exist you’re allowed to vote and you’re allowed to rule the world around everyone else and you’re allowed to soak up any of her oxygen and that’s a fact you’re you’re just fucking allowed to do anything with the rest of us exist I want to move forward together do you like the idiot who wants to pull out a gun and shoot someone because you think it makes you feelSafer when in reality all it does is increase your chances of getting hurt by Said gun.\n",
      "----------------------\n",
      "Trump voters are a lost fucking cause who live in their own world.\n",
      "----------------------\n",
      "You know you want trump to win, dad\n",
      "----------------------\n",
      "you sound like my super racist uncle talking about mexicans.\n",
      "----------------------\n",
      "I know! I go to therapy every other week. Hah!\n",
      "\n",
      "Trump and Trump supporters and their endless ignorance are going to kill me.\n",
      "----------------------\n",
      "*president Trump. Give the proper title\n",
      "----------------------\n",
      "I'm going to have a fucking stroke. It's CONSTANT with this fucking moron\n",
      "----------------------\n",
      "Because assholes continue to pollute. Is that so hard for you fucking Trumpkins to understand?\n",
      "----------------------\n",
      "'**comments will be removed if they are disrespectful, off-topic, or spread misinformation'**\n",
      "\n",
      "Trump should be removed since his actions are disrespectful, off topic and spread misinformation.\n",
      "----------------------\n",
      "lmao look at OP's post history. Obvious right-winger.\n",
      "----------------------\n",
      ">indoctrination\n",
      "\n",
      "You are projecting. The under 30s overwhelmingly support the scientific method. \n",
      "\n",
      "People like you support whatever you already believe. Disgraceful.\n",
      "----------------------\n",
      "What a bunch of shit.  What else are people thinking fucktards?\n",
      "----------------------\n",
      "Oh. My bad. Your comment didnt get deleted. It got removed for probably spreading false information.\n",
      "----------------------\n",
      "Generation you all gonna die from global warming.\n",
      "----------------------\n",
      "FFS no wonder you're a fanboy.  You can't even understand a fucking analogy.\n",
      "----------------------\n",
      "Your just parroting Trump talking points now. I'm gonna laugh so hard when your God Emporer cries in his concession speech and has to dragged out of the white house.\n",
      "----------------------\n",
      "Socialists solved traffic jams a while ago, get some fucking trains morons.\n",
      "----------------------\n",
      "Fuck roundabouts so hard\n",
      "----------------------\n",
      "Problem is here in ‘Murcia, fuck you, no temporary lectitric sign is gonna tell me how to drive!\n",
      "----------------------\n",
      "this is how you kill pedestrians\n",
      "----------------------\n",
      "Thas fax tho, no printer.  Im all for kicking global warmings thicc ass\n",
      "----------------------\n",
      "Why would you call her a bitch?\n",
      "----------------------\n",
      "#BE HAPPY COS ALLAH ONLY WANT TO BURN JEWS, REDDIT, FACEBOOK, GOOGLE, YAHOO AND YOUTUBE FAMILY ALIVE, YEAHHH <br>\n",
      "https://m.vk.com/wall519091887_838\n",
      "\n",
      "No next time, you mean your family no next life is it. Lol\n",
      "----------------------\n",
      "No, you have shamed honor, now you must commit Reddit seppuku.\n",
      "----------------------\n",
      "Autofac by Phillip K Dick\n",
      "----------------------\n",
      "Holy fucking shit, can we ban news of mice studies on this sub-reddit please?\n",
      "----------------------\n",
      "Danke für die Teilnahme.\n",
      "Es handelt sich bei dieser Umfrage nicht um Teil einer Doktorarbeit. Sie stellt lediglich Hauptbestandteil einer simplen Aufgabe aus unserem Allgemeinbildungsunterricht dar. \n",
      "Ich danke für die/den Rückmeldung/Verbesserungsvorschlag doch ich denke man darf die Bemerkung bezüglich des Ihrer Meinung nach niedrig anzusetzenden Massstabs weglassen.\n",
      "----------------------\n",
      "Why is math so fucking stupid and weird?\n",
      "----------------------\n",
      "And then\n",
      "\n",
      "Women: \"Why are you asking\n",
      "----------------------\n",
      "Do you breathe air? Do you drink water? If you answered yes then stop voting for republicans you god damn fool because you are poisoning yourself.\n",
      "----------------------\n",
      "Everybody dust off your old copy of The Monkey Wrench Gang!\n",
      "----------------------\n",
      "99% of reddit is full of liberals like you, who just spout talking points. You didn’t even admit you were completely wrong about “kids in cages”....instead you just made excuses.\n",
      "----------------------\n",
      "Reddit administrators like to suck the dick of the president.\n",
      "----------------------\n",
      "Fuck him for doing this and fuck all his pompous asshole partners who helped him just to make a buck... Scumbags.\n",
      "----------------------\n",
      "Yet, despite how much yall hate him, America's carbon emissions are decreasing.... which makes america one of, if not the only country try on earth actually keeping carbon promises. \n",
      "\n",
      "Keep spreading fake and misleading news because you hate Trump.\n",
      "\n",
      "Here comes the downvotes.\n",
      "\n",
      "Sorry, I wont be able to respond because you guys will lock me out.\n",
      "----------------------\n",
      "We hate corporations that don’t give a shit about us or the planet. Trump is just the USEFUL IDIOT.\n",
      "----------------------\n",
      "Yeah and you guys wanna impeach him so we get President Pence lol.\n",
      "\n",
      "Dumb ass move, take a bumbling moron out of office to put a religious radical in 👏\n",
      "----------------------\n",
      "Them dickhead, I'm not a Republican.  And go fuck yourself with your 'don't comment' shit.\n",
      "----------------------\n",
      "You’ve called me multiple names and insinuated that I’m stupid for having my own opinion.  You’re no better than anyone else. Get over yourself.\n",
      "----------------------\n",
      "Because I'm not a Republican you stupid fuck...comprende?\n",
      "----------------------\n",
      "God, your dumb. Don't breed.\n",
      "----------------------\n",
      "You're so fucking WRONG dude.\n",
      "\n",
      "I will answer YES to all of your questions because - I'm not a COWARD\n",
      "----------------------\n",
      "Tac com locked.\n",
      "----------------------\n",
      "\"the states can regulate how they wish\"  \\*completely eviscerates teh ability fo california and also belittles their efforts to control their wildfires.  GET FUCKED YOU FUCKING RETARD\n",
      "----------------------\n",
      "A Trump voter advocating for a moderate Democrat candidate, no surprise here lol\n",
      "----------------------\n",
      "Downvote because you dare question the Reddit hive mind!\n",
      "----------------------\n",
      "Because you hang out on Reddit instead of literally anywhere in America.\n",
      "----------------------\n",
      "You essentially said \"Your wrong and dumb, is everyone this wrong and dumb?\". You dont actually say how this individual is wrong. It's a serious question.\n",
      "----------------------\n",
      "*fuck statistics*\n",
      "----------------------\n",
      "Hmmm... and yet the tobacco industry takes in BILLIONS of dollars. This guys an idiot\n",
      "----------------------\n",
      "Dave Ramsey is a fucking idiot with a cult following also.\n",
      "----------------------\n",
      "No you idiot\n",
      "----------------------\n",
      "Good keep the stock prices low so I can buy all that shit up.  If you think fossil fuels are just going to go away, you're an idiot.\n",
      "----------------------\n",
      "Oil fucking sucks\n",
      "----------------------\n",
      "And those of us who do give a fuck about privacy don't give a fuck about your stupid fucking opinion. My rights will not be infringed upon because you don't care about yours.\n",
      "----------------------\n",
      "Having stupid fucking opinions is also a personal choice.\n",
      "----------------------\n",
      "dude you’re such a buzz kill\n",
      "----------------------\n",
      "get triggered scrub\n",
      "----------------------\n",
      "Yet another idiot post from you. I think you've found your calling in life.\n",
      "----------------------\n",
      "Jesus your post history is cancer. You're a fuckin disease.\n",
      "----------------------\n",
      "While you were sleeping with Donald Trump this happened\n",
      "----------------------\n",
      "The fact that your still commenting is a massive lol!  Your life is a waste!\n",
      "----------------------\n",
      "^typical lame-ass redditor response.  “Oh, you don’t like children who want to make the world a better place?”  \n",
      "\n",
      "You could spin Naziism to sound like the words of Jesus, and everyone would upvote you.\n",
      "----------------------\n",
      "Says who? The fucking tabloids?\n",
      "----------------------\n",
      "I'm a retard?  Please leave this sub before you're reported.  This isn't how you hold conversations about the future.  Grow up.\n",
      "----------------------\n",
      "He called her a hypocrite, a stupid idiot, and a weird Swede. When you say he wasn't attacking her you are dead wrong.\n",
      "----------------------\n",
      "Hey guys, check out this Jesus freak over here... Talking about human rights, like a schmuck.\n",
      "----------------------\n",
      "Lol please provide these studies that you speak of\n",
      "----------------------\n",
      "And this, people, is why you should not be getting ALL your news from Facebook!\n",
      "----------------------\n",
      "Please stop spreading your climate change denying propaganda and lies. Thanks.\n",
      "----------------------\n",
      "Mate, if you think calling someone a stupid idiot and a weird whatever-nationality-they-are isn't an attack I'm very glad I don't have to associate with you in real life. Anything you're saying becomes an attack on someone if you say they're a stupid idiot because of it.\n",
      "----------------------\n",
      "Prove you’re a lawyer\n",
      "----------------------\n",
      "That's why if you are a manager and you are always right you are fucked.\n",
      "----------------------\n",
      "eh just dont post shit you might regret.  \n",
      "\n",
      "\n",
      "all the morons sending nudes and complaining they get put online are idiots. relationships tend to go bad, why the hell would anyone send anything an ex can use against them?  \n",
      "\n",
      "\n",
      "next why even send them in the first place? just meet up or some shit ffs.  \n",
      "\n",
      "\n",
      "its how ive done it, never post or send anything to anyone, all i use is reddit and everything i post here im happy for anyone to read.\n",
      "----------------------\n",
      "*Dance like nobody's watching*\n",
      "\n",
      "*Love like you've never been hurt*\n",
      "\n",
      "*Sing like nobody's listening*\n",
      "\n",
      "*Act like you have no mass*\n",
      "\n",
      "&nbsp;\n",
      "\n",
      "— Ancient white people proverb\n",
      "----------------------\n",
      "Fucking Agnostics.\n",
      "----------------------\n",
      "check his post history, its yikesworthy\n",
      "----------------------\n",
      "Why does this sub specifically bring out the fucking conspiracy theorists>\n",
      "----------------------\n",
      "\"stop eating meat\"\n",
      "Lol\n",
      "You're funny\n",
      "----------------------\n",
      "WTF! I already made this post and I got less upvotes and comments!! https://www.reddit.com/r/Futurology/comments/eyyac3/antisolar_panels_pointed_at_space_could_generate/ CHEATER!! :(\n",
      "----------------------\n",
      "whatever and i dont want to talk about you and your problem of shit\n",
      "----------------------\n",
      "Nobody cares\n",
      "----------------------\n",
      "What a stupid fucking thing to say.\n",
      "----------------------\n",
      "And who says Reddit can't be civilized?  :)\n",
      "----------------------\n",
      "I'm just a dick, you're the asshole.\n",
      "----------------------\n",
      "Why, so you can post all your red-hat garbage for all your moron friends?  No thanks.\n",
      "----------------------\n"
     ]
    }
   ],
   "source": [
    "for comment in df[(df.crossmod_action == \"report\") & (df.banned_by.isna())].body[:100]:\n",
    "    print(comment)\n",
    "    print(\"----------------------\")"
   ]
  },
  {
   "cell_type": "markdown",
   "metadata": {},
   "source": [
    "# FALSE NEGATIVES - "
   ]
  },
  {
   "cell_type": "code",
   "execution_count": 272,
   "metadata": {
    "scrolled": true
   },
   "outputs": [
    {
     "name": "stdout",
     "output_type": "stream",
     "text": [
      ">Nope. They are about in the middle:   \n",
      ">  \n",
      ">https://ec.europa.eu/eurostat/statistics-explained/index.php/Electricity\\_price\\_statistics\n",
      "\n",
      "Fine was mostly referring to non-former-soviet-bloc nations. Former USSR nations have exceptionally cheap electricity due to lower labor costs and laxer safety / environmental standards. Most of the nations with electricity cheaper than France are primarily coal-based.   \n",
      "\n",
      "\n",
      ">  \n",
      " Germany and Denmark are the most expensive for consumers in this regard, so they are the extreme outliers. Ukraine has electricity 1/4 the price of France, for example. France has electricity prices similar to Sweden, but more expensive than Finland or Iceland, for context..\n",
      "\n",
      "Finland, Iceland, Norway, etc have cheaper electricity but that is largely due to the vast amount of hydro resources they have. Hydro is definitely cheaper than nuclear under the right circumstances but requires certain geography. Germany is a perfect comparison due to similar geography, climate, development level, population size, and standard of living. We are also trying to compare costs of wind / solar to nuclear, not coal / natural gas to nuclear. \n",
      "\n",
      "&#x200B;\n",
      "\n",
      ">It's the opposite. The full costs of wind and solar are accounted for. It's nuclear and fossil fuels that hide their true costs, as the costs of the environmental impacts are externalised, unlike with renewables.\n",
      "\n",
      "HAHAHAHAHAHAHAHA Fuck no. This is so fucking dumb I don't know where to start. Nuclear has the absolute lowest environmental footprint of any power source. Two words: **ENERGY DENSITY** . If you lack the cognative capacity to understand those two words then you don't have a leg to stand on in this conversation. Energy density is a direct correlation to environmental impact. Solar needs \\~ 450x the land area as nuclear, wind \\~400x. Solar requires about 17x the amount of raw mined resources per kWh as nuclear and wind  about 11x. Note these numbers actually get much much worse with increased wind / solar penetration due to curtailment and storage requirements. Wrapped up in nuclear power costs are decommissioning costs, fuel disposal costs, safety costs, etc. Funds for decommissioning and fuel disposal are accrued from day 1 of operation. Renewable environmental costs are externalized to fucking china and other developing nations with low environmental standards. \n",
      "\n",
      "[http://environmentalprogress.org/the-complete-case-for-nuclear](http://environmentalprogress.org/the-complete-case-for-nuclear)\n",
      "----------------------\n",
      "🎵 here comes the sun 🎵\n",
      "----------------------\n",
      "Genius\n",
      "----------------------\n",
      "Fags\n",
      "----------------------\n",
      "Same. I also really hope that's the case.\n",
      "----------------------\n",
      "how feasible is it to power a global economy with hydrogen from seawater? i know people are buying up fresh water reserves like soon it will be a commodity. obviously theres a lot more ocean water, but at what rate would it be consumed? on a mass scale, what about all the oxygen it would introduce? not saying it would be a catastrophe, but would there be any consequences?\n",
      "----------------------\n",
      "r/unexpectedAirplane\n",
      "----------------------\n",
      "Balaced diet suggestion by doctors is an attempt to prevent people from eating only unhealthy shit like oils, sugar and fats. Nobody needs any of that shit. Also, omnivore means you have the ability to eat all kinds of foods, not that doing so is healthy or good for you. All other great apes are also omnivores, but their diets are 99% plants. What a dumb fucking comment you've written.\n",
      "----------------------\n",
      "Do home filters filter out these chemicals?\n",
      "----------------------\n",
      "Well they're opposed to the Irani regime, as opposed to the Spanish regime. The latter of which is democratic.\n",
      "----------------------\n",
      "That may be the only current comp\n",
      "----------------------\n",
      "Yeah, get a job, hippie! Lol.\n",
      "----------------------\n",
      "No I'm just saying that nazis bad, commies bad, fundamentalists bad. And if someone gotta do something unethical, if it is done against a regime that is worth condemning, an argument can be made in its defense.\n",
      "----------------------\n",
      "Bravo 👏🏻 Fact checking is the new lord.\n",
      "----------------------\n",
      "I just want a bunker to say I have a bunker.\n",
      "----------------------\n",
      "This has proto molecule written all over it!\n",
      "----------------------\n",
      "Can it make something useful, like electricity?\n",
      "----------------------\n",
      "Stellaris?\n",
      "----------------------\n",
      "No it doesn't depend on that.\n",
      "\n",
      "You'd just get murdered anyway.\n",
      "\n",
      "If you were a fucking political hack that forced his way onto the crew, with no skills, just a waste of air and water, the second you put the group in danger for the first time, they'd fucking murder you to prevent you from killing everyone with your stupidity and incompetence.\n",
      "\n",
      "You'd have to be fucking high on crack to think actual astronauts millions of miles from home would just fucking carry you as dead weight.\n",
      "----------------------\n",
      "Nice try boomers\n",
      "----------------------\n",
      "It is.\n",
      "----------------------\n",
      "Good question.  Kinetic watches are awesome but they actually don't charge at all. Automatic and what people call perpetual simply wind a tiny spring when you move using a weight and tons of gears.  \n",
      "\n",
      "Seiko makes a neat watch that uses spring movement to generate enough electricity to power the movement.    This gives you the feel and function of a mechanical watch \"smooth second hand instead of ticks\"  but uses a quartz crystal to keep time so it's never off by a second.\n",
      "----------------------\n",
      "Has your little brain run out of juice? Don't have any BS ''math\" you can use to refute what I said? Too proud to admit you don't know what you're saying or even just delete your moronic comments? pathetic. but then i expect no less from 14 year old knowitall reddit trolls.\n",
      "----------------------\n",
      "Lol what??\n",
      "----------------------\n",
      "If we can harness the nrg from the sun and use it for cars and every thing else that would be the greatest day in the history of the world\n",
      "----------------------\n",
      "Buuuuuuuut?\n",
      "----------------------\n",
      "it's not meat\n",
      "----------------------\n",
      "its\n",
      "----------------------\n",
      "The apocalypse was inside us all along!\n",
      "----------------------\n",
      "FOX!  ........\n",
      "\n",
      "\n",
      "..... DIE!\n",
      "----------------------\n",
      "Also, how much of it is there on earth? Of it's a super rare element, we might literally run out as soon as it starts getting mass market adoption.\n",
      "----------------------\n",
      "mindblown.gif\n",
      "----------------------\n",
      "Hillary\n",
      "----------------------\n",
      "And then [the robots will start killing all the humans](http://trove42.com/alexa-tells-owner-i-see-people-dying/)\n",
      "----------------------\n",
      "whoops.\n",
      "----------------------\n",
      "Oh please.\n",
      "----------------------\n",
      "Nothing a little austerity can't fix\n",
      "----------------------\n",
      "This is how it starts.\n",
      "----------------------\n",
      "You're saying we still have work to do?\n",
      "----------------------\n",
      "We're winning!\n",
      "----------------------\n",
      "When you dry and scrape that resin\n",
      "----------------------\n",
      "Well well we'll. Aren't we an intelligent species\n",
      "----------------------\n",
      "True Scotsman fallacy.  \n",
      "\n",
      "Sanders is not a democrat.  He says so all the time.  \n",
      "\n",
      "You have been on reddit for only a year.  That means you are problem a Russian troll.  Go away.\n",
      "----------------------\n",
      "Maybe we can find Rohdium in space rocks\n",
      "----------------------\n",
      "Good\n",
      "----------------------\n",
      "We will be star eaters.\n",
      "----------------------\n",
      "are now on their way to crush the party\n",
      "----------------------\n",
      "Poetic\n",
      "----------------------\n",
      "Humans are a parasite\n",
      "----------------------\n",
      "lets ditch the Space Force for a Climate Force - where we moonshot the hell out of new energy concepts and hunt, trap and contain climate terrorists. And, yes, of course, climate force uniforms will be in camo.\n",
      "----------------------\n",
      "humans are a virus\n",
      "----------------------\n",
      "Do you really want woolly mammoths running amok\n",
      "----------------------\n",
      "“Futorology”\n",
      "----------------------\n",
      "Seems a little exaggerated.\n",
      "----------------------\n",
      "Hmm left handed DNA in that stock image ಠ_ಠ\n",
      "----------------------\n",
      "Extinction is natural and far predates humans.\n",
      "----------------------\n",
      "Snap..\n",
      "----------------------\n",
      "We suck, again :(\n",
      "----------------------\n",
      "Aliens. Welcome to our monetary sanctuary plantet.  Where we only protect money!\n",
      "----------------------\n",
      "Whoops!\n",
      "----------------------\n",
      "Chemtrails\n",
      "----------------------\n",
      "But we leave the cockroaches. Stupid Humans.\n",
      "----------------------\n",
      "Get wrecked, mammals and plants\n",
      "----------------------\n",
      "Let's go for a full combo\n",
      "----------------------\n",
      "Literally\n",
      "----------------------\n",
      "r/collapse\n",
      "----------------------\n",
      "We're almost there!\n",
      "----------------------\n",
      "sure... if you are a  *Turritopsis dohrnii -* ..\n",
      "----------------------\n",
      "83% is at most B+\n",
      "----------------------\n",
      "Annnnnd the powers that be will deny it.\n",
      "----------------------\n",
      "gg ez\n",
      "----------------------\n",
      "I blame the vegans!\n",
      "----------------------\n",
      "Its not the wurst unless it's Boarst wurst!\n",
      "----------------------\n",
      "Common guys keep going we’re almost there!\n",
      "----------------------\n",
      "Almost done y’all! KEEP IT UP!!\n",
      "----------------------\n",
      "Whatever, Greta..\n",
      "----------------------\n",
      "RIP Mufasa the King\n",
      "----------------------\n",
      "High Five!!!\n",
      "----------------------\n",
      "*”All fake news from the libtard socialists.”*\n",
      "\n",
      "-Conservatives\n",
      "----------------------\n",
      "Lol says the Americunt.\n",
      "\n",
      "Shouldn’t you be mutilating infants right now you spastic?\n",
      "----------------------\n",
      "Those are rookie numbers!\n",
      "----------------------\n",
      "Ok\n",
      "----------------------\n",
      "Merica!!\n",
      "----------------------\n",
      "Has killed or has helped kill?\n",
      "----------------------\n",
      "We are #1!!!\n",
      "----------------------\n",
      "Humanity like it’s my fault smh\n",
      "----------------------\n",
      "So far 🤔\n",
      "----------------------\n",
      "Fuck we’re good.\n",
      "----------------------\n",
      "Half way there boys!\n",
      "----------------------\n",
      "I think we can get 85% if we try harder...\n",
      "----------------------\n",
      "“Hey, remember birds?” - my kid when he’s my age\n",
      "----------------------\n",
      "We rule!\n",
      "----------------------\n",
      "Futurology getting it right for once.\n",
      "----------------------\n",
      "Republicans be like: “nah”\n",
      "----------------------\n",
      "Reigning champions!\n",
      "----------------------\n",
      "We only like the tasty ones...\n",
      "----------------------\n",
      "Refugee management AI platforms.\n",
      "----------------------\n",
      "And we’re not done yet!\n",
      "----------------------\n",
      "r/collapse\n",
      "----------------------\n",
      "Just shows what a truly cancerous species we are\n",
      "----------------------\n"
     ]
    }
   ],
   "source": [
    "for comment in df[(df.crossmod_action != \"report\") & (df.banned_by.notna())].body[:100]:\n",
    "    print(comment)\n",
    "    print(\"----------------------\")"
   ]
  },
  {
   "cell_type": "markdown",
   "metadata": {},
   "source": [
    "# Users who've been reported and removed multiple times"
   ]
  },
  {
   "cell_type": "code",
   "execution_count": 273,
   "metadata": {
    "scrolled": true
   },
   "outputs": [
    {
     "data": {
      "text/html": [
       "<div>\n",
       "<style scoped>\n",
       "    .dataframe tbody tr th:only-of-type {\n",
       "        vertical-align: middle;\n",
       "    }\n",
       "\n",
       "    .dataframe tbody tr th {\n",
       "        vertical-align: top;\n",
       "    }\n",
       "\n",
       "    .dataframe thead th {\n",
       "        text-align: right;\n",
       "    }\n",
       "</style>\n",
       "<table border=\"1\" class=\"dataframe\">\n",
       "  <thead>\n",
       "    <tr style=\"text-align: right;\">\n",
       "      <th></th>\n",
       "      <th>author</th>\n",
       "      <th>freq</th>\n",
       "    </tr>\n",
       "  </thead>\n",
       "  <tbody>\n",
       "    <tr>\n",
       "      <th>84856</th>\n",
       "      <td>CivilServantBot</td>\n",
       "      <td>1431</td>\n",
       "    </tr>\n",
       "    <tr>\n",
       "      <th>2957</th>\n",
       "      <td>kernals12</td>\n",
       "      <td>796</td>\n",
       "    </tr>\n",
       "    <tr>\n",
       "      <th>1412</th>\n",
       "      <td>OliverSparrow</td>\n",
       "      <td>616</td>\n",
       "    </tr>\n",
       "    <tr>\n",
       "      <th>2234</th>\n",
       "      <td>Agent_03</td>\n",
       "      <td>518</td>\n",
       "    </tr>\n",
       "    <tr>\n",
       "      <th>114</th>\n",
       "      <td>Memetic1</td>\n",
       "      <td>484</td>\n",
       "    </tr>\n",
       "    <tr>\n",
       "      <th>...</th>\n",
       "      <td>...</td>\n",
       "      <td>...</td>\n",
       "    </tr>\n",
       "    <tr>\n",
       "      <th>91300</th>\n",
       "      <td>NappingYG</td>\n",
       "      <td>1</td>\n",
       "    </tr>\n",
       "    <tr>\n",
       "      <th>91302</th>\n",
       "      <td>AT1313</td>\n",
       "      <td>1</td>\n",
       "    </tr>\n",
       "    <tr>\n",
       "      <th>91304</th>\n",
       "      <td>runetrantor</td>\n",
       "      <td>1</td>\n",
       "    </tr>\n",
       "    <tr>\n",
       "      <th>91307</th>\n",
       "      <td>BCSteve</td>\n",
       "      <td>1</td>\n",
       "    </tr>\n",
       "    <tr>\n",
       "      <th>250423</th>\n",
       "      <td>mikeymikeymotor</td>\n",
       "      <td>1</td>\n",
       "    </tr>\n",
       "  </tbody>\n",
       "</table>\n",
       "<p>84005 rows × 2 columns</p>\n",
       "</div>"
      ],
      "text/plain": [
       "                 author  freq\n",
       "84856   CivilServantBot  1431\n",
       "2957          kernals12   796\n",
       "1412      OliverSparrow   616\n",
       "2234           Agent_03   518\n",
       "114            Memetic1   484\n",
       "...                 ...   ...\n",
       "91300         NappingYG     1\n",
       "91302            AT1313     1\n",
       "91304       runetrantor     1\n",
       "91307           BCSteve     1\n",
       "250423  mikeymikeymotor     1\n",
       "\n",
       "[84005 rows x 2 columns]"
      ]
     },
     "execution_count": 273,
     "metadata": {},
     "output_type": "execute_result"
    }
   ],
   "source": [
    "#author posting volumes\n",
    "sub_df = df\n",
    "sub_df['freq'] = sub_df.groupby('author')['author'].transform('count')\n",
    "sub_df[['author', 'freq']].drop_duplicates().sort_values(['freq'], ascending = [False])"
   ]
  },
  {
   "cell_type": "code",
   "execution_count": 274,
   "metadata": {
    "scrolled": true
   },
   "outputs": [
    {
     "name": "stderr",
     "output_type": "stream",
     "text": [
      "/data/home/crossmod-dev/crossmod-retrain/env/lib/python3.6/site-packages/ipykernel_launcher.py:3: SettingWithCopyWarning: \n",
      "A value is trying to be set on a copy of a slice from a DataFrame.\n",
      "Try using .loc[row_indexer,col_indexer] = value instead\n",
      "\n",
      "See the caveats in the documentation: https://pandas.pydata.org/pandas-docs/stable/user_guide/indexing.html#returning-a-view-versus-a-copy\n",
      "  This is separate from the ipykernel package so we can avoid doing imports until\n"
     ]
    },
    {
     "data": {
      "text/html": [
       "<div>\n",
       "<style scoped>\n",
       "    .dataframe tbody tr th:only-of-type {\n",
       "        vertical-align: middle;\n",
       "    }\n",
       "\n",
       "    .dataframe tbody tr th {\n",
       "        vertical-align: top;\n",
       "    }\n",
       "\n",
       "    .dataframe thead th {\n",
       "        text-align: right;\n",
       "    }\n",
       "</style>\n",
       "<table border=\"1\" class=\"dataframe\">\n",
       "  <thead>\n",
       "    <tr style=\"text-align: right;\">\n",
       "      <th></th>\n",
       "      <th>author</th>\n",
       "      <th>freq</th>\n",
       "    </tr>\n",
       "  </thead>\n",
       "  <tbody>\n",
       "    <tr>\n",
       "      <th>24255</th>\n",
       "      <td>only-answer-no</td>\n",
       "      <td>183</td>\n",
       "    </tr>\n",
       "    <tr>\n",
       "      <th>8428</th>\n",
       "      <td>PatriotMinear</td>\n",
       "      <td>34</td>\n",
       "    </tr>\n",
       "    <tr>\n",
       "      <th>11980</th>\n",
       "      <td>r1xlx</td>\n",
       "      <td>28</td>\n",
       "    </tr>\n",
       "    <tr>\n",
       "      <th>6321</th>\n",
       "      <td>Ford456fgfd</td>\n",
       "      <td>24</td>\n",
       "    </tr>\n",
       "    <tr>\n",
       "      <th>222081</th>\n",
       "      <td>Speedster4206</td>\n",
       "      <td>23</td>\n",
       "    </tr>\n",
       "    <tr>\n",
       "      <th>...</th>\n",
       "      <td>...</td>\n",
       "      <td>...</td>\n",
       "    </tr>\n",
       "    <tr>\n",
       "      <th>48308</th>\n",
       "      <td>RickSanchezzC137</td>\n",
       "      <td>1</td>\n",
       "    </tr>\n",
       "    <tr>\n",
       "      <th>48318</th>\n",
       "      <td>paulwesley91</td>\n",
       "      <td>1</td>\n",
       "    </tr>\n",
       "    <tr>\n",
       "      <th>48329</th>\n",
       "      <td>tidho</td>\n",
       "      <td>1</td>\n",
       "    </tr>\n",
       "    <tr>\n",
       "      <th>48346</th>\n",
       "      <td>jmc15john</td>\n",
       "      <td>1</td>\n",
       "    </tr>\n",
       "    <tr>\n",
       "      <th>243786</th>\n",
       "      <td>TheMoonstomper</td>\n",
       "      <td>1</td>\n",
       "    </tr>\n",
       "  </tbody>\n",
       "</table>\n",
       "<p>12989 rows × 2 columns</p>\n",
       "</div>"
      ],
      "text/plain": [
       "                  author  freq\n",
       "24255     only-answer-no   183\n",
       "8428       PatriotMinear    34\n",
       "11980              r1xlx    28\n",
       "6321         Ford456fgfd    24\n",
       "222081     Speedster4206    23\n",
       "...                  ...   ...\n",
       "48308   RickSanchezzC137     1\n",
       "48318       paulwesley91     1\n",
       "48329              tidho     1\n",
       "48346          jmc15john     1\n",
       "243786    TheMoonstomper     1\n",
       "\n",
       "[12989 rows x 2 columns]"
      ]
     },
     "execution_count": 274,
     "metadata": {},
     "output_type": "execute_result"
    }
   ],
   "source": [
    "#author removal volumes\n",
    "sub_df = df[df.banned_by.notna()]\n",
    "sub_df['freq'] = sub_df.groupby('author')['author'].transform('count')\n",
    "sub_df[['author', 'freq']].drop_duplicates().sort_values(['freq'], ascending = [False])"
   ]
  },
  {
   "cell_type": "code",
   "execution_count": 275,
   "metadata": {
    "scrolled": true
   },
   "outputs": [
    {
     "name": "stderr",
     "output_type": "stream",
     "text": [
      "/data/home/crossmod-dev/crossmod-retrain/env/lib/python3.6/site-packages/ipykernel_launcher.py:3: SettingWithCopyWarning: \n",
      "A value is trying to be set on a copy of a slice from a DataFrame.\n",
      "Try using .loc[row_indexer,col_indexer] = value instead\n",
      "\n",
      "See the caveats in the documentation: https://pandas.pydata.org/pandas-docs/stable/user_guide/indexing.html#returning-a-view-versus-a-copy\n",
      "  This is separate from the ipykernel package so we can avoid doing imports until\n"
     ]
    },
    {
     "data": {
      "text/html": [
       "<div>\n",
       "<style scoped>\n",
       "    .dataframe tbody tr th:only-of-type {\n",
       "        vertical-align: middle;\n",
       "    }\n",
       "\n",
       "    .dataframe tbody tr th {\n",
       "        vertical-align: top;\n",
       "    }\n",
       "\n",
       "    .dataframe thead th {\n",
       "        text-align: right;\n",
       "    }\n",
       "</style>\n",
       "<table border=\"1\" class=\"dataframe\">\n",
       "  <thead>\n",
       "    <tr style=\"text-align: right;\">\n",
       "      <th></th>\n",
       "      <th>author</th>\n",
       "      <th>freq</th>\n",
       "    </tr>\n",
       "  </thead>\n",
       "  <tbody>\n",
       "    <tr>\n",
       "      <th>84856</th>\n",
       "      <td>CivilServantBot</td>\n",
       "      <td>24</td>\n",
       "    </tr>\n",
       "    <tr>\n",
       "      <th>2101</th>\n",
       "      <td>captain-ding-a-ling</td>\n",
       "      <td>9</td>\n",
       "    </tr>\n",
       "    <tr>\n",
       "      <th>225754</th>\n",
       "      <td>Saichotic</td>\n",
       "      <td>9</td>\n",
       "    </tr>\n",
       "    <tr>\n",
       "      <th>179706</th>\n",
       "      <td>downvotedreality</td>\n",
       "      <td>8</td>\n",
       "    </tr>\n",
       "    <tr>\n",
       "      <th>115136</th>\n",
       "      <td>xcvas</td>\n",
       "      <td>6</td>\n",
       "    </tr>\n",
       "    <tr>\n",
       "      <th>...</th>\n",
       "      <td>...</td>\n",
       "      <td>...</td>\n",
       "    </tr>\n",
       "    <tr>\n",
       "      <th>73926</th>\n",
       "      <td>gemlarin</td>\n",
       "      <td>1</td>\n",
       "    </tr>\n",
       "    <tr>\n",
       "      <th>73809</th>\n",
       "      <td>Fisterbrother</td>\n",
       "      <td>1</td>\n",
       "    </tr>\n",
       "    <tr>\n",
       "      <th>73712</th>\n",
       "      <td>Dram1us</td>\n",
       "      <td>1</td>\n",
       "    </tr>\n",
       "    <tr>\n",
       "      <th>73502</th>\n",
       "      <td>I_Drink_Diarrhea</td>\n",
       "      <td>1</td>\n",
       "    </tr>\n",
       "    <tr>\n",
       "      <th>250396</th>\n",
       "      <td>Electrical_Fish</td>\n",
       "      <td>1</td>\n",
       "    </tr>\n",
       "  </tbody>\n",
       "</table>\n",
       "<p>2298 rows × 2 columns</p>\n",
       "</div>"
      ],
      "text/plain": [
       "                     author  freq\n",
       "84856       CivilServantBot    24\n",
       "2101    captain-ding-a-ling     9\n",
       "225754            Saichotic     9\n",
       "179706     downvotedreality     8\n",
       "115136                xcvas     6\n",
       "...                     ...   ...\n",
       "73926              gemlarin     1\n",
       "73809         Fisterbrother     1\n",
       "73712               Dram1us     1\n",
       "73502      I_Drink_Diarrhea     1\n",
       "250396      Electrical_Fish     1\n",
       "\n",
       "[2298 rows x 2 columns]"
      ]
     },
     "execution_count": 275,
     "metadata": {},
     "output_type": "execute_result"
    }
   ],
   "source": [
    "#author reported volumes\n",
    "sub_df = df[df.crossmod_action == \"report\"]\n",
    "sub_df['freq'] = sub_df.groupby('author')['author'].transform('count')\n",
    "sub_df[['author', 'freq']].drop_duplicates().sort_values(['freq'], ascending = [False])"
   ]
  },
  {
   "cell_type": "code",
   "execution_count": 276,
   "metadata": {
    "scrolled": true
   },
   "outputs": [
    {
     "name": "stderr",
     "output_type": "stream",
     "text": [
      "/data/home/crossmod-dev/crossmod-retrain/env/lib/python3.6/site-packages/ipykernel_launcher.py:3: SettingWithCopyWarning: \n",
      "A value is trying to be set on a copy of a slice from a DataFrame.\n",
      "Try using .loc[row_indexer,col_indexer] = value instead\n",
      "\n",
      "See the caveats in the documentation: https://pandas.pydata.org/pandas-docs/stable/user_guide/indexing.html#returning-a-view-versus-a-copy\n",
      "  This is separate from the ipykernel package so we can avoid doing imports until\n"
     ]
    },
    {
     "data": {
      "text/html": [
       "<div>\n",
       "<style scoped>\n",
       "    .dataframe tbody tr th:only-of-type {\n",
       "        vertical-align: middle;\n",
       "    }\n",
       "\n",
       "    .dataframe tbody tr th {\n",
       "        vertical-align: top;\n",
       "    }\n",
       "\n",
       "    .dataframe thead th {\n",
       "        text-align: right;\n",
       "    }\n",
       "</style>\n",
       "<table border=\"1\" class=\"dataframe\">\n",
       "  <thead>\n",
       "    <tr style=\"text-align: right;\">\n",
       "      <th></th>\n",
       "      <th>author</th>\n",
       "      <th>freq</th>\n",
       "    </tr>\n",
       "  </thead>\n",
       "  <tbody>\n",
       "    <tr>\n",
       "      <th>2101</th>\n",
       "      <td>captain-ding-a-ling</td>\n",
       "      <td>8</td>\n",
       "    </tr>\n",
       "    <tr>\n",
       "      <th>225754</th>\n",
       "      <td>Saichotic</td>\n",
       "      <td>8</td>\n",
       "    </tr>\n",
       "    <tr>\n",
       "      <th>179706</th>\n",
       "      <td>downvotedreality</td>\n",
       "      <td>7</td>\n",
       "    </tr>\n",
       "    <tr>\n",
       "      <th>115136</th>\n",
       "      <td>xcvas</td>\n",
       "      <td>6</td>\n",
       "    </tr>\n",
       "    <tr>\n",
       "      <th>97361</th>\n",
       "      <td>MatrimofRavens</td>\n",
       "      <td>5</td>\n",
       "    </tr>\n",
       "    <tr>\n",
       "      <th>...</th>\n",
       "      <td>...</td>\n",
       "      <td>...</td>\n",
       "    </tr>\n",
       "    <tr>\n",
       "      <th>69176</th>\n",
       "      <td>Uridon2</td>\n",
       "      <td>1</td>\n",
       "    </tr>\n",
       "    <tr>\n",
       "      <th>69101</th>\n",
       "      <td>Jertee</td>\n",
       "      <td>1</td>\n",
       "    </tr>\n",
       "    <tr>\n",
       "      <th>69089</th>\n",
       "      <td>ThaneWestbrook</td>\n",
       "      <td>1</td>\n",
       "    </tr>\n",
       "    <tr>\n",
       "      <th>69066</th>\n",
       "      <td>neonlightdistrict</td>\n",
       "      <td>1</td>\n",
       "    </tr>\n",
       "    <tr>\n",
       "      <th>243511</th>\n",
       "      <td>Carlospicante</td>\n",
       "      <td>1</td>\n",
       "    </tr>\n",
       "  </tbody>\n",
       "</table>\n",
       "<p>1687 rows × 2 columns</p>\n",
       "</div>"
      ],
      "text/plain": [
       "                     author  freq\n",
       "2101    captain-ding-a-ling     8\n",
       "225754            Saichotic     8\n",
       "179706     downvotedreality     7\n",
       "115136                xcvas     6\n",
       "97361        MatrimofRavens     5\n",
       "...                     ...   ...\n",
       "69176               Uridon2     1\n",
       "69101                Jertee     1\n",
       "69089        ThaneWestbrook     1\n",
       "69066     neonlightdistrict     1\n",
       "243511        Carlospicante     1\n",
       "\n",
       "[1687 rows x 2 columns]"
      ]
     },
     "execution_count": 276,
     "metadata": {},
     "output_type": "execute_result"
    }
   ],
   "source": [
    "#author mis-reported volumes\n",
    "sub_df = df[(df.crossmod_action == \"report\") & (df.banned_by.notna())]\n",
    "sub_df['freq'] = sub_df.groupby('author')['author'].transform('count')\n",
    "sub_df[['author', 'freq']].drop_duplicates().sort_values(['freq'], ascending = [False])"
   ]
  },
  {
   "cell_type": "markdown",
   "metadata": {},
   "source": [
    "# Response time - "
   ]
  },
  {
   "cell_type": "code",
   "execution_count": 277,
   "metadata": {
    "scrolled": true
   },
   "outputs": [
    {
     "data": {
      "text/html": [
       "<div>\n",
       "<style scoped>\n",
       "    .dataframe tbody tr th:only-of-type {\n",
       "        vertical-align: middle;\n",
       "    }\n",
       "\n",
       "    .dataframe tbody tr th {\n",
       "        vertical-align: top;\n",
       "    }\n",
       "\n",
       "    .dataframe thead th {\n",
       "        text-align: right;\n",
       "    }\n",
       "</style>\n",
       "<table border=\"1\" class=\"dataframe\">\n",
       "  <thead>\n",
       "    <tr style=\"text-align: right;\">\n",
       "      <th></th>\n",
       "      <th>created_utc</th>\n",
       "      <th>banned_at_utc</th>\n",
       "      <th>banned_by</th>\n",
       "    </tr>\n",
       "  </thead>\n",
       "  <tbody>\n",
       "    <tr>\n",
       "      <th>2</th>\n",
       "      <td>2020-01-22 19:37:22.000000</td>\n",
       "      <td>2020-01-22 20:18:42.000000</td>\n",
       "      <td>V2O5</td>\n",
       "    </tr>\n",
       "    <tr>\n",
       "      <th>61</th>\n",
       "      <td>2020-01-22 20:17:40.000000</td>\n",
       "      <td>2020-01-22 20:18:35.000000</td>\n",
       "      <td>V2O5</td>\n",
       "    </tr>\n",
       "    <tr>\n",
       "      <th>109</th>\n",
       "      <td>2020-01-22 21:01:40.000000</td>\n",
       "      <td>2020-01-22 23:05:48.000000</td>\n",
       "      <td>V2O5</td>\n",
       "    </tr>\n",
       "    <tr>\n",
       "      <th>197</th>\n",
       "      <td>2020-01-22 21:56:42.000000</td>\n",
       "      <td>2020-01-23 02:22:33.000000</td>\n",
       "      <td>ekser</td>\n",
       "    </tr>\n",
       "    <tr>\n",
       "      <th>231</th>\n",
       "      <td>2020-01-22 22:22:02.000000</td>\n",
       "      <td>2020-01-23 02:22:26.000000</td>\n",
       "      <td>ekser</td>\n",
       "    </tr>\n",
       "    <tr>\n",
       "      <th>...</th>\n",
       "      <td>...</td>\n",
       "      <td>...</td>\n",
       "      <td>...</td>\n",
       "    </tr>\n",
       "    <tr>\n",
       "      <th>241928</th>\n",
       "      <td>2020-05-22 10:18:07.000000</td>\n",
       "      <td>2020-05-22 12:17:46.000000</td>\n",
       "      <td>Agent_03</td>\n",
       "    </tr>\n",
       "    <tr>\n",
       "      <th>241940</th>\n",
       "      <td>2020-05-22 10:29:09.000000</td>\n",
       "      <td>2020-05-22 12:34:47.000000</td>\n",
       "      <td>Agent_03</td>\n",
       "    </tr>\n",
       "    <tr>\n",
       "      <th>241984</th>\n",
       "      <td>2020-05-22 11:20:42.000000</td>\n",
       "      <td>2020-05-22 12:42:38.000000</td>\n",
       "      <td>Agent_03</td>\n",
       "    </tr>\n",
       "    <tr>\n",
       "      <th>242466</th>\n",
       "      <td>2020-05-22 15:28:04.000000</td>\n",
       "      <td>2020-05-22 15:59:31.000000</td>\n",
       "      <td>1</td>\n",
       "    </tr>\n",
       "    <tr>\n",
       "      <th>243368</th>\n",
       "      <td>2020-05-23 00:04:32.000000</td>\n",
       "      <td>2020-05-23 00:07:43.000000</td>\n",
       "      <td>CivilServantBot</td>\n",
       "    </tr>\n",
       "  </tbody>\n",
       "</table>\n",
       "<p>6978 rows × 3 columns</p>\n",
       "</div>"
      ],
      "text/plain": [
       "                       created_utc               banned_at_utc  \\\n",
       "2       2020-01-22 19:37:22.000000  2020-01-22 20:18:42.000000   \n",
       "61      2020-01-22 20:17:40.000000  2020-01-22 20:18:35.000000   \n",
       "109     2020-01-22 21:01:40.000000  2020-01-22 23:05:48.000000   \n",
       "197     2020-01-22 21:56:42.000000  2020-01-23 02:22:33.000000   \n",
       "231     2020-01-22 22:22:02.000000  2020-01-23 02:22:26.000000   \n",
       "...                            ...                         ...   \n",
       "241928  2020-05-22 10:18:07.000000  2020-05-22 12:17:46.000000   \n",
       "241940  2020-05-22 10:29:09.000000  2020-05-22 12:34:47.000000   \n",
       "241984  2020-05-22 11:20:42.000000  2020-05-22 12:42:38.000000   \n",
       "242466  2020-05-22 15:28:04.000000  2020-05-22 15:59:31.000000   \n",
       "243368  2020-05-23 00:04:32.000000  2020-05-23 00:07:43.000000   \n",
       "\n",
       "              banned_by  \n",
       "2                  V2O5  \n",
       "61                 V2O5  \n",
       "109                V2O5  \n",
       "197               ekser  \n",
       "231               ekser  \n",
       "...                 ...  \n",
       "241928         Agent_03  \n",
       "241940         Agent_03  \n",
       "241984         Agent_03  \n",
       "242466                1  \n",
       "243368  CivilServantBot  \n",
       "\n",
       "[6978 rows x 3 columns]"
      ]
     },
     "execution_count": 277,
     "metadata": {},
     "output_type": "execute_result"
    }
   ],
   "source": [
    "df[df.banned_by != \"AutoModerator\"][[\"created_utc\", \"banned_at_utc\", \"banned_by\"]].dropna()"
   ]
  },
  {
   "cell_type": "code",
   "execution_count": 278,
   "metadata": {},
   "outputs": [
    {
     "name": "stderr",
     "output_type": "stream",
     "text": [
      "/data/home/crossmod-dev/crossmod-retrain/env/lib/python3.6/site-packages/ipykernel_launcher.py:15: SettingWithCopyWarning: \n",
      "A value is trying to be set on a copy of a slice from a DataFrame.\n",
      "Try using .loc[row_indexer,col_indexer] = value instead\n",
      "\n",
      "See the caveats in the documentation: https://pandas.pydata.org/pandas-docs/stable/user_guide/indexing.html#returning-a-view-versus-a-copy\n",
      "  from ipykernel import kernelapp as app\n",
      "/data/home/crossmod-dev/crossmod-retrain/env/lib/python3.6/site-packages/ipykernel_launcher.py:16: SettingWithCopyWarning: \n",
      "A value is trying to be set on a copy of a slice from a DataFrame.\n",
      "Try using .loc[row_indexer,col_indexer] = value instead\n",
      "\n",
      "See the caveats in the documentation: https://pandas.pydata.org/pandas-docs/stable/user_guide/indexing.html#returning-a-view-versus-a-copy\n",
      "  app.launch_new_instance()\n",
      "/data/home/crossmod-dev/crossmod-retrain/env/lib/python3.6/site-packages/ipykernel_launcher.py:18: SettingWithCopyWarning: \n",
      "A value is trying to be set on a copy of a slice from a DataFrame.\n",
      "Try using .loc[row_indexer,col_indexer] = value instead\n",
      "\n",
      "See the caveats in the documentation: https://pandas.pydata.org/pandas-docs/stable/user_guide/indexing.html#returning-a-view-versus-a-copy\n",
      "/data/home/crossmod-dev/crossmod-retrain/env/lib/python3.6/site-packages/ipykernel_launcher.py:24: SettingWithCopyWarning: \n",
      "A value is trying to be set on a copy of a slice from a DataFrame.\n",
      "Try using .loc[row_indexer,col_indexer] = value instead\n",
      "\n",
      "See the caveats in the documentation: https://pandas.pydata.org/pandas-docs/stable/user_guide/indexing.html#returning-a-view-versus-a-copy\n"
     ]
    }
   ],
   "source": [
    "import datetime\n",
    "\n",
    "sub_df = df.dropna()\n",
    "created = []\n",
    "banned = []\n",
    "misses = 0\n",
    "\n",
    "def striptime1(x):\n",
    "    end_date = x\n",
    "    try:\n",
    "        return datetime.datetime.strptime(end_date, '%Y-%m-%d %H:%M:%S')\n",
    "    except:\n",
    "        return datetime.datetime.strptime(end_date[:-7], '%Y-%m-%d %H:%M:%S')\n",
    "\n",
    "sub_df['created'] = sub_df['created_utc'].apply(striptime1)\n",
    "sub_df['banned'] = sub_df['banned_at_utc'].apply(striptime1)\n",
    "\n",
    "sub_df['response_time'] = sub_df['banned'] - sub_df['created']\n",
    "\n",
    "seconds = []\n",
    "for x in sub_df['response_time']:\n",
    "    seconds.append(x.total_seconds())\n",
    "    \n",
    "sub_df['response_time'] = seconds"
   ]
  },
  {
   "cell_type": "code",
   "execution_count": 279,
   "metadata": {},
   "outputs": [
    {
     "data": {
      "text/plain": [
       "(367789.1319862425, 20554.5, 8811679.0, 0.0)"
      ]
     },
     "execution_count": 279,
     "metadata": {},
     "output_type": "execute_result"
    }
   ],
   "source": [
    "sub_df = sub_df[sub_df.banned_by != \"AutoModerator\"]\n",
    "sub_df.response_time.mean(), sub_df.response_time.median(), sub_df.response_time.max(), sub_df.response_time.min()"
   ]
  },
  {
   "cell_type": "code",
   "execution_count": 281,
   "metadata": {},
   "outputs": [
    {
     "data": {
      "text/plain": [
       "5.709444444444444"
      ]
     },
     "execution_count": 281,
     "metadata": {},
     "output_type": "execute_result"
    }
   ],
   "source": [
    "20554/3600"
   ]
  },
  {
   "cell_type": "code",
   "execution_count": 199,
   "metadata": {},
   "outputs": [
    {
     "data": {
      "text/plain": [
       "9259"
      ]
     },
     "execution_count": 199,
     "metadata": {},
     "output_type": "execute_result"
    }
   ],
   "source": [
    "sub_df.shape[0]"
   ]
  },
  {
   "cell_type": "code",
   "execution_count": 208,
   "metadata": {},
   "outputs": [
    {
     "data": {
      "text/plain": [
       "(367567, 2383, 19078)"
      ]
     },
     "execution_count": 208,
     "metadata": {},
     "output_type": "execute_result"
    }
   ],
   "source": [
    "df.shape[0], df[df['agreement_score'] >= 0.9].shape[0], df[df['agreement_score'] >= 0.7].shape[0]"
   ]
  },
  {
   "cell_type": "code",
   "execution_count": 243,
   "metadata": {},
   "outputs": [
    {
     "data": {
      "text/plain": [
       "34954"
      ]
     },
     "execution_count": 243,
     "metadata": {},
     "output_type": "execute_result"
    }
   ],
   "source": [
    "df[(df['crossmod_action'] == \"report\") & (df.agreement_score < 0.7)].shape[0]"
   ]
  },
  {
   "cell_type": "code",
   "execution_count": 242,
   "metadata": {},
   "outputs": [
    {
     "data": {
      "text/plain": [
       "0.0"
      ]
     },
     "execution_count": 242,
     "metadata": {},
     "output_type": "execute_result"
    }
   ],
   "source": [
    "df[(df['crossmod_action'] == \"report\") & (df.agreement_score < 0.7)]['norm_violation_score'].median()"
   ]
  },
  {
   "cell_type": "code",
   "execution_count": 256,
   "metadata": {},
   "outputs": [
    {
     "data": {
      "text/plain": [
       "'2020-01-17 18:40:42.000000'"
      ]
     },
     "execution_count": 256,
     "metadata": {},
     "output_type": "execute_result"
    }
   ],
   "source": [
    "df[(df['crossmod_action'] == \"report\") & (df.agreement_score < 0.85)]['created_utc'].max()"
   ]
  },
  {
   "cell_type": "code",
   "execution_count": 240,
   "metadata": {},
   "outputs": [
    {
     "data": {
      "text/plain": [
       "250424"
      ]
     },
     "execution_count": 240,
     "metadata": {},
     "output_type": "execute_result"
    }
   ],
   "source": [
    "sub_df.shape[0]"
   ]
  },
  {
   "cell_type": "markdown",
   "metadata": {},
   "source": [
    "# Plots"
   ]
  },
  {
   "cell_type": "code",
   "execution_count": 342,
   "metadata": {},
   "outputs": [],
   "source": [
    "import matplotlib.pyplot as plt\n",
    "import seaborn\n",
    "\n",
    "# Plot Parameters\n",
    "\n",
    "# Agreement Score Parameters: Choose starting and ending agreement score thresholds, and how many intervals between them.\n",
    "agreement_score_start = 50\n",
    "agreement_score_end = 100\n",
    "delta = 5\n",
    "agreement_scores = [i * 0.01 for i in range(agreement_score_start, agreement_score_end, delta)]\n",
    "\n",
    "# Finding the starting and ending ingested_utc in the dataset\n",
    "min_date = df['ingested'].min()\n",
    "max_date = df['ingested'].max()"
   ]
  },
  {
   "cell_type": "markdown",
   "metadata": {},
   "source": [
    "## Agreement Score vs. Number of Comments"
   ]
  },
  {
   "cell_type": "code",
   "execution_count": 343,
   "metadata": {
    "scrolled": true
   },
   "outputs": [
    {
     "data": {
      "image/png": "[encoded data removed]",
      "text/plain": [
       "<Figure size 432x288 with 1 Axes>"
      ]
     },
     "metadata": {},
     "output_type": "display_data"
    }
   ],
   "source": [
    "#Agreement Scores vs. Number of Comments\n",
    "def comments_at_threshold(agreement_score_threshold):\n",
    "    return df[(df.agreement_score >= agreement_score_threshold)].shape[0]    \n",
    "number_of_comments = [comments_at_threshold(i) for i in agreement_scores]\n",
    "x_axis = 'agreement_score'\n",
    "y_axis = 'number_of_comments'\n",
    "line_plot_df = pd.DataFrame({x_axis: agreement_scores, y_axis: number_of_comments}, columns = [x_axis, y_axis])\n",
    "seaborn.set_style(\"darkgrid\")\n",
    "line_plot = seaborn.lineplot(x = x_axis, y = y_axis, data = line_plot_df)\n",
    "line_plot.set_title(f'Agreement Score vs. Number of Comments \\n from {min_date.strftime(\"%d %B, %Y\")}')\n",
    "line_plot.set_xlabel('Crossmod Agreement Score')\n",
    "line_plot.set_ylabel('Number of Comments')\n",
    "##############################################################\n",
    "# Set scale for x and y axis\n",
    "##############################################################\n",
    "plt.xlim(agreement_score_start*0.01, agreement_score_end*0.01)\n",
    "plt.ylim(0, max(number_of_comments) + 2000)\n",
    "##############################################################\n",
    "plt.show()"
   ]
  },
  {
   "cell_type": "markdown",
   "metadata": {},
   "source": [
    "## Agreement Score vs. Number of True Positives"
   ]
  },
  {
   "cell_type": "code",
   "execution_count": 344,
   "metadata": {},
   "outputs": [
    {
     "data": {
      "image/png": "[encoded data removed]",
      "text/plain": [
       "<Figure size 432x288 with 1 Axes>"
      ]
     },
     "metadata": {},
     "output_type": "display_data"
    }
   ],
   "source": [
    "#Agreement Scores vs. Number of True Positives\n",
    "def true_positives_at_threshold(agreement_score_threshold):\n",
    "    return df[(df.agreement_score >= agreement_score_threshold) & (df.banned_by.notnull())].shape[0] \n",
    "number_of_true_positives = [true_positives_at_threshold(i) for i in agreement_scores]\n",
    "x_axis = 'agreement_score'\n",
    "y_axis = 'number_of_true_positives'\n",
    "line_plot_df = pd.DataFrame({x_axis: agreement_scores, y_axis: number_of_true_positives},columns = [x_axis, y_axis])\n",
    "seaborn.set_style(\"darkgrid\")\n",
    "line_plot = seaborn.lineplot(x = x_axis, y = y_axis, data = line_plot_df)\n",
    "line_plot.set_title(f'Agreement Score vs. Number of True Positives \\n from {min_date.strftime(\"%d %B, %Y\")}')\n",
    "line_plot.set_xlabel('Crossmod Agreement Score')\n",
    "line_plot.set_ylabel('Number of True Positives')\n",
    "##############################################################\n",
    "# Set scale for x and y axis\n",
    "##############################################################\n",
    "plt.xlim(agreement_score_start*0.01, agreement_score_end*0.01)\n",
    "plt.ylim(0, max(number_of_true_positives) + 100)\n",
    "##############################################################\n",
    "plt.show()"
   ]
  },
  {
   "cell_type": "markdown",
   "metadata": {},
   "source": [
    "## Agreement Score vs. Ratio of True Positives to Total Comments at Threshold"
   ]
  },
  {
   "cell_type": "code",
   "execution_count": 345,
   "metadata": {},
   "outputs": [
    {
     "data": {
      "image/png": "[encoded data removed]",
      "text/plain": [
       "<Figure size 432x288 with 1 Axes>"
      ]
     },
     "metadata": {},
     "output_type": "display_data"
    }
   ],
   "source": [
    "#Agreement Scores vs. Ratio of True Positives\n",
    "def ratio_of_true_positives(agreement_score_threshold):\n",
    "    true_positives = df[(df.agreement_score >= agreement_score_threshold) & (df.banned_by.notnull())].shape[0] \n",
    "    total_at_threshold = df[(df.agreement_score >= agreement_score_threshold)].shape[0]\n",
    "    return true_positives / total_at_threshold\n",
    "ratios = [ratio_of_true_positives(i) for i in agreement_scores]\n",
    "x_axis = 'agreement_score'\n",
    "y_axis = 'ratios'\n",
    "line_plot_df = pd.DataFrame({x_axis: agreement_scores, y_axis: ratios}, columns = [x_axis, y_axis])\n",
    "seaborn.set_style(\"darkgrid\")\n",
    "line_plot = seaborn.lineplot(x = x_axis, y = y_axis, data = line_plot_df)\n",
    "line_plot.set_title(f'Agreement Score vs. Ratio of True Positives \\n from {min_date.strftime(\"%d %B, %Y\")}')\n",
    "line_plot.set_xlabel('Crossmod Agreement Score')\n",
    "line_plot.set_ylabel('Number of True Positives')\n",
    "##############################################################\n",
    "# Set scale for x and y axis\n",
    "##############################################################\n",
    "plt.xlim(agreement_score_start*0.01, agreement_score_end*0.01)\n",
    "plt.ylim(0*0.01, 100*0.01)\n",
    "##############################################################\n",
    "plt.show()"
   ]
  },
  {
   "cell_type": "code",
   "execution_count": 416,
   "metadata": {},
   "outputs": [],
   "source": [
    "##############################################################\n",
    "# Change bucket size (in days) for smoother rates\n",
    "##############################################################\n",
    "bucket_size = 10\n",
    "##############################################################\n",
    "def normalize_rate(raw_metric, daily_comments):\n",
    "    assert len(raw_metric) == len(daily_comments)\n",
    "    normalized_metric = []\n",
    "    for (i, metric) in enumerate(raw_metric):\n",
    "        if daily_comments[i] == 0:\n",
    "            normalized_metric.append(0)\n",
    "        else:\n",
    "            normalized_metric.append(metric/daily_comments[i])\n",
    "    return normalized_metric\n",
    "##############################################################\n",
    "# Dates based on bucket size\n",
    "##############################################################\n",
    "dates = [i for i in range(int((max_date - min_date).days/bucket_size))]\n",
    "dates = [ i * bucket_size for i in dates]"
   ]
  },
  {
   "cell_type": "markdown",
   "metadata": {},
   "source": [
    "## Total Number of Comments Posted on Subreddit"
   ]
  },
  {
   "cell_type": "code",
   "execution_count": 417,
   "metadata": {},
   "outputs": [
    {
     "data": {
      "image/png": "[encoded data removed]",
      "text/plain": [
       "<Figure size 432x288 with 1 Axes>"
      ]
     },
     "metadata": {},
     "output_type": "display_data"
    }
   ],
   "source": [
    "# Total # of Comments\n",
    "def comments_between_dates(start_date, end_date):\n",
    "    return df[(df.ingested >= start_date) & (df.ingested < end_date)].shape[0]\n",
    "number_of_comments = [0] + [comments_between_dates(min_date + datetime.timedelta(days = dates[i - 1]),\n",
    "                                                   min_date + datetime.timedelta(days = dates[i])) \n",
    "                            for i in range(1, len(dates))]\n",
    "x_axis = 'days'\n",
    "y_axis = 'number_of_comments'\n",
    "line_plot_df = pd.DataFrame({x_axis: dates, y_axis: number_of_comments}, columns = [x_axis, y_axis])\n",
    "seaborn.set_style(\"darkgrid\")\n",
    "line_plot = seaborn.lineplot(x = x_axis, y = y_axis, data = line_plot_df)\n",
    "line_plot.set_title(f'Total Number of Comments \\n from {min_date.strftime(\"%d %B, %Y\")}')\n",
    "line_plot.set_xlabel(f'Days since {min_date.strftime(\"%d %B, %Y\")}, Bucket Size: {bucket_size}')\n",
    "line_plot.set_ylabel(f'Number of Comments')\n",
    "##############################################################\n",
    "# Set scale for x and y axis\n",
    "##############################################################\n",
    "plt.xlim(0, max(dates))\n",
    "plt.ylim(0, max(number_of_comments))\n",
    "##############################################################\n",
    "plt.show()"
   ]
  },
  {
   "cell_type": "code",
   "execution_count": 418,
   "metadata": {},
   "outputs": [
    {
     "name": "stdout",
     "output_type": "stream",
     "text": [
      "Threshold >= ,  0.5  => True positive rate =  0.1952537290282553\n",
      "Threshold >= ,  0.55  => True positive rate =  0.21237281791268248\n",
      "Threshold >= ,  0.6  => True positive rate =  0.23925429600255252\n",
      "Threshold >= ,  0.65  => True positive rate =  0.2746842530952529\n",
      "Threshold >= ,  0.7000000000000001  => True positive rate =  0.33244907626717196\n",
      "Threshold >= ,  0.75  => True positive rate =  0.39155596475075627\n",
      "Threshold >= ,  0.8  => True positive rate =  0.5028319697923223\n",
      "Threshold >= ,  0.85  => True positive rate =  0.7185405807892777\n",
      "Threshold >= ,  0.9  => True positive rate =  0.7844112769485904\n",
      "Threshold >= ,  0.9500000000000001  => True positive rate =  0.8652482269503546\n"
     ]
    }
   ],
   "source": [
    "for i in range(0, len(ratios)):\n",
    "    print(\"Threshold >= , \", agreement_scores[i] ,\" => True positive rate = \", ratios[i])"
   ]
  },
  {
   "cell_type": "markdown",
   "metadata": {},
   "source": [
    "## Total Number of Moderator Removals"
   ]
  },
  {
   "cell_type": "code",
   "execution_count": 419,
   "metadata": {},
   "outputs": [
    {
     "data": {
      "image/png": "[encoded data removed]",
      "text/plain": [
       "<Figure size 432x288 with 1 Axes>"
      ]
     },
     "metadata": {},
     "output_type": "display_data"
    }
   ],
   "source": [
    "# Total Number of Moderator Removals\n",
    "def comments_moderated_between_dates(start_date, end_date):\n",
    "    return df[(df.ingested >= start_date) & (df.ingested < end_date) & (df.banned_by.notnull())].shape[0]\n",
    "number_of_moderated_comments = [0] + [comments_moderated_between_dates(min_date + datetime.timedelta(days = dates[i - 1]),\n",
    "                                                   min_date + datetime.timedelta(days = dates[i])) \n",
    "                            for i in range(1, len(dates))]\n",
    "x_axis = 'days'\n",
    "y_axis = 'number_of_moderated_comments'\n",
    "line_plot_df = pd.DataFrame({x_axis: dates, y_axis: number_of_moderated_comments}, columns = [x_axis, y_axis])\n",
    "seaborn.set_style(\"darkgrid\")\n",
    "line_plot = seaborn.lineplot(x = x_axis, y = y_axis, data = line_plot_df)\n",
    "line_plot.set_title(f'Total Number of Moderator Removals \\n from {min_date.strftime(\"%d %B, %Y\")}')\n",
    "line_plot.set_xlabel(f'Days since {min_date.strftime(\"%d %B, %Y\")}, Bucket Size: {bucket_size}')\n",
    "line_plot.set_ylabel(f'Number of Removals')\n",
    "##############################################################\n",
    "# Set scale for x and y axis\n",
    "##############################################################\n",
    "plt.xlim(0, max(dates))\n",
    "plt.ylim(0, max(number_of_moderated_comments))\n",
    "##############################################################\n",
    "plt.show()"
   ]
  },
  {
   "cell_type": "markdown",
   "metadata": {},
   "source": [
    "## Rate of Moderator Removals"
   ]
  },
  {
   "cell_type": "code",
   "execution_count": 420,
   "metadata": {},
   "outputs": [
    {
     "data": {
      "image/png": "[encoded data removed]",
      "text/plain": [
       "<Figure size 432x288 with 1 Axes>"
      ]
     },
     "metadata": {},
     "output_type": "display_data"
    }
   ],
   "source": [
    "# Rate of Moderator Removals\n",
    "rate_of_moderated_comments = normalize_rate(number_of_moderated_comments, number_of_comments)\n",
    "x_axis = 'days'\n",
    "y_axis = 'rate_of_moderated_comments'\n",
    "line_plot_df = pd.DataFrame({x_axis: dates, y_axis: rate_of_moderated_comments}, columns = [x_axis, y_axis])\n",
    "seaborn.set_style(\"darkgrid\")\n",
    "line_plot = seaborn.lineplot(x = x_axis, y = y_axis, data = line_plot_df)\n",
    "line_plot.set_title(f'Rate of Moderator Removals \\n from {min_date.strftime(\"%d %B, %Y\")}')\n",
    "line_plot.set_xlabel(f'Days since {min_date.strftime(\"%d %B, %Y\")}, Bucket Size: {bucket_size}')\n",
    "line_plot.set_ylabel(f'Rate of Removals')\n",
    "##############################################################\n",
    "# Set scale for x and y axis\n",
    "##############################################################\n",
    "plt.xlim(0, max(dates))\n",
    "plt.ylim(0, max(rate_of_moderated_comments)+0.04)\n",
    "##############################################################\n",
    "plt.show()"
   ]
  },
  {
   "cell_type": "markdown",
   "metadata": {},
   "source": [
    "## Total Number of Crossmod Reports"
   ]
  },
  {
   "cell_type": "code",
   "execution_count": 421,
   "metadata": {},
   "outputs": [
    {
     "data": {
      "image/png": "[encoded data removed]",
      "text/plain": [
       "<Figure size 432x288 with 1 Axes>"
      ]
     },
     "metadata": {},
     "output_type": "display_data"
    }
   ],
   "source": [
    "# Total Number of Crossmod Reports\n",
    "def comments_reported_between_dates(start_date, end_date):\n",
    "    return df[(df.ingested >= start_date) & (df.ingested < end_date) & (df.crossmod_action == \"report\")].shape[0]\n",
    "##############################################################\n",
    "number_of_reported_comments = [0] + [comments_reported_between_dates(min_date + datetime.timedelta(days = dates[i - 1]),\n",
    "                                                   min_date + datetime.timedelta(days = dates[i])) \n",
    "                            for i in range(1, len(dates))]\n",
    "x_axis = 'days'\n",
    "y_axis = 'number_of_reported_comments'\n",
    "line_plot_df = pd.DataFrame({x_axis: dates, y_axis: number_of_reported_comments}, columns = [x_axis, y_axis])\n",
    "seaborn.set_style(\"darkgrid\")\n",
    "line_plot = seaborn.lineplot(x = x_axis, y = y_axis, data = line_plot_df)\n",
    "line_plot.set_title(f'Total Number of Crossmod Reports \\n from {min_date.strftime(\"%d %B, %Y\")}')\n",
    "line_plot.set_xlabel(f'Days since {min_date.strftime(\"%d %B, %Y\")}, Bucket Size: {bucket_size}')\n",
    "line_plot.set_ylabel(f'Number of Reports')\n",
    "##############################################################\n",
    "# Set scale for x and y axis\n",
    "##############################################################\n",
    "plt.xlim(0, max(dates))\n",
    "plt.ylim(0, max(number_of_reported_comments))\n",
    "##############################################################\n",
    "plt.show()"
   ]
  },
  {
   "cell_type": "markdown",
   "metadata": {},
   "source": [
    "## Rate of Crossmod Reports"
   ]
  },
  {
   "cell_type": "code",
   "execution_count": 422,
   "metadata": {},
   "outputs": [
    {
     "data": {
      "image/png": "[encoded data removed]",
      "text/plain": [
       "<Figure size 432x288 with 1 Axes>"
      ]
     },
     "metadata": {},
     "output_type": "display_data"
    }
   ],
   "source": [
    "# Rate of Crossmod Reports\n",
    "rate_of_reported_comments = normalize_rate(number_of_reported_comments, number_of_comments)\n",
    "x_axis = 'days'\n",
    "y_axis = 'rate_of_reported_comments'\n",
    "line_plot_df = pd.DataFrame({x_axis: dates, y_axis: rate_of_reported_comments}, columns = [x_axis, y_axis])\n",
    "seaborn.set_style(\"darkgrid\")\n",
    "line_plot = seaborn.lineplot(x = x_axis, y = y_axis, data = line_plot_df)\n",
    "line_plot.set_title(f'Rate of Crossmod Reports \\n from {min_date.strftime(\"%d %B, %Y\")}')\n",
    "line_plot.set_xlabel(f'Days since {min_date.strftime(\"%d %B, %Y\")}, Bucket Size: {bucket_size}')\n",
    "line_plot.set_ylabel(f'Rate of Reports')\n",
    "##############################################################\n",
    "# Set scale for x and y axis\n",
    "##############################################################\n",
    "plt.xlim(0, max(dates))\n",
    "##############################################################\n",
    "plt.show()"
   ]
  },
  {
   "cell_type": "markdown",
   "metadata": {},
   "source": [
    "## Total Number of Report Removal Sequences"
   ]
  },
  {
   "cell_type": "code",
   "execution_count": 423,
   "metadata": {},
   "outputs": [
    {
     "data": {
      "image/png": "[encoded data removed]",
      "text/plain": [
       "<Figure size 432x288 with 1 Axes>"
      ]
     },
     "metadata": {},
     "output_type": "display_data"
    }
   ],
   "source": [
    "# Total Number of Report Removal Sequences\n",
    "def comments_reported_and_removed_between_dates(start_date, end_date):\n",
    "    return df[(df.ingested >= start_date) & (df.ingested < end_date) & (df.crossmod_action == \"report\") & (df.banned_by.notnull())].shape[0]\n",
    "##############################################################\n",
    "number_of_reported_and_removed_comments = [0] + [comments_reported_and_removed_between_dates(min_date + datetime.timedelta(days = dates[i - 1]),\n",
    "                                                   min_date + datetime.timedelta(days = dates[i])) \n",
    "                            for i in range(1, len(dates))]\n",
    "x_axis = 'days'\n",
    "y_axis = 'number_of_reported_and_removed_comments'\n",
    "line_plot_df = pd.DataFrame({x_axis: dates, y_axis: number_of_reported_and_removed_comments}, columns = [x_axis, y_axis])\n",
    "seaborn.set_style(\"darkgrid\")\n",
    "line_plot = seaborn.lineplot(x = x_axis, y = y_axis, data = line_plot_df)\n",
    "line_plot.set_title(f'Total Number of Report Removal Sequences \\n from {min_date.strftime(\"%d %B, %Y\")}')\n",
    "line_plot.set_xlabel(f'Days since {min_date.strftime(\"%d %B, %Y\")}, Bucket Size: {bucket_size}')\n",
    "line_plot.set_ylabel(f'Number of Reports')\n",
    "##############################################################\n",
    "# Set scale for x and y axis\n",
    "##############################################################\n",
    "plt.xlim(0, max(dates))\n",
    "plt.ylim(0, max(number_of_reported_comments))\n",
    "##############################################################\n",
    "plt.show()"
   ]
  },
  {
   "cell_type": "markdown",
   "metadata": {},
   "source": [
    "## Rate of Report Removal Sequences"
   ]
  },
  {
   "cell_type": "code",
   "execution_count": 424,
   "metadata": {},
   "outputs": [
    {
     "data": {
      "image/png": "[encoded data removed]",
      "text/plain": [
       "<Figure size 432x288 with 1 Axes>"
      ]
     },
     "metadata": {},
     "output_type": "display_data"
    }
   ],
   "source": [
    "# Rate of Report Removal Sequences\n",
    "rate_of_report_removal_sequences = normalize_rate(number_of_reported_and_removed_comments, number_of_comments)\n",
    "x_axis = 'days'\n",
    "y_axis = 'rate_of_report_removal_sequences'\n",
    "line_plot_df = pd.DataFrame({x_axis: dates, y_axis: rate_of_report_removal_sequences}, columns = [x_axis, y_axis])\n",
    "seaborn.set_style(\"darkgrid\")\n",
    "line_plot = seaborn.lineplot(x = x_axis, y = y_axis, data = line_plot_df)\n",
    "line_plot.set_title(f'Rate of Report Removal Sequences \\n from {min_date.strftime(\"%d %B, %Y\")}')\n",
    "line_plot.set_xlabel(f'Days since {min_date.strftime(\"%d %B, %Y\")}, Bucket Size: {bucket_size}')\n",
    "line_plot.set_ylabel(f'Rate of Report Removal Sequences')\n",
    "##############################################################\n",
    "# Set scale for x and y axis\n",
    "##############################################################\n",
    "plt.xlim(0, max(dates))\n",
    "##############################################################\n",
    "plt.show()"
   ]
  },
  {
   "cell_type": "code",
   "execution_count": null,
   "metadata": {},
   "outputs": [],
   "source": []
  }
 ],
 "metadata": {
  "kernelspec": {
   "display_name": "Python 3",
   "language": "python",
   "name": "python3"
  },
  "language_info": {
   "codemirror_mode": {
    "name": "ipython",
    "version": 3
   },
   "file_extension": ".py",
   "mimetype": "text/x-python",
   "name": "python",
   "nbconvert_exporter": "python",
   "pygments_lexer": "ipython3",
   "version": "3.6.9"
  }
 },
 "nbformat": 4,
 "nbformat_minor": 4
}
