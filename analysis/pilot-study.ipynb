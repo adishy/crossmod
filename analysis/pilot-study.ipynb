{
 "cells": [
  {
   "cell_type": "code",
   "execution_count": 45,
   "metadata": {},
   "outputs": [],
   "source": [
    "import pandas as pd"
   ]
  },
  {
   "cell_type": "code",
   "execution_count": 46,
   "metadata": {},
   "outputs": [],
   "source": [
    "# This is our pilot study data set\n",
    "filepath = \"/data/databases/pilot_data.csv\"\n",
    "\n",
    "df = pd.read_csv(filepath)"
   ]
  },
  {
   "cell_type": "code",
   "execution_count": 47,
   "metadata": {},
   "outputs": [
    {
     "data": {
      "text/plain": [
       "(44704, 2558)"
      ]
     },
     "execution_count": 47,
     "metadata": {},
     "output_type": "execute_result"
    }
   ],
   "source": [
    "df.shape[0], df.dropna().shape[0]"
   ]
  },
  {
   "cell_type": "code",
   "execution_count": 83,
   "metadata": {},
   "outputs": [],
   "source": [
    "import datetime\n",
    "\n",
    "def striptime1(x):\n",
    "    end_date = x\n",
    "    try:\n",
    "        return datetime.datetime.strptime(end_date, '%Y-%m-%d %H:%M:%S')\n",
    "    except:\n",
    "        # Some timestamps also have milliseconds\n",
    "        return datetime.datetime.strptime(end_date[:-7], '%Y-%m-%d %H:%M:%S')\n",
    "\n",
    "df['created'] = df['created_utc'].apply(striptime1)\n",
    "df['ingested'] = df['ingested_utc'].apply(striptime1)"
   ]
  },
  {
   "cell_type": "code",
   "execution_count": 84,
   "metadata": {},
   "outputs": [
    {
     "name": "stdout",
     "output_type": "stream",
     "text": [
      "Total number of comments ingested by Crossmod during the experiment =  44704\n",
      "Total number of comments Crossmod would have removed during the pilot study =  657\n",
      "% of comments Crossmod would have removed during the pilot study =  1.4696671438797424 %\n",
      "Total number of comments removed by moderators during the experiment =  2558\n",
      "% of comments removed by moderators during the experiment =  5.722083035075161 %\n"
     ]
    }
   ],
   "source": [
    "print(\"Total number of comments ingested by Crossmod during the experiment = \", df.shape[0])\n",
    "print(\"Total number of comments Crossmod would have removed during the pilot study = \", df[df.crossmod_action == \"remove\"].shape[0])\n",
    "print(\"% of comments Crossmod would have removed during the pilot study = \", 100.0 * df[df.crossmod_action == \"remove\"].shape[0]/df.shape[0], \"%\")\n",
    "print(\"Total number of comments removed by moderators during the experiment = \", df[df.banned_by.notna()].shape[0])\n",
    "print(\"% of comments removed by moderators during the experiment = \", 100.0 * df[df.banned_by.notna()].shape[0]/df.shape[0], \"%\")"
   ]
  },
  {
   "cell_type": "code",
   "execution_count": 50,
   "metadata": {
    "scrolled": true
   },
   "outputs": [
    {
     "name": "stderr",
     "output_type": "stream",
     "text": [
      "/data/home/crossmod-dev/crossmod-retrain/env/lib/python3.6/site-packages/ipykernel_launcher.py:2: SettingWithCopyWarning: \n",
      "A value is trying to be set on a copy of a slice from a DataFrame.\n",
      "Try using .loc[row_indexer,col_indexer] = value instead\n",
      "\n",
      "See the caveats in the documentation: https://pandas.pydata.org/pandas-docs/stable/user_guide/indexing.html#returning-a-view-versus-a-copy\n",
      "  \n"
     ]
    },
    {
     "data": {
      "text/html": [
       "<div>\n",
       "<style scoped>\n",
       "    .dataframe tbody tr th:only-of-type {\n",
       "        vertical-align: middle;\n",
       "    }\n",
       "\n",
       "    .dataframe tbody tr th {\n",
       "        vertical-align: top;\n",
       "    }\n",
       "\n",
       "    .dataframe thead th {\n",
       "        text-align: right;\n",
       "    }\n",
       "</style>\n",
       "<table border=\"1\" class=\"dataframe\">\n",
       "  <thead>\n",
       "    <tr style=\"text-align: right;\">\n",
       "      <th></th>\n",
       "      <th>banned_by</th>\n",
       "      <th>freq</th>\n",
       "    </tr>\n",
       "  </thead>\n",
       "  <tbody>\n",
       "    <tr>\n",
       "      <th>2</th>\n",
       "      <td>AutoModerator</td>\n",
       "      <td>2319</td>\n",
       "    </tr>\n",
       "    <tr>\n",
       "      <th>1129</th>\n",
       "      <td>V2O5</td>\n",
       "      <td>46</td>\n",
       "    </tr>\n",
       "    <tr>\n",
       "      <th>4731</th>\n",
       "      <td>lughnasadh</td>\n",
       "      <td>35</td>\n",
       "    </tr>\n",
       "    <tr>\n",
       "      <th>4738</th>\n",
       "      <td>TransPlanetInjection</td>\n",
       "      <td>31</td>\n",
       "    </tr>\n",
       "    <tr>\n",
       "      <th>1334</th>\n",
       "      <td>1</td>\n",
       "      <td>27</td>\n",
       "    </tr>\n",
       "    <tr>\n",
       "      <th>6005</th>\n",
       "      <td>Yosarian2</td>\n",
       "      <td>26</td>\n",
       "    </tr>\n",
       "    <tr>\n",
       "      <th>1469</th>\n",
       "      <td>mind_bomber</td>\n",
       "      <td>23</td>\n",
       "    </tr>\n",
       "    <tr>\n",
       "      <th>13400</th>\n",
       "      <td>lord_stryker</td>\n",
       "      <td>20</td>\n",
       "    </tr>\n",
       "    <tr>\n",
       "      <th>1523</th>\n",
       "      <td>Sirisian</td>\n",
       "      <td>13</td>\n",
       "    </tr>\n",
       "    <tr>\n",
       "      <th>16293</th>\n",
       "      <td>Buck-Nasty</td>\n",
       "      <td>5</td>\n",
       "    </tr>\n",
       "    <tr>\n",
       "      <th>7369</th>\n",
       "      <td>ImLivingAmongYou</td>\n",
       "      <td>4</td>\n",
       "    </tr>\n",
       "    <tr>\n",
       "      <th>9148</th>\n",
       "      <td>Gobi_The_Mansoe</td>\n",
       "      <td>4</td>\n",
       "    </tr>\n",
       "    <tr>\n",
       "      <th>1220</th>\n",
       "      <td>SirT6</td>\n",
       "      <td>2</td>\n",
       "    </tr>\n",
       "    <tr>\n",
       "      <th>36446</th>\n",
       "      <td>Stuttero</td>\n",
       "      <td>2</td>\n",
       "    </tr>\n",
       "    <tr>\n",
       "      <th>40999</th>\n",
       "      <td>mvea</td>\n",
       "      <td>1</td>\n",
       "    </tr>\n",
       "  </tbody>\n",
       "</table>\n",
       "</div>"
      ],
      "text/plain": [
       "                  banned_by  freq\n",
       "2             AutoModerator  2319\n",
       "1129                   V2O5    46\n",
       "4731             lughnasadh    35\n",
       "4738   TransPlanetInjection    31\n",
       "1334                      1    27\n",
       "6005              Yosarian2    26\n",
       "1469            mind_bomber    23\n",
       "13400          lord_stryker    20\n",
       "1523               Sirisian    13\n",
       "16293            Buck-Nasty     5\n",
       "7369       ImLivingAmongYou     4\n",
       "9148        Gobi_The_Mansoe     4\n",
       "1220                  SirT6     2\n",
       "36446              Stuttero     2\n",
       "40999                  mvea     1"
      ]
     },
     "execution_count": 50,
     "metadata": {},
     "output_type": "execute_result"
    }
   ],
   "source": [
    "sub_df = df[df.banned_by.notna()]\n",
    "sub_df['freq'] = sub_df.groupby('banned_by')['banned_by'].transform('count')\n",
    "sub_df[['banned_by', 'freq']].drop_duplicates().sort_values(['freq'], ascending = [False])"
   ]
  },
  {
   "cell_type": "code",
   "execution_count": 51,
   "metadata": {},
   "outputs": [
    {
     "data": {
      "text/plain": [
       "((44704, 13), (44704, 13))"
      ]
     },
     "execution_count": 51,
     "metadata": {},
     "output_type": "execute_result"
    }
   ],
   "source": [
    "df.shape, df[df.agreement_score.notna()].shape"
   ]
  },
  {
   "cell_type": "markdown",
   "metadata": {},
   "source": [
    "# Automod removals"
   ]
  },
  {
   "cell_type": "code",
   "execution_count": 52,
   "metadata": {},
   "outputs": [
    {
     "name": "stdout",
     "output_type": "stream",
     "text": [
      "Total number of comments removed by AutoModerator during the experiment =  2319\n",
      "% of removed comments that were removed by AutoModerator during the experiment =  90 %\n",
      "Number of comments reported by Crossmod that were subsequently removed by AutoModerator during the experiment =  0\n",
      "% of comments reported by Crossmod that were subsequently removed by AutoModerator during the experiment =  0 %\n"
     ]
    }
   ],
   "source": [
    "print(\"Total number of comments removed by AutoModerator during the experiment = \", df[df.banned_by == \"AutoModerator\"].shape[0])\n",
    "print(\"% of removed comments that were removed by AutoModerator during the experiment = \", int(100.0 * df[df.banned_by == \"AutoModerator\"].shape[0]/df[df.banned_by.notna()].shape[0]), \"%\")\n",
    "print(\"Number of comments reported by Crossmod that were subsequently removed by AutoModerator during the experiment = \" , df[(df.crossmod_action == \"report\") & (df.banned_by == \"AutoModerator\")].shape[0])\n",
    "print(\"% of comments reported by Crossmod that were subsequently removed by AutoModerator during the experiment = \" , int(100.0*df[(df.crossmod_action == \"report\") & (df.banned_by == \"AutoModerator\")].shape[0]/df[(df.banned_by == \"AutoModerator\")].shape[0]), \"%\")"
   ]
  },
  {
   "cell_type": "markdown",
   "metadata": {},
   "source": [
    "# Human moderator removals"
   ]
  },
  {
   "cell_type": "code",
   "execution_count": 53,
   "metadata": {},
   "outputs": [
    {
     "name": "stdout",
     "output_type": "stream",
     "text": [
      "Total number of comments removed by human moderators during the experiment =  239\n",
      "% of removed comments that were removed by human mods during the experiment =  9 %\n",
      "Number of comments reported by Crossmod that were subsequently removed by human mods during the experiment =  0\n",
      "% of comments reported by Crossmod that were subsequently removed by human mods during the experiment =  0 %\n"
     ]
    }
   ],
   "source": [
    "print(\"Total number of comments removed by human moderators during the experiment = \", df[(df.banned_by != \"AutoModerator\") & (df.banned_by.notna())].shape[0])\n",
    "print(\"% of removed comments that were removed by human mods during the experiment = \", int(100.0 * df[(df.banned_by != \"AutoModerator\") & (df.banned_by.notna())].shape[0]/df[df.banned_by.notna()].shape[0]), \"%\")\n",
    "print(\"Number of comments reported by Crossmod that were subsequently removed by human mods during the experiment = \", df[(df.crossmod_action == \"report\") & (df.banned_by != \"AutoModerator\") & (df.banned_by.notna())].shape[0])\n",
    "print(\"% of comments reported by Crossmod that were subsequently removed by human mods during the experiment = \", int(100*df[(df.crossmod_action == \"report\") & (df.banned_by != \"AutoModerator\") & (df.banned_by.notna())].shape[0]/df[(df.banned_by != \"AutoModerator\") & (df.banned_by.notna())].shape[0]), \"%\")"
   ]
  },
  {
   "cell_type": "markdown",
   "metadata": {},
   "source": [
    "# Crossmod reports"
   ]
  },
  {
   "cell_type": "code",
   "execution_count": 54,
   "metadata": {},
   "outputs": [
    {
     "name": "stdout",
     "output_type": "stream",
     "text": [
      "Total number of comments that Crossmod would have removed during the pilot study =  657\n",
      "% comments ingested that Crossmod would have removed during the pilot study =  1 %\n",
      "Number of comments that Crossmod would have removed during the pilot study that were subsequently removed =  169\n",
      "% of comments that Crossmod would have removed during the pilot study that were subsequently removed =  25 %\n"
     ]
    }
   ],
   "source": [
    "print(\"Total number of comments that Crossmod would have removed during the pilot study = \", df[df.crossmod_action == \"remove\"].shape[0])\n",
    "print(\"% comments ingested that Crossmod would have removed during the pilot study = \", int(100.0 * df[df.crossmod_action == \"remove\"].shape[0]/df.shape[0]), \"%\")\n",
    "print(\"Number of comments that Crossmod would have removed during the pilot study that were subsequently removed = \", df[(df.crossmod_action == \"remove\") & (df.banned_by.notna())].shape[0])\n",
    "print(\"% of comments that Crossmod would have removed during the pilot study that were subsequently removed = \", int(100.0 * df[(df.crossmod_action == \"remove\") & (df.banned_by.notna())].shape[0]/df[df.crossmod_action == \"remove\"].shape[0]), \"%\")"
   ]
  },
  {
   "cell_type": "markdown",
   "metadata": {},
   "source": [
    "# FALSE POSITIVES - "
   ]
  },
  {
   "cell_type": "code",
   "execution_count": 55,
   "metadata": {
    "scrolled": true
   },
   "outputs": [
    {
     "name": "stdout",
     "output_type": "stream",
     "text": [
      "=*(\n",
      "\n",
      "Republicans suck. Democrats suck.  Flip flops on who sucks more, but they both suck.\n",
      "----------------------\n",
      "“Saving the planet is impossible, so it’s okay for me to make millions of dollars through capitalism. Whatever I do is green and makes me a better person than you.”\n",
      "\n",
      "This hypocritical old white man can suck a fat donkey dick.\n",
      "----------------------\n",
      "Nevermind, just go back to sucking trumps dick.\n",
      "----------------------\n",
      "My oh my, you're a slow one, aren't you? Oh well. You can't fix stupid.\n",
      "----------------------\n",
      "Fuck yes. This.\n",
      "----------------------\n",
      "Don't need the nanny state in my life telling me not to suck my own dick, thanks\n",
      "----------------------\n",
      "> Lmao are you dumb? \n",
      "\n",
      "No, YOU are dumb. Abysmally dumb, because you can't understand the fact that ONE Amazon van makes deliveries to SEVERAL different homes. \n",
      "\n",
      "What you're saying is that mass transit is inefficient because a bus uses more fuel than a personal car. How stupid can you be...\n",
      "----------------------\n",
      "You'll get $5.. I'd rather not be datamined. Fuck em\n",
      "----------------------\n",
      "This sub is like an English professor. You have to make up a much of bullshit, taking up 6 pages when it can be said in 1 or 2. It's fucking retarded and a rule made by people with too much time on their hands\n",
      "----------------------\n",
      "Honestly I'll vote for the guy who just says fuck it, I love hentai, deal with it, as long as the rest of my views line up. Literally everyone on the planet looks at porn and masturbates, but we all have to act like we don't. Who gives a fuck?\n",
      "----------------------\n",
      "But I like the crooks that support my opinions :( left >>>>>>>> right. All republicans are evil idiots\n",
      "----------------------\n",
      "Oh, good legislation? Bitch McConnell will make sure it dies\n",
      "----------------------\n",
      "Fuckin' buzzkill dude.\n",
      "\n",
      "(But wow nice work)\n",
      "----------------------\n",
      "Damn shame the DNC fucked up when it was most imperative we win. DNC does not get enough blame for ruining this country.\n",
      "----------------------\n",
      "Yeah. this luddite bullshit is cringey AF.\n",
      "----------------------\n",
      "Fucking **LOL.** Thanks for the laugh mate.\n",
      "\n",
      "It's so true it hurts...\n",
      "----------------------\n",
      "“Heat seeking technology”\n",
      "\n",
      "It’s a drone with a thermal camera, get out of here with this clickbait bullshit\n",
      "----------------------\n",
      "GO fuck yourself kindly. You are giving into a cult of personality and not being objective to the ecological facts of patagonia. Patagonia is Lebron James, making money on wokeness and doing nothinng to *actually* help. Look up better brands and buy from them. Im not saying he is not doing enough i am saying he is a fucking liar and hypocrite but you believe one fucking article over countless independent investigation on multiple continents. \n",
      "\n",
      "Stop following every billionaire with an answer and do some work ya lazy ass.\n",
      "----------------------\n",
      "> because it benefited you in the last election.\n",
      "\n",
      "Jesus fucking christ...\n",
      "\n",
      "I HATE Donald Trump more than anyone. I am going to vote for the D candidate in 2020 just so that fat piece of human garbage doesn't get another term.\n",
      "\n",
      "Leave your biases at the door please.\n",
      "----------------------\n",
      "Plee plorp ploop. You're a loser.\n",
      "----------------------\n",
      "100% fuck this.\n",
      "----------------------\n",
      "Fuck this defeatist bullshit.  Even if we are too late, it'll be a lot less awful if we strive to improve things.  Working toward a better future can make a difference, even if it won't be exactly what we how we wanted it.\n",
      "----------------------\n",
      "So useful, yet you go missing with the million fucking reposts all oflver reddit. Well done.\n",
      "----------------------\n",
      "Fuck that. If youre a criminal definitely have it set put in the pin wrong whipes whole phone that's amateur hour.\n",
      "----------------------\n",
      "No. Fucking. Way.\n",
      "\n",
      "[https://www.youtube.com/watch?v=QfSW0A5SRq4](https://www.youtube.com/watch?v=QfSW0A5SRq4)\n",
      "----------------------\n",
      "Wish this rich asshole would invest in the earth and space like Elon\n",
      "----------------------\n",
      "This is fucking idiotic.\n",
      "\n",
      "I get that gas taxes pay for roads etc but we have to make it as easy as possible to encourage the change to EVs.\n",
      "----------------------\n",
      "Strawmen and bullshit for miles.\n",
      "----------------------\n",
      "Whole lot of dicks\n",
      "----------------------\n",
      "I live in PA, we are regressive as fuck and I can't wait to leave this shit hole.\n",
      "----------------------\n",
      "I hope all this fuckers go bankruptcy and will be force to sell camel shit to survive.\n",
      "----------------------\n",
      "This is garbage, Karen’s Chevy volt isn’t going to make a difference in road funding. In 15-20 years maybe but right now it’s an asshole move.\n",
      "----------------------\n",
      "Haha some dumbasses voted those morons in office lol. Pennsylvania, the new Kentucky.\n",
      "----------------------\n",
      "Fuck PA law makers.  \n",
      "\n",
      "This dumb shit keeps happening all over the state.  \n",
      "\n",
      "Does our vote even count?\n",
      "----------------------\n",
      "Fuel taxes keep your infrastructure repaired.\n",
      "\n",
      "You want shitty highways and bridges? Just refuse to pay your fucking taxes.\n",
      "----------------------\n",
      "Ahahaha wow, I'm so glad I moved out if that shithole state. Not surprised one bit, another bullshit excuse to throw massive taxes at residents. Taxsylvania does it again!\n",
      "----------------------\n",
      "Huh. TIL that Norway has just as much tax money as the USA to spend on roads. Those motherfuckers are *rich*.\n",
      "----------------------\n",
      "The commonwealth has the worst fucking roads in all the states. Especially the Delaware Valley area where the bulk of the people are. Every road there sucks from 202 to 422 to 76 to 476 to route 100,352, route 3 etc. They are all fucking a mess. I hate Pennsylvania.\n",
      "----------------------\n",
      "I'm so glad I left. PA tries to instill arbitrary taxes on the dumbest shit\n",
      "----------------------\n",
      "Then don't buy a fucking brand new one! You can get a used PHEV or BEV for less than 10k with plenty of \"go\" left in the battery.\n",
      "----------------------\n",
      "They really aren't that difficult to fuck with.\n",
      "----------------------\n",
      "Shithole states\n",
      "----------------------\n",
      "Purple here almost elected the fucking idiot known as ‘beto’\n",
      "----------------------\n",
      "Oh, fuck west Texas. \n",
      "\n",
      "Souce: have drive across Texas\n",
      "----------------------\n",
      "What the actual fuck, serious fuck Republicans. He is getting paid by the fossil fuel company to tax them.\n",
      "----------------------\n",
      "PA neither needs nor deserves more money. Highest tax tax, still shitty roads.\n",
      "----------------------\n",
      "My uncle died in Pennsylvania and I had to pay an inheritance tax.\n",
      "\n",
      "You fuckers are nuts over there.\n",
      "----------------------\n",
      "Wow, you got fucked didn’t you?\n",
      "----------------------\n",
      "Fuck PA and their stupid truck driving laws as well.  Their reasoning for both is ridiculous.\n",
      "----------------------\n",
      "Only if \"you\" were purposefully kept ignorant, and you had the knowledge prior to transfer removed or obfuscated somehow. Or, y'know, you're an idiot.\n",
      "----------------------\n",
      "All these bills are written by politicians in the pocket of oil lobbyists.  We are done with this shit.  Fuck them and their greedy agendas.\n",
      "----------------------\n",
      "SUV - Stupid, Useless and Vain. It's a description of the owner.\n",
      "----------------------\n",
      "You are complete garbage. Your 200 karma in 5 years proves that you're trash.\n",
      "----------------------\n",
      "As if our taxes weren't bad enough. They friggin tax everything. And then squander it on dumb unrelated shit\n",
      "----------------------\n",
      "dude why did i have to be born in such a horseshit state.\n",
      "----------------------\n",
      ">quietly \n",
      "\n",
      "Why do media outlets keep putting this shit in their titles?...\n",
      "----------------------\n",
      "Biggest idiots are driving pickup trucks.\n",
      "----------------------\n",
      "Oh shit I think you solved global warming\n",
      "----------------------\n",
      "What a pile of crap.\n",
      "----------------------\n",
      "https://www.americangeosciences.org/critical-issues/faq/how-much-oil-does-us-export-and-import\n",
      "\n",
      "So... Tax people because most of their oil is either made in the U.S. or Canada....\n",
      "\n",
      "*Fuck Canadaaaa! Fuck Canadaaaa!*\n",
      "----------------------\n",
      "It's all one big ass blast\n",
      "----------------------\n",
      "Well they're fucking idiots then. I don't know where you're living, but preservation and development can actually happen hand in hand. There's shitloads of cities that do it.\n",
      "----------------------\n",
      "We keep getting blasted in the ass with taxes.\n",
      "----------------------\n",
      "We are all getting blasted in the ass. It's all one big ass blast.\n",
      "----------------------\n",
      "yup run away pussy\n",
      "----------------------\n",
      "Pretty much hate it as much as “...this one weird trick” “you won’t believe what this person looks like now” “stop eating THIS immediately!” \n",
      "\n",
      "Just shitty clickbait titles\n",
      "----------------------\n",
      "A quiet ass blast slam jam\n",
      "----------------------\n",
      "What kind of dumbass retarded comment is this? Oh wait. I answered my own question.\n",
      "----------------------\n",
      "_**Yeah you fuckin retard!**_\n",
      "----------------------\n",
      "Oh yes dude FUCK if only the interior department issued a news release. I always check that shit daily !!\n",
      "----------------------\n",
      "u/AdamWegweiser could you quietly stop making shitty titles?\n",
      "----------------------\n",
      "It’s just about fuck all really\n",
      "----------------------\n",
      "You should consider that maybe you’re an asshole, and that’s why you see things that way.\n",
      "----------------------\n",
      "Not the OP but I'm gonna go out on a limb and say if you're in a single vehicle accident on the freeway, spun out into the grass with your vehicle destroyed, you're probably the asshole.\n",
      "----------------------\n",
      "Holy shit 😂😂😂\n",
      "\n",
      "Okay okay enough nonsense outta u, ur killing me\n",
      "----------------------\n",
      "Ya and keep it quiet before the trump admin hears and puts an end to that shit.\n",
      "----------------------\n",
      "Holy shit how I hate scientists who deal in absolutes.\n",
      "----------------------\n",
      "you're quite the dishonest piece of shit, aren't you\n",
      "----------------------\n",
      ">big brain response right here\n",
      "\n",
      "damn I wish I could be as dumb as you ://\n",
      "----------------------\n",
      "Yeah fuck paying scientists\n",
      "----------------------\n",
      "I mean paying them to say inaccurate shit in your favour.\n",
      "----------------------\n",
      "Texas. It's fucking ridiculous, the amount of willful ignorance in this state.\n",
      "----------------------\n",
      "I don't think you understand the problem. I think you are just saying shit without context.\n",
      "----------------------\n",
      "That sucks i want war robots to go on a rampage. Traffic is fucking awful.\n",
      "----------------------\n",
      "I'd rather be clueless versus a retard like you.\n",
      "----------------------\n",
      "From their ass\n",
      "----------------------\n",
      "From the replies, it sounds like you are talking out of your ass\n",
      "----------------------\n",
      "Killer robots? Oh fuck! I’m living in the future!\n",
      "----------------------\n",
      "Mr Thorium in the DeLorean motherfuckers!\n",
      "----------------------\n",
      "This is some Days of Future Past shit here\n",
      "----------------------\n",
      "Killing people by remote control makes wars extremely lopsided, which is a good thing, as it means people don't start shit.\n",
      "----------------------\n",
      "Holy shit you really like Larry Sharpe.\n",
      "----------------------\n",
      "I assume he's smarter than me, and the fact he wants thorium reactors by 2027 means fusion ain't happening  for atleast ANOTHER decade, fuck shit poop.\n",
      "----------------------\n",
      "That's nice, I hope he has some serious capital and some real good dick sucking lips to lube up whomevers jurisdiction he plans to build it in. You can have the money, the land and a great idea but stupid people will stop you 90% of the time.\n",
      "----------------------\n",
      "Hey dickbag, just put it all *in one fucking post*, you don't need to blow my shit up. I'm blocking you because that's annoying as fuck.\n",
      "----------------------\n",
      "Oh well then clearly he's a hero.  Let's all assemble in a single file line to suck his dick.\n",
      "----------------------\n",
      "No I'm a meaningless piece of shit too. smh did you even read what I typed?\n",
      "----------------------\n",
      "Fucking A, finally. Thorium makes so much sense but people just want to be in denial.\n",
      "----------------------\n",
      "Yeah fucking right. Humanities entire purpose seems to be to bootstrap these kind of AI.\n",
      "----------------------\n",
      "Is he going to pull a functional thorium reactor out of his ass as well as $3.84 Trillion dollars per year? \n",
      "\n",
      "They’re after me lucky charms! Populist shit that sounds appealing to center left and left voters- don’t be as ignorant as MAGA cultists. They want a wall. You want 12k. Populism is cancer. Give me a list of companies willing to pay the taxes necessary to subsidise that without fucking off abroad.\n",
      "----------------------\n"
     ]
    }
   ],
   "source": [
    "for comment in df[(df.crossmod_action == \"remove\") & (df.banned_by.isna())].body[:100]:\n",
    "    print(comment)\n",
    "    print(\"----------------------\")"
   ]
  },
  {
   "cell_type": "markdown",
   "metadata": {},
   "source": [
    "# FALSE NEGATIVES - "
   ]
  },
  {
   "cell_type": "code",
   "execution_count": 56,
   "metadata": {
    "scrolled": true
   },
   "outputs": [
    {
     "name": "stdout",
     "output_type": "stream",
     "text": [
      "Metaphorically burning your vote is better than not voting. If everyone who hated both would’ve wrote in Bernie or any other candidate, it would’ve at least sent a clear fuck you to Trump and Hillary. The democrats and republicans would try their hardest to sway the burned votes, possibly with new candidates on both sides. But if you don’t at least do that, they don’t care about you.\n",
      "\n",
      "Voting makes them care. Contacting state/regional/local candidates and telling them which way you want them to vote on issues lets the larger politicians know how they should vote/support. They only care about voters.\n",
      "----------------------\n",
      "The only reason it looks like the temperature is increasing is because over the past 20 years 3,000 weather reporting stations that didn’t show rising temperatures were replaced with new weather reporting stations in dense urban locations and airports. Theses new locations were guaranteed to show rising temperatures due to the surrounding development.\n",
      "\n",
      "Put simply they stacked the deck so it was impossible to reach any other conclusion.\n",
      "\n",
      "I know you don’t believe and think it’s a crackpot conspiracy, but it isn’t...\n",
      "\n",
      "http://citeseerx.ist.psu.edu/viewdoc/download?doi=10.1.1.175.4705&rep=rep1&type=pdf\n",
      "\n",
      "https://journals.ametsoc.org/doi/pdf/10.1175/1520-0450(1986)025%3C1265%3AUW%3E2.0.CO%3B2\n",
      "\n",
      "https://notrickszone.com/2017/02/13/more-data-manipulation-by-noaa-nasa-hadcrut-cooling-the-past-warming-the-present/\n",
      "----------------------\n",
      "Of course....\n",
      "----------------------\n",
      "New Bill goes absolutely nowhere...\n",
      "----------------------\n",
      "Haha yah this isn’t happening\n",
      "----------------------\n",
      "And you think this will pass why exactly?\n",
      "----------------------\n",
      "Thanks\n",
      "----------------------\n",
      "Yea. Sure. Then the Politicians next right?\n",
      "----------------------\n",
      "Teach it to eat human meat\n",
      "----------------------\n",
      "> Jail Time to CEOs \n",
      "\n",
      "Not happening lol\n",
      "----------------------\n",
      "Add politicians to that list...\n",
      "----------------------\n",
      "What risks?\n",
      "----------------------\n",
      "FINALLY\n",
      "----------------------\n",
      "What is \"Our Privacy Nightmare\"?\n",
      "----------------------\n",
      "Amen\n",
      "----------------------\n",
      "r/enlightenedcentrism\n",
      "----------------------\n",
      "Durrrrrr\n",
      "----------------------\n",
      "Too little, too late\n",
      "----------------------\n",
      "Cooperatives can only be sustainable in a capitalist society, as evidenced by the examples you pulled out being from capitalist or at least non socialist countries. Not sure what point you were trying to make here.\n",
      "\n",
      "> This is a bad thing. Stop using this to defend capitalism.\n",
      "\n",
      "No it's not, that's how life works. Life contains risk, if you want to rise above you either nut up and deal with that risk or you whinge and cry for the socialist government to mask that risk for you while you slowly die having accomplished nothing of value in your entire life. Having to take risks is not a bad thing, it's what separates losers from successful people. \n",
      "\n",
      "> Workers are the company. Everything the company does can be done by the workers as a collective. You don't need someone on top to pay the workers.\n",
      "\n",
      "No they are not. Workers are a part of a company managed by a boss. Without someone above to run everything, no one would know what to do. We're not ants. We do not secrete pheromones to signal the colony as a whole what task needs to be done. Fair but though management is 100% required in order to maintain a successful company. Management is there to reward good work and punish bad work. Who the fuck is going to fire an insubordinate employee when no one's the boss? What are we supposed to do in that case, take a collective vote? OF COURSE! GENIUS! Let's open the flood gate of majority driven decision making in a company, surely the assembly line worker knows enough about marketing to make good decisions in that field! \n",
      "\n",
      "Running a company is hard work. Being a boss is hard work. Just because labor isn't manual doesn't mean it is not labor. Running a company is mental labor. There are entire fields of study around the idea of good and efficient company management. Stop trying to deny this by pretending like being a boss is about sitting on your ass smoking cigars. It's honestly pathetic at this point how little you understand about companies.\n",
      "\n",
      "> Holy shit please, for the love of god, look into revolutionary Catalonia, or Rojava, or the Zapatistas.\n",
      "\n",
      "Why? Those last two places look awful and Catalonia is basically Spain. Not sure how those places are valid examples of a successful no boss business. Countries are not businesses either lmfao, what the hell is the logic in this reply?\n",
      "\n",
      "> Under socialism, making a profit isn't the point.\n",
      "\n",
      "We all know this, that's why we're saying it doesnt work.\n",
      "\n",
      "> Look at the american mobility scooter. Did you read the last line? \"Generally held nutritional standards suggest individuals need fewer calories, less meat, less sugar and more grain to stay fit.\"\n",
      "\n",
      "Okay, but isn't being able to become obese is a clear sign that capitalism is working at generating wealth? You seem to be moving the goal post constantly in this debate. We're not talking about how bad america is, you retarded commie, we're talking about *Capitalism*.\n",
      "\n",
      "> Do I have to link United States involvement in regime change in Latin America again?\n",
      "\n",
      "Aren't we talking about capitalism? You really, *really* seem to hate the US.\n",
      "\n",
      ">  much higher than the vast majority of Latin American nations\n",
      "\n",
      "Like I said, Cuba sees a much higher than normal income from tourism than other latin american nations, which it would not survive without.\n",
      "\n",
      "> What part of mixed economy don't you understand? Chavez took advantage of high oil prices to fund social democratic programs, which was great and vastly improved living conditions, but it isn't socialism.\n",
      "\n",
      "What part of [it's actually real socialism](https://en.wikipedia.org/wiki/United_Socialist_Party_of_Venezuela) don't you understand? Is it the part where if it doesn't work it cannot be socialism?\n",
      "----------------------\n",
      "Ah, one of my dreams is to get a job there.\n",
      "----------------------\n",
      "\"agree\"\n",
      "----------------------\n",
      ">Say what you like about privacy and data control, this is the bedrock of how every free service works on the internet. It's just that now people are starting to realize that it's happening.\n",
      "\n",
      "\n",
      "WHAAAAAAAAAAAAAT\n",
      "----------------------\n",
      "Republicans would never let this bill pass\n",
      "----------------------\n",
      "Hey give some credit to GWOT!\n",
      "----------------------\n",
      "Wait, you can have your OWN solar system??\n",
      "----------------------\n",
      "Lock him up\n",
      "----------------------\n",
      "It’ll never pass.\n",
      "----------------------\n",
      "We did it folks\n",
      "----------------------\n",
      "New bill thanks to Trump? He ain't that bad!\n",
      "----------------------\n",
      "Where is this glorious place?\n",
      "----------------------\n",
      "\"Experts\"\n",
      "----------------------\n",
      "r/woooosh\n",
      "----------------------\n",
      "Do it\n",
      "----------------------\n",
      "Think about the possibilities.  We are much more likely to simulate consciousness in the Matrix and achieve digital immortality before we beat biological death medically. That’s the big picture of this tech in my opinion.  In the short term direct interface is achieved through robotic surgery making very precise insertions of wire that serves as the interface.  This is in fact the future.  As per most things Elon Musk is doing.\n",
      "----------------------\n",
      "This is awesome.\n",
      "----------------------\n",
      "University College, London.\n",
      "----------------------\n",
      "I guarantee this will never pass\n",
      "----------------------\n",
      "Nice try\n",
      "----------------------\n",
      "A lot\n",
      "----------------------\n",
      "Love it\n",
      "----------------------\n",
      "Oooh burn!\n",
      "----------------------\n",
      "well said\n",
      "----------------------\n",
      "The article references upskilling and reskilling to fight the trend.  I think that is not significant enough and not now enough.  [Brains Wanted: Machines Hungry](https://medium.com/@frankfont123/brains-wanted-machines-hungry-58595de5da78)\n",
      "----------------------\n",
      "Was the dog found though! :0\n",
      "----------------------\n",
      "Bill nye promises to what?\n",
      "----------------------\n",
      "I have yet to see a reason for banning this.\n",
      "----------------------\n",
      "Lmao at any big time executive going to jail.\n",
      "----------------------\n",
      "I love this guy. Always with the good fight.\n",
      "----------------------\n",
      "I am not.\n",
      "----------------------\n",
      "Terminator can’t kill us if it can’t recognize us\n",
      "----------------------\n",
      "That’s a-maize-ing...\n",
      "----------------------\n",
      "Its a slime, problem solved.\n",
      "----------------------\n",
      "Any house bill is DOA so none of this matters.\n",
      "----------------------\n",
      "r/iamverysmart\n",
      "----------------------\n",
      "What will we do with all these animals?\n",
      "----------------------\n",
      "Fzzzzzzzzzzvpop\n",
      "----------------------\n",
      "I just wish it was affordable\n",
      "----------------------\n",
      "\"Ban software\". Retarded\n",
      "----------------------\n",
      "Haha, no, not going to happen.\n",
      "----------------------\n",
      "This\n",
      "----------------------\n",
      "\"Let them eat cotton\"\n",
      "----------------------\n",
      "How do you ban software exactly?\n",
      "----------------------\n",
      "It will never get signed\n",
      "----------------------\n",
      ">There wouldn’t be anyone left ~~to run the country~~\n",
      "\n",
      "FTFY\n",
      "----------------------\n",
      "So?\n",
      "----------------------\n",
      "Noice\n",
      "----------------------\n",
      "Thanks New Bill, sweet tie btw\n",
      "----------------------\n",
      "bUt hOw WiLL I UnlOCk mY PhOnE?!?\n",
      "----------------------\n",
      "Now they're finding him everywhere!\n",
      "----------------------\n",
      "And blows him up?\n",
      "----------------------\n",
      "Wow 'digital' imaging no less.\n",
      "----------------------\n",
      "Lets ban the internet too!\n",
      "----------------------\n",
      "Future Zombie Movies will be different\n",
      "----------------------\n",
      "There were no survivors.\n",
      "----------------------\n",
      "This drone could never locate my ex.\n",
      "----------------------\n",
      "See above.\n",
      "----------------------\n",
      "!remindme 8 hours\n",
      "----------------------\n",
      "Yep\n",
      "----------------------\n",
      "Sign me up\n",
      "----------------------\n",
      " The important aspect motivating the progress of facial recognition is the nonstop increasing investment into surveillance systems internationally. Growing occurrences of terror outbreaks have considerably inclined the necessity for surveillance arrangements in open places. Yet, owing to confidentiality worries like misapplication of personal facts and data duplicating may be a most important limiting issue that would obstruct the progress of facial recognition.  Research  [https://www.millioninsights.com/industry-reports/facial-recognition-market](https://www.millioninsights.com/industry-reports/facial-recognition-market?utm_source=reddit&utm_medium=referral&utm_campaign=Unnati_18Oct19)\n",
      "----------------------\n",
      "Banning technology does not work.\n",
      "----------------------\n",
      "Yes but in the long run it'll be good for Russia\n",
      "----------------------\n",
      "Thank god heros like Edward Snowden released data on CIA signit activities in China it was critical for my human rights to know the exact hardware exploits on XKS altered devices.\n",
      "\n",
      "Super thankful he leaked the NSA ant catalog with mountains of technical instructions. It was critical to my freedom that Snowden release counter intel data and classified military technology to foreign countries. Without those 50-page of [classified](https://en.wikipedia.org/wiki/Classified_information) technology and the accompanying instruction guides, well I might as well be a sheep. Hes a true American hero. He fought for my right to know about the [CYCLONE-HX9](https://en.wikipedia.org/wiki/File:Nsa-ant-cyclone-hx9.jpg) \\- GSM Base Station Router and to ensure the True leaders of the free world, Russia and China could evade further American imperialism.\n",
      "----------------------\n",
      "Wow, I hope it works\n",
      "----------------------\n",
      "**ADVERTISEMENT**\n",
      "----------------------\n",
      "What benefits?\n",
      "----------------------\n",
      "Calthrate gun is cocked.\n",
      "----------------------\n",
      "Children of the Corn.\n",
      "----------------------\n",
      "Thanks for a very interesting article.\n",
      "----------------------\n",
      "Mark\n",
      "----------------------\n",
      "**Hi there, /u/SirT6 - it looks like your submission is in the form of an image or gif.**\n",
      "\n",
      "Remember that [Rule 3](https://www.reddit.com/r/futurology/wiki/rules#wiki_3._no_memes.2C_reaction_gifs_or_similarly_low_effort_content._any_images_or_gifs_must_either_be_in_the_form_of_an_infographic_or_must_be_accompanied_by_a_starter_comment_describing_the_post_and_how_it_relates_to_futurology.) requires that image or gif-based posts not in the form of an infographic must be accompanied by a starter comment that describes the content and how it relates to futurology. This requirement is intended to help ensure that r/futurology remains a site for high-quality, future-focussed content. We appreciate you help in this matter!\n",
      "\n",
      "*I am a bot, and this action was performed automatically. Please [contact the moderators of this subreddit](/message/compose/?to=/r/Futurology) if you have any questions or concerns.*\n",
      "----------------------\n",
      "You can't ban a technology.\n",
      "----------------------\n",
      "Exactly\n",
      "----------------------\n",
      "Invest in plastic surgery companies. Got it.\n",
      "----------------------\n",
      "At first I read heat seeking missile and... Oh no...\n",
      "----------------------\n",
      "Now that's a massive technical challenge!\n",
      "----------------------\n",
      ">*Bezos is unabashed in his fanaticism for Star Trek and its many spin-offs. He has a holding company called Zefram, which honors the character who invented warp drive. He persuaded the makers of the film Star Trek Beyond to give him a cameo as a Starfleet official. He named his dog Kamala, after a woman who appears in an episode as Picard’s “perfect” but unattainable mate. As time has passed, Bezos and Picard have physically converged. Like the interstellar explorer, portrayed by Patrick Stewart, Bezos shaved the remnant strands on his high-gloss pate and acquired a cast-iron physique. A friend once said that Bezos adopted his strenuous fitness regime in anticipation of the day that he, too, would journey to the heavens.*  \n",
      ">  \n",
      ">***When reporters tracked down Bezos’s high-school girlfriend, she said, “The reason he’s earning so much money is to get to outer space.”***\n",
      "----------------------\n",
      "Little too late for that.\n",
      "----------------------\n",
      "r/gifsthatendtoosoon\n",
      "----------------------\n",
      "*china laughs*\n",
      "----------------------\n"
     ]
    }
   ],
   "source": [
    "for comment in df[(df.crossmod_action != \"remove\") & (df.banned_by.notna())].body[:100]:\n",
    "    print(comment)\n",
    "    print(\"----------------------\")"
   ]
  },
  {
   "cell_type": "markdown",
   "metadata": {},
   "source": [
    "# Users who've been reported and removed multiple times"
   ]
  },
  {
   "cell_type": "code",
   "execution_count": 57,
   "metadata": {
    "scrolled": true
   },
   "outputs": [
    {
     "data": {
      "text/html": [
       "<div>\n",
       "<style scoped>\n",
       "    .dataframe tbody tr th:only-of-type {\n",
       "        vertical-align: middle;\n",
       "    }\n",
       "\n",
       "    .dataframe tbody tr th {\n",
       "        vertical-align: top;\n",
       "    }\n",
       "\n",
       "    .dataframe thead th {\n",
       "        text-align: right;\n",
       "    }\n",
       "</style>\n",
       "<table border=\"1\" class=\"dataframe\">\n",
       "  <thead>\n",
       "    <tr style=\"text-align: right;\">\n",
       "      <th></th>\n",
       "      <th>author</th>\n",
       "      <th>freq</th>\n",
       "    </tr>\n",
       "  </thead>\n",
       "  <tbody>\n",
       "    <tr>\n",
       "      <th>3539</th>\n",
       "      <td>Koalaman21</td>\n",
       "      <td>115</td>\n",
       "    </tr>\n",
       "    <tr>\n",
       "      <th>1240</th>\n",
       "      <td>OliverSparrow</td>\n",
       "      <td>95</td>\n",
       "    </tr>\n",
       "    <tr>\n",
       "      <th>139</th>\n",
       "      <td>ThereOnceWasADonkey</td>\n",
       "      <td>92</td>\n",
       "    </tr>\n",
       "    <tr>\n",
       "      <th>251</th>\n",
       "      <td>Surur</td>\n",
       "      <td>86</td>\n",
       "    </tr>\n",
       "    <tr>\n",
       "      <th>248</th>\n",
       "      <td>VitriolicViolet</td>\n",
       "      <td>85</td>\n",
       "    </tr>\n",
       "    <tr>\n",
       "      <th>...</th>\n",
       "      <td>...</td>\n",
       "      <td>...</td>\n",
       "    </tr>\n",
       "    <tr>\n",
       "      <th>18130</th>\n",
       "      <td>greybaby55</td>\n",
       "      <td>1</td>\n",
       "    </tr>\n",
       "    <tr>\n",
       "      <th>18129</th>\n",
       "      <td>brookevdaaaaa</td>\n",
       "      <td>1</td>\n",
       "    </tr>\n",
       "    <tr>\n",
       "      <th>18125</th>\n",
       "      <td>Certainly-Not-A-Bot</td>\n",
       "      <td>1</td>\n",
       "    </tr>\n",
       "    <tr>\n",
       "      <th>18124</th>\n",
       "      <td>MeatRack</td>\n",
       "      <td>1</td>\n",
       "    </tr>\n",
       "    <tr>\n",
       "      <th>44698</th>\n",
       "      <td>SB-1</td>\n",
       "      <td>1</td>\n",
       "    </tr>\n",
       "  </tbody>\n",
       "</table>\n",
       "<p>23342 rows × 2 columns</p>\n",
       "</div>"
      ],
      "text/plain": [
       "                    author  freq\n",
       "3539            Koalaman21   115\n",
       "1240         OliverSparrow    95\n",
       "139    ThereOnceWasADonkey    92\n",
       "251                  Surur    86\n",
       "248        VitriolicViolet    85\n",
       "...                    ...   ...\n",
       "18130           greybaby55     1\n",
       "18129        brookevdaaaaa     1\n",
       "18125  Certainly-Not-A-Bot     1\n",
       "18124             MeatRack     1\n",
       "44698                 SB-1     1\n",
       "\n",
       "[23342 rows x 2 columns]"
      ]
     },
     "execution_count": 57,
     "metadata": {},
     "output_type": "execute_result"
    }
   ],
   "source": [
    "#author posting volumes\n",
    "sub_df = df\n",
    "sub_df['freq'] = sub_df.groupby('author')['author'].transform('count')\n",
    "sub_df[['author', 'freq']].drop_duplicates().sort_values(['freq'], ascending = [False])"
   ]
  },
  {
   "cell_type": "code",
   "execution_count": 58,
   "metadata": {
    "scrolled": true
   },
   "outputs": [
    {
     "name": "stderr",
     "output_type": "stream",
     "text": [
      "/data/home/crossmod-dev/crossmod-retrain/env/lib/python3.6/site-packages/ipykernel_launcher.py:3: SettingWithCopyWarning: \n",
      "A value is trying to be set on a copy of a slice from a DataFrame.\n",
      "Try using .loc[row_indexer,col_indexer] = value instead\n",
      "\n",
      "See the caveats in the documentation: https://pandas.pydata.org/pandas-docs/stable/user_guide/indexing.html#returning-a-view-versus-a-copy\n",
      "  This is separate from the ipykernel package so we can avoid doing imports until\n"
     ]
    },
    {
     "data": {
      "text/html": [
       "<div>\n",
       "<style scoped>\n",
       "    .dataframe tbody tr th:only-of-type {\n",
       "        vertical-align: middle;\n",
       "    }\n",
       "\n",
       "    .dataframe tbody tr th {\n",
       "        vertical-align: top;\n",
       "    }\n",
       "\n",
       "    .dataframe thead th {\n",
       "        text-align: right;\n",
       "    }\n",
       "</style>\n",
       "<table border=\"1\" class=\"dataframe\">\n",
       "  <thead>\n",
       "    <tr style=\"text-align: right;\">\n",
       "      <th></th>\n",
       "      <th>author</th>\n",
       "      <th>freq</th>\n",
       "    </tr>\n",
       "  </thead>\n",
       "  <tbody>\n",
       "    <tr>\n",
       "      <th>9148</th>\n",
       "      <td>Dues-Sol</td>\n",
       "      <td>9</td>\n",
       "    </tr>\n",
       "    <tr>\n",
       "      <th>1334</th>\n",
       "      <td>StartledWatermelon</td>\n",
       "      <td>9</td>\n",
       "    </tr>\n",
       "    <tr>\n",
       "      <th>3072</th>\n",
       "      <td>jstyler</td>\n",
       "      <td>9</td>\n",
       "    </tr>\n",
       "    <tr>\n",
       "      <th>2928</th>\n",
       "      <td>Ford456fgfd</td>\n",
       "      <td>8</td>\n",
       "    </tr>\n",
       "    <tr>\n",
       "      <th>5702</th>\n",
       "      <td>rsaralaya</td>\n",
       "      <td>6</td>\n",
       "    </tr>\n",
       "    <tr>\n",
       "      <th>...</th>\n",
       "      <td>...</td>\n",
       "      <td>...</td>\n",
       "    </tr>\n",
       "    <tr>\n",
       "      <th>8213</th>\n",
       "      <td>borkborkyupyup</td>\n",
       "      <td>1</td>\n",
       "    </tr>\n",
       "    <tr>\n",
       "      <th>8212</th>\n",
       "      <td>frydchiken333</td>\n",
       "      <td>1</td>\n",
       "    </tr>\n",
       "    <tr>\n",
       "      <th>8201</th>\n",
       "      <td>Smartsville</td>\n",
       "      <td>1</td>\n",
       "    </tr>\n",
       "    <tr>\n",
       "      <th>8197</th>\n",
       "      <td>dehehn</td>\n",
       "      <td>1</td>\n",
       "    </tr>\n",
       "    <tr>\n",
       "      <th>44674</th>\n",
       "      <td>Whatofitpunk</td>\n",
       "      <td>1</td>\n",
       "    </tr>\n",
       "  </tbody>\n",
       "</table>\n",
       "<p>2299 rows × 2 columns</p>\n",
       "</div>"
      ],
      "text/plain": [
       "                   author  freq\n",
       "9148             Dues-Sol     9\n",
       "1334   StartledWatermelon     9\n",
       "3072              jstyler     9\n",
       "2928          Ford456fgfd     8\n",
       "5702            rsaralaya     6\n",
       "...                   ...   ...\n",
       "8213       borkborkyupyup     1\n",
       "8212        frydchiken333     1\n",
       "8201          Smartsville     1\n",
       "8197               dehehn     1\n",
       "44674        Whatofitpunk     1\n",
       "\n",
       "[2299 rows x 2 columns]"
      ]
     },
     "execution_count": 58,
     "metadata": {},
     "output_type": "execute_result"
    }
   ],
   "source": [
    "#author removal volumes\n",
    "sub_df = df[df.banned_by.notna()]\n",
    "sub_df['freq'] = sub_df.groupby('author')['author'].transform('count')\n",
    "sub_df[['author', 'freq']].drop_duplicates().sort_values(['freq'], ascending = [False])"
   ]
  },
  {
   "cell_type": "code",
   "execution_count": 59,
   "metadata": {
    "scrolled": true
   },
   "outputs": [
    {
     "name": "stderr",
     "output_type": "stream",
     "text": [
      "/data/home/crossmod-dev/crossmod-retrain/env/lib/python3.6/site-packages/ipykernel_launcher.py:3: SettingWithCopyWarning: \n",
      "A value is trying to be set on a copy of a slice from a DataFrame.\n",
      "Try using .loc[row_indexer,col_indexer] = value instead\n",
      "\n",
      "See the caveats in the documentation: https://pandas.pydata.org/pandas-docs/stable/user_guide/indexing.html#returning-a-view-versus-a-copy\n",
      "  This is separate from the ipykernel package so we can avoid doing imports until\n"
     ]
    },
    {
     "data": {
      "text/html": [
       "<div>\n",
       "<style scoped>\n",
       "    .dataframe tbody tr th:only-of-type {\n",
       "        vertical-align: middle;\n",
       "    }\n",
       "\n",
       "    .dataframe tbody tr th {\n",
       "        vertical-align: top;\n",
       "    }\n",
       "\n",
       "    .dataframe thead th {\n",
       "        text-align: right;\n",
       "    }\n",
       "</style>\n",
       "<table border=\"1\" class=\"dataframe\">\n",
       "  <thead>\n",
       "    <tr style=\"text-align: right;\">\n",
       "      <th></th>\n",
       "      <th>author</th>\n",
       "      <th>freq</th>\n",
       "    </tr>\n",
       "  </thead>\n",
       "  <tbody>\n",
       "    <tr>\n",
       "      <th>4895</th>\n",
       "      <td>Go_easy</td>\n",
       "      <td>5</td>\n",
       "    </tr>\n",
       "    <tr>\n",
       "      <th>1491</th>\n",
       "      <td>NYYoungRepublicans</td>\n",
       "      <td>4</td>\n",
       "    </tr>\n",
       "    <tr>\n",
       "      <th>6485</th>\n",
       "      <td>Koalaman21</td>\n",
       "      <td>4</td>\n",
       "    </tr>\n",
       "    <tr>\n",
       "      <th>8453</th>\n",
       "      <td>ChartreusePickle</td>\n",
       "      <td>3</td>\n",
       "    </tr>\n",
       "    <tr>\n",
       "      <th>10579</th>\n",
       "      <td>mista_sir</td>\n",
       "      <td>3</td>\n",
       "    </tr>\n",
       "    <tr>\n",
       "      <th>...</th>\n",
       "      <td>...</td>\n",
       "      <td>...</td>\n",
       "    </tr>\n",
       "    <tr>\n",
       "      <th>10977</th>\n",
       "      <td>Troll_Inc</td>\n",
       "      <td>1</td>\n",
       "    </tr>\n",
       "    <tr>\n",
       "      <th>10960</th>\n",
       "      <td>Fascinax</td>\n",
       "      <td>1</td>\n",
       "    </tr>\n",
       "    <tr>\n",
       "      <th>10949</th>\n",
       "      <td>AgnosticStopSign</td>\n",
       "      <td>1</td>\n",
       "    </tr>\n",
       "    <tr>\n",
       "      <th>10853</th>\n",
       "      <td>Son0faRich</td>\n",
       "      <td>1</td>\n",
       "    </tr>\n",
       "    <tr>\n",
       "      <th>44648</th>\n",
       "      <td>ChiefInternetSurfer</td>\n",
       "      <td>1</td>\n",
       "    </tr>\n",
       "  </tbody>\n",
       "</table>\n",
       "<p>586 rows × 2 columns</p>\n",
       "</div>"
      ],
      "text/plain": [
       "                    author  freq\n",
       "4895               Go_easy     5\n",
       "1491    NYYoungRepublicans     4\n",
       "6485            Koalaman21     4\n",
       "8453      ChartreusePickle     3\n",
       "10579            mista_sir     3\n",
       "...                    ...   ...\n",
       "10977            Troll_Inc     1\n",
       "10960             Fascinax     1\n",
       "10949     AgnosticStopSign     1\n",
       "10853           Son0faRich     1\n",
       "44648  ChiefInternetSurfer     1\n",
       "\n",
       "[586 rows x 2 columns]"
      ]
     },
     "execution_count": 59,
     "metadata": {},
     "output_type": "execute_result"
    }
   ],
   "source": [
    "#author reported volumes\n",
    "sub_df = df[df.crossmod_action == \"remove\"]\n",
    "sub_df['freq'] = sub_df.groupby('author')['author'].transform('count')\n",
    "sub_df[['author', 'freq']].drop_duplicates().sort_values(['freq'], ascending = [False])"
   ]
  },
  {
   "cell_type": "code",
   "execution_count": 60,
   "metadata": {
    "scrolled": true
   },
   "outputs": [
    {
     "name": "stderr",
     "output_type": "stream",
     "text": [
      "/data/home/crossmod-dev/crossmod-retrain/env/lib/python3.6/site-packages/ipykernel_launcher.py:3: SettingWithCopyWarning: \n",
      "A value is trying to be set on a copy of a slice from a DataFrame.\n",
      "Try using .loc[row_indexer,col_indexer] = value instead\n",
      "\n",
      "See the caveats in the documentation: https://pandas.pydata.org/pandas-docs/stable/user_guide/indexing.html#returning-a-view-versus-a-copy\n",
      "  This is separate from the ipykernel package so we can avoid doing imports until\n"
     ]
    },
    {
     "data": {
      "text/html": [
       "<div>\n",
       "<style scoped>\n",
       "    .dataframe tbody tr th:only-of-type {\n",
       "        vertical-align: middle;\n",
       "    }\n",
       "\n",
       "    .dataframe tbody tr th {\n",
       "        vertical-align: top;\n",
       "    }\n",
       "\n",
       "    .dataframe thead th {\n",
       "        text-align: right;\n",
       "    }\n",
       "</style>\n",
       "<table border=\"1\" class=\"dataframe\">\n",
       "  <thead>\n",
       "    <tr style=\"text-align: right;\">\n",
       "      <th></th>\n",
       "      <th>author</th>\n",
       "      <th>freq</th>\n",
       "    </tr>\n",
       "  </thead>\n",
       "  <tbody>\n",
       "    <tr>\n",
       "      <th>9394</th>\n",
       "      <td>killaknott27</td>\n",
       "      <td>3</td>\n",
       "    </tr>\n",
       "    <tr>\n",
       "      <th>9935</th>\n",
       "      <td>Dues-Sol</td>\n",
       "      <td>3</td>\n",
       "    </tr>\n",
       "    <tr>\n",
       "      <th>11847</th>\n",
       "      <td>ShedHero</td>\n",
       "      <td>2</td>\n",
       "    </tr>\n",
       "    <tr>\n",
       "      <th>42428</th>\n",
       "      <td>BuffaloRepublic</td>\n",
       "      <td>2</td>\n",
       "    </tr>\n",
       "    <tr>\n",
       "      <th>395</th>\n",
       "      <td>Mr_Bear_Loves_You</td>\n",
       "      <td>1</td>\n",
       "    </tr>\n",
       "    <tr>\n",
       "      <th>...</th>\n",
       "      <td>...</td>\n",
       "      <td>...</td>\n",
       "    </tr>\n",
       "    <tr>\n",
       "      <th>10746</th>\n",
       "      <td>eckstheory</td>\n",
       "      <td>1</td>\n",
       "    </tr>\n",
       "    <tr>\n",
       "      <th>10783</th>\n",
       "      <td>WeedMan420BonerGod</td>\n",
       "      <td>1</td>\n",
       "    </tr>\n",
       "    <tr>\n",
       "      <th>10808</th>\n",
       "      <td>Rotoscope8</td>\n",
       "      <td>1</td>\n",
       "    </tr>\n",
       "    <tr>\n",
       "      <th>10960</th>\n",
       "      <td>Fascinax</td>\n",
       "      <td>1</td>\n",
       "    </tr>\n",
       "    <tr>\n",
       "      <th>44482</th>\n",
       "      <td>WarPeagle</td>\n",
       "      <td>1</td>\n",
       "    </tr>\n",
       "  </tbody>\n",
       "</table>\n",
       "<p>163 rows × 2 columns</p>\n",
       "</div>"
      ],
      "text/plain": [
       "                   author  freq\n",
       "9394         killaknott27     3\n",
       "9935             Dues-Sol     3\n",
       "11847            ShedHero     2\n",
       "42428     BuffaloRepublic     2\n",
       "395     Mr_Bear_Loves_You     1\n",
       "...                   ...   ...\n",
       "10746          eckstheory     1\n",
       "10783  WeedMan420BonerGod     1\n",
       "10808          Rotoscope8     1\n",
       "10960            Fascinax     1\n",
       "44482           WarPeagle     1\n",
       "\n",
       "[163 rows x 2 columns]"
      ]
     },
     "execution_count": 60,
     "metadata": {},
     "output_type": "execute_result"
    }
   ],
   "source": [
    "#author mis-reported volumes\n",
    "sub_df = df[(df.crossmod_action == \"remove\") & (df.banned_by.notna())]\n",
    "sub_df['freq'] = sub_df.groupby('author')['author'].transform('count')\n",
    "sub_df[['author', 'freq']].drop_duplicates().sort_values(['freq'], ascending = [False])"
   ]
  },
  {
   "cell_type": "markdown",
   "metadata": {},
   "source": [
    "# Response time - "
   ]
  },
  {
   "cell_type": "code",
   "execution_count": 61,
   "metadata": {
    "scrolled": true
   },
   "outputs": [
    {
     "data": {
      "text/html": [
       "<div>\n",
       "<style scoped>\n",
       "    .dataframe tbody tr th:only-of-type {\n",
       "        vertical-align: middle;\n",
       "    }\n",
       "\n",
       "    .dataframe tbody tr th {\n",
       "        vertical-align: top;\n",
       "    }\n",
       "\n",
       "    .dataframe thead th {\n",
       "        text-align: right;\n",
       "    }\n",
       "</style>\n",
       "<table border=\"1\" class=\"dataframe\">\n",
       "  <thead>\n",
       "    <tr style=\"text-align: right;\">\n",
       "      <th></th>\n",
       "      <th>created_utc</th>\n",
       "      <th>banned_at_utc</th>\n",
       "      <th>banned_by</th>\n",
       "    </tr>\n",
       "  </thead>\n",
       "  <tbody>\n",
       "    <tr>\n",
       "      <th>1129</th>\n",
       "      <td>2019-10-18 06:18:29</td>\n",
       "      <td>2019-10-18 18:39:12.000000</td>\n",
       "      <td>V2O5</td>\n",
       "    </tr>\n",
       "    <tr>\n",
       "      <th>1220</th>\n",
       "      <td>2019-10-18 07:32:29</td>\n",
       "      <td>2019-10-18 11:33:01.000000</td>\n",
       "      <td>SirT6</td>\n",
       "    </tr>\n",
       "    <tr>\n",
       "      <th>1334</th>\n",
       "      <td>2019-10-18 08:45:14</td>\n",
       "      <td>2019-10-22 21:26:45.000000</td>\n",
       "      <td>1</td>\n",
       "    </tr>\n",
       "    <tr>\n",
       "      <th>1340</th>\n",
       "      <td>2019-10-18 08:49:44</td>\n",
       "      <td>2019-10-22 21:26:44.000000</td>\n",
       "      <td>1</td>\n",
       "    </tr>\n",
       "    <tr>\n",
       "      <th>1360</th>\n",
       "      <td>2019-10-18 08:57:26</td>\n",
       "      <td>2019-10-22 21:26:44.000000</td>\n",
       "      <td>1</td>\n",
       "    </tr>\n",
       "    <tr>\n",
       "      <th>...</th>\n",
       "      <td>...</td>\n",
       "      <td>...</td>\n",
       "      <td>...</td>\n",
       "    </tr>\n",
       "    <tr>\n",
       "      <th>44035</th>\n",
       "      <td>2019-10-16 15:29:30</td>\n",
       "      <td>2019-10-16 19:46:35.000000</td>\n",
       "      <td>lughnasadh</td>\n",
       "    </tr>\n",
       "    <tr>\n",
       "      <th>44063</th>\n",
       "      <td>2019-10-16 15:34:28</td>\n",
       "      <td>2019-10-16 19:46:35.000000</td>\n",
       "      <td>lughnasadh</td>\n",
       "    </tr>\n",
       "    <tr>\n",
       "      <th>44096</th>\n",
       "      <td>2019-10-16 15:41:35</td>\n",
       "      <td>2019-10-16 19:46:35.000000</td>\n",
       "      <td>lughnasadh</td>\n",
       "    </tr>\n",
       "    <tr>\n",
       "      <th>44110</th>\n",
       "      <td>2019-10-16 15:43:56</td>\n",
       "      <td>2019-10-16 19:46:35.000000</td>\n",
       "      <td>lughnasadh</td>\n",
       "    </tr>\n",
       "    <tr>\n",
       "      <th>44129</th>\n",
       "      <td>2019-10-16 15:46:30</td>\n",
       "      <td>2019-10-16 19:47:15.000000</td>\n",
       "      <td>lughnasadh</td>\n",
       "    </tr>\n",
       "  </tbody>\n",
       "</table>\n",
       "<p>239 rows × 3 columns</p>\n",
       "</div>"
      ],
      "text/plain": [
       "               created_utc               banned_at_utc   banned_by\n",
       "1129   2019-10-18 06:18:29  2019-10-18 18:39:12.000000        V2O5\n",
       "1220   2019-10-18 07:32:29  2019-10-18 11:33:01.000000       SirT6\n",
       "1334   2019-10-18 08:45:14  2019-10-22 21:26:45.000000           1\n",
       "1340   2019-10-18 08:49:44  2019-10-22 21:26:44.000000           1\n",
       "1360   2019-10-18 08:57:26  2019-10-22 21:26:44.000000           1\n",
       "...                    ...                         ...         ...\n",
       "44035  2019-10-16 15:29:30  2019-10-16 19:46:35.000000  lughnasadh\n",
       "44063  2019-10-16 15:34:28  2019-10-16 19:46:35.000000  lughnasadh\n",
       "44096  2019-10-16 15:41:35  2019-10-16 19:46:35.000000  lughnasadh\n",
       "44110  2019-10-16 15:43:56  2019-10-16 19:46:35.000000  lughnasadh\n",
       "44129  2019-10-16 15:46:30  2019-10-16 19:47:15.000000  lughnasadh\n",
       "\n",
       "[239 rows x 3 columns]"
      ]
     },
     "execution_count": 61,
     "metadata": {},
     "output_type": "execute_result"
    }
   ],
   "source": [
    "df[df.banned_by != \"AutoModerator\"][[\"created_utc\", \"banned_at_utc\", \"banned_by\"]].dropna()"
   ]
  },
  {
   "cell_type": "code",
   "execution_count": 62,
   "metadata": {},
   "outputs": [
    {
     "name": "stderr",
     "output_type": "stream",
     "text": [
      "/data/home/crossmod-dev/crossmod-retrain/env/lib/python3.6/site-packages/ipykernel_launcher.py:15: SettingWithCopyWarning: \n",
      "A value is trying to be set on a copy of a slice from a DataFrame.\n",
      "Try using .loc[row_indexer,col_indexer] = value instead\n",
      "\n",
      "See the caveats in the documentation: https://pandas.pydata.org/pandas-docs/stable/user_guide/indexing.html#returning-a-view-versus-a-copy\n",
      "  from ipykernel import kernelapp as app\n",
      "/data/home/crossmod-dev/crossmod-retrain/env/lib/python3.6/site-packages/ipykernel_launcher.py:16: SettingWithCopyWarning: \n",
      "A value is trying to be set on a copy of a slice from a DataFrame.\n",
      "Try using .loc[row_indexer,col_indexer] = value instead\n",
      "\n",
      "See the caveats in the documentation: https://pandas.pydata.org/pandas-docs/stable/user_guide/indexing.html#returning-a-view-versus-a-copy\n",
      "  app.launch_new_instance()\n",
      "/data/home/crossmod-dev/crossmod-retrain/env/lib/python3.6/site-packages/ipykernel_launcher.py:18: SettingWithCopyWarning: \n",
      "A value is trying to be set on a copy of a slice from a DataFrame.\n",
      "Try using .loc[row_indexer,col_indexer] = value instead\n",
      "\n",
      "See the caveats in the documentation: https://pandas.pydata.org/pandas-docs/stable/user_guide/indexing.html#returning-a-view-versus-a-copy\n",
      "/data/home/crossmod-dev/crossmod-retrain/env/lib/python3.6/site-packages/ipykernel_launcher.py:24: SettingWithCopyWarning: \n",
      "A value is trying to be set on a copy of a slice from a DataFrame.\n",
      "Try using .loc[row_indexer,col_indexer] = value instead\n",
      "\n",
      "See the caveats in the documentation: https://pandas.pydata.org/pandas-docs/stable/user_guide/indexing.html#returning-a-view-versus-a-copy\n"
     ]
    }
   ],
   "source": [
    "import datetime\n",
    "\n",
    "sub_df = df.dropna()\n",
    "created = []\n",
    "banned = []\n",
    "misses = 0\n",
    "\n",
    "def striptime1(x):\n",
    "    end_date = x\n",
    "    try:\n",
    "        return datetime.datetime.strptime(end_date, '%Y-%m-%d %H:%M:%S')\n",
    "    except:\n",
    "        return datetime.datetime.strptime(end_date[:-7], '%Y-%m-%d %H:%M:%S')\n",
    "\n",
    "sub_df['created'] = sub_df['created_utc'].apply(striptime1)\n",
    "sub_df['banned'] = sub_df['banned_at_utc'].apply(striptime1)\n",
    "\n",
    "sub_df['response_time'] = sub_df['banned'] - sub_df['created']\n",
    "\n",
    "seconds = []\n",
    "for x in sub_df['response_time']:\n",
    "    seconds.append(x.total_seconds())\n",
    "    \n",
    "sub_df['response_time'] = seconds"
   ]
  },
  {
   "cell_type": "code",
   "execution_count": 63,
   "metadata": {},
   "outputs": [
    {
     "data": {
      "text/plain": [
       "(122712.85355648535, 31556.0, 746946.0, 14400.0)"
      ]
     },
     "execution_count": 63,
     "metadata": {},
     "output_type": "execute_result"
    }
   ],
   "source": [
    "sub_df = sub_df[sub_df.banned_by != \"AutoModerator\"]\n",
    "sub_df.response_time.mean(), sub_df.response_time.median(), sub_df.response_time.max(), sub_df.response_time.min()"
   ]
  },
  {
   "cell_type": "code",
   "execution_count": 64,
   "metadata": {},
   "outputs": [
    {
     "data": {
      "text/plain": [
       "5.709444444444444"
      ]
     },
     "execution_count": 64,
     "metadata": {},
     "output_type": "execute_result"
    }
   ],
   "source": [
    "20554/3600"
   ]
  },
  {
   "cell_type": "code",
   "execution_count": 65,
   "metadata": {},
   "outputs": [
    {
     "data": {
      "text/plain": [
       "239"
      ]
     },
     "execution_count": 65,
     "metadata": {},
     "output_type": "execute_result"
    }
   ],
   "source": [
    "sub_df.shape[0]"
   ]
  },
  {
   "cell_type": "code",
   "execution_count": 66,
   "metadata": {},
   "outputs": [
    {
     "data": {
      "text/plain": [
       "(44704, 162, 2006)"
      ]
     },
     "execution_count": 66,
     "metadata": {},
     "output_type": "execute_result"
    }
   ],
   "source": [
    "df.shape[0], df[df['agreement_score'] >= 0.9].shape[0], df[df['agreement_score'] >= 0.7].shape[0]"
   ]
  },
  {
   "cell_type": "code",
   "execution_count": 67,
   "metadata": {},
   "outputs": [
    {
     "data": {
      "text/plain": [
       "293"
      ]
     },
     "execution_count": 67,
     "metadata": {},
     "output_type": "execute_result"
    }
   ],
   "source": [
    "df[(df['crossmod_action'] == \"remove\") & (df.agreement_score < 0.7)].shape[0]"
   ]
  },
  {
   "cell_type": "code",
   "execution_count": 68,
   "metadata": {},
   "outputs": [
    {
     "data": {
      "text/plain": [
       "'2019-10-24 13:11:19'"
      ]
     },
     "execution_count": 68,
     "metadata": {},
     "output_type": "execute_result"
    }
   ],
   "source": [
    "df[(df['crossmod_action'] == \"remove\") & (df.agreement_score < 0.85)]['created_utc'].max()"
   ]
  },
  {
   "cell_type": "code",
   "execution_count": 69,
   "metadata": {},
   "outputs": [
    {
     "data": {
      "text/plain": [
       "239"
      ]
     },
     "execution_count": 69,
     "metadata": {},
     "output_type": "execute_result"
    }
   ],
   "source": [
    "sub_df.shape[0]"
   ]
  },
  {
   "cell_type": "markdown",
   "metadata": {},
   "source": [
    "# Plots"
   ]
  },
  {
   "cell_type": "code",
   "execution_count": 70,
   "metadata": {},
   "outputs": [],
   "source": [
    "import matplotlib.pyplot as plt\n",
    "import seaborn\n",
    "\n",
    "# Plot Parameters\n",
    "\n",
    "# Agreement Score Parameters: Choose starting and ending agreement score thresholds, and how many intervals between them.\n",
    "agreement_score_start = 50\n",
    "agreement_score_end = 100\n",
    "delta = 5\n",
    "agreement_scores = [i * 0.01 for i in range(agreement_score_start, agreement_score_end, delta)]\n",
    "\n",
    "# Finding the starting and ending ingested_utc in the dataset\n",
    "min_date = df['ingested'].min()\n",
    "max_date = df['ingested'].max()"
   ]
  },
  {
   "cell_type": "markdown",
   "metadata": {},
   "source": [
    "## Agreement Score vs. Number of Comments"
   ]
  },
  {
   "cell_type": "code",
   "execution_count": 71,
   "metadata": {
    "scrolled": true
   },
   "outputs": [
    {
     "data": {
      "image/png": "[encoded data removed]",
      "text/plain": [
       "<Figure size 432x288 with 1 Axes>"
      ]
     },
     "metadata": {},
     "output_type": "display_data"
    }
   ],
   "source": [
    "#Agreement Scores vs. Number of Comments\n",
    "def comments_at_threshold(agreement_score_threshold):\n",
    "    return df[(df.agreement_score >= agreement_score_threshold)].shape[0]    \n",
    "number_of_comments = [comments_at_threshold(i) for i in agreement_scores]\n",
    "x_axis = 'agreement_score'\n",
    "y_axis = 'number_of_comments'\n",
    "line_plot_df = pd.DataFrame({x_axis: agreement_scores, y_axis: number_of_comments}, columns = [x_axis, y_axis])\n",
    "seaborn.set_style(\"darkgrid\")\n",
    "line_plot = seaborn.lineplot(x = x_axis, y = y_axis, data = line_plot_df)\n",
    "line_plot.set_title(f'Agreement Score vs. Number of Comments \\n from {min_date.strftime(\"%d %B, %Y\")}')\n",
    "line_plot.set_xlabel('Crossmod Agreement Score')\n",
    "line_plot.set_ylabel('Number of Comments')\n",
    "##############################################################\n",
    "# Set scale for x and y axis\n",
    "##############################################################\n",
    "plt.xlim(agreement_score_start*0.01, agreement_score_end*0.01)\n",
    "plt.ylim(0, max(number_of_comments) + 2000)\n",
    "##############################################################\n",
    "plt.show()"
   ]
  },
  {
   "cell_type": "markdown",
   "metadata": {},
   "source": [
    "## Agreement Score vs. Number of True Positives"
   ]
  },
  {
   "cell_type": "code",
   "execution_count": 72,
   "metadata": {},
   "outputs": [
    {
     "data": {
      "image/png": "[encoded data removed]",
      "text/plain": [
       "<Figure size 432x288 with 1 Axes>"
      ]
     },
     "metadata": {},
     "output_type": "display_data"
    }
   ],
   "source": [
    "#Agreement Scores vs. Number of True Positives\n",
    "def true_positives_at_threshold(agreement_score_threshold):\n",
    "    return df[(df.agreement_score >= agreement_score_threshold) & (df.banned_by.notnull())].shape[0] \n",
    "number_of_true_positives = [true_positives_at_threshold(i) for i in agreement_scores]\n",
    "x_axis = 'agreement_score'\n",
    "y_axis = 'number_of_true_positives'\n",
    "line_plot_df = pd.DataFrame({x_axis: agreement_scores, y_axis: number_of_true_positives},columns = [x_axis, y_axis])\n",
    "seaborn.set_style(\"darkgrid\")\n",
    "line_plot = seaborn.lineplot(x = x_axis, y = y_axis, data = line_plot_df)\n",
    "line_plot.set_title(f'Agreement Score vs. Number of True Positives \\n from {min_date.strftime(\"%d %B, %Y\")}')\n",
    "line_plot.set_xlabel('Crossmod Agreement Score')\n",
    "line_plot.set_ylabel('Number of True Positives')\n",
    "##############################################################\n",
    "# Set scale for x and y axis\n",
    "##############################################################\n",
    "plt.xlim(agreement_score_start*0.01, agreement_score_end*0.01)\n",
    "plt.ylim(0, max(number_of_true_positives) + 100)\n",
    "##############################################################\n",
    "plt.show()"
   ]
  },
  {
   "cell_type": "markdown",
   "metadata": {},
   "source": [
    "## Agreement Score vs. Ratio of True Positives to Total Comments at Threshold"
   ]
  },
  {
   "cell_type": "code",
   "execution_count": 73,
   "metadata": {},
   "outputs": [
    {
     "data": {
      "image/png": "[encoded data removed]",
      "text/plain": [
       "<Figure size 432x288 with 1 Axes>"
      ]
     },
     "metadata": {},
     "output_type": "display_data"
    }
   ],
   "source": [
    "#Agreement Scores vs. Ratio of True Positives\n",
    "def ratio_of_true_positives(agreement_score_threshold):\n",
    "    true_positives = df[(df.agreement_score >= agreement_score_threshold) & (df.banned_by.notnull())].shape[0] \n",
    "    total_at_threshold = df[(df.agreement_score >= agreement_score_threshold)].shape[0]\n",
    "    return true_positives / total_at_threshold\n",
    "ratios = [ratio_of_true_positives(i) for i in agreement_scores]\n",
    "x_axis = 'agreement_score'\n",
    "y_axis = 'ratios'\n",
    "line_plot_df = pd.DataFrame({x_axis: agreement_scores, y_axis: ratios}, columns = [x_axis, y_axis])\n",
    "seaborn.set_style(\"darkgrid\")\n",
    "line_plot = seaborn.lineplot(x = x_axis, y = y_axis, data = line_plot_df)\n",
    "line_plot.set_title(f'Agreement Score vs. Ratio of True Positives \\n from {min_date.strftime(\"%d %B, %Y\")}')\n",
    "line_plot.set_xlabel('Crossmod Agreement Score')\n",
    "line_plot.set_ylabel('Number of True Positives')\n",
    "##############################################################\n",
    "# Set scale for x and y axis\n",
    "##############################################################\n",
    "plt.xlim(agreement_score_start*0.01, agreement_score_end*0.01)\n",
    "plt.ylim(0*0.01, 100*0.01)\n",
    "##############################################################\n",
    "plt.show()"
   ]
  },
  {
   "cell_type": "code",
   "execution_count": 74,
   "metadata": {},
   "outputs": [],
   "source": [
    "##############################################################\n",
    "# Change bucket size (in days) for smoother rates\n",
    "##############################################################\n",
    "bucket_size = 1\n",
    "##############################################################\n",
    "def normalize_rate(raw_metric, daily_comments):\n",
    "    assert len(raw_metric) == len(daily_comments)\n",
    "    normalized_metric = []\n",
    "    for (i, metric) in enumerate(raw_metric):\n",
    "        if daily_comments[i] == 0:\n",
    "            normalized_metric.append(0)\n",
    "        else:\n",
    "            normalized_metric.append(metric/daily_comments[i])\n",
    "    return normalized_metric\n",
    "##############################################################\n",
    "# Dates based on bucket size\n",
    "##############################################################\n",
    "dates = [i for i in range(int((max_date - min_date).days/bucket_size))]\n",
    "dates = [ i * bucket_size for i in dates]"
   ]
  },
  {
   "cell_type": "markdown",
   "metadata": {},
   "source": [
    "## Total Number of Comments Posted on Subreddit"
   ]
  },
  {
   "cell_type": "code",
   "execution_count": 75,
   "metadata": {},
   "outputs": [
    {
     "data": {
      "image/png": "[encoded data removed]",
      "text/plain": [
       "<Figure size 432x288 with 1 Axes>"
      ]
     },
     "metadata": {},
     "output_type": "display_data"
    }
   ],
   "source": [
    "# Total # of Comments\n",
    "def comments_between_dates(start_date, end_date):\n",
    "    return df[(df.ingested >= start_date) & (df.ingested < end_date)].shape[0]\n",
    "number_of_comments = [0] + [comments_between_dates(min_date + datetime.timedelta(days = dates[i - 1]),\n",
    "                                                   min_date + datetime.timedelta(days = dates[i])) \n",
    "                            for i in range(1, len(dates))]\n",
    "x_axis = 'days'\n",
    "y_axis = 'number_of_comments'\n",
    "line_plot_df = pd.DataFrame({x_axis: dates, y_axis: number_of_comments}, columns = [x_axis, y_axis])\n",
    "seaborn.set_style(\"darkgrid\")\n",
    "line_plot = seaborn.lineplot(x = x_axis, y = y_axis, data = line_plot_df)\n",
    "line_plot.set_title(f'Total Number of Comments \\n from {min_date.strftime(\"%d %B, %Y\")}')\n",
    "line_plot.set_xlabel(f'Days since {min_date.strftime(\"%d %B, %Y\")}, Bucket Size: {bucket_size}')\n",
    "line_plot.set_ylabel(f'Number of Comments')\n",
    "##############################################################\n",
    "# Set scale for x and y axis\n",
    "##############################################################\n",
    "plt.xlim(0, max(dates))\n",
    "plt.ylim(0, max(number_of_comments))\n",
    "##############################################################\n",
    "plt.show()"
   ]
  },
  {
   "cell_type": "code",
   "execution_count": 76,
   "metadata": {},
   "outputs": [
    {
     "name": "stdout",
     "output_type": "stream",
     "text": [
      "Threshold >= ,  0.5  => True positive rate =  0.13469616353962474\n",
      "Threshold >= ,  0.55  => True positive rate =  0.13431428032446707\n",
      "Threshold >= ,  0.6  => True positive rate =  0.134768127081732\n",
      "Threshold >= ,  0.65  => True positive rate =  0.1464088397790055\n",
      "Threshold >= ,  0.7000000000000001  => True positive rate =  0.16210413311862587\n",
      "Threshold >= ,  0.75  => True positive rate =  0.17202692595362754\n",
      "Threshold >= ,  0.8  => True positive rate =  0.1895910780669145\n",
      "Threshold >= ,  0.85  => True positive rate =  0.2237442922374429\n",
      "Threshold >= ,  0.9  => True positive rate =  0.2777777777777778\n",
      "Threshold >= ,  0.9500000000000001  => True positive rate =  0.4\n"
     ]
    }
   ],
   "source": [
    "for i in range(0, len(ratios)):\n",
    "    print(\"Threshold >= , \", agreement_scores[i] ,\" => True positive rate = \", ratios[i])"
   ]
  },
  {
   "cell_type": "markdown",
   "metadata": {},
   "source": [
    "## Total Number of Moderator Removals"
   ]
  },
  {
   "cell_type": "code",
   "execution_count": 77,
   "metadata": {},
   "outputs": [
    {
     "data": {
      "image/png": "[encoded data removed]",
      "text/plain": [
       "<Figure size 432x288 with 1 Axes>"
      ]
     },
     "metadata": {},
     "output_type": "display_data"
    }
   ],
   "source": [
    "# Total Number of Moderator Removals\n",
    "def comments_moderated_between_dates(start_date, end_date):\n",
    "    return df[(df.ingested >= start_date) & (df.ingested < end_date) & (df.banned_by.notnull())].shape[0]\n",
    "number_of_moderated_comments = [0] + [comments_moderated_between_dates(min_date + datetime.timedelta(days = dates[i - 1]),\n",
    "                                                   min_date + datetime.timedelta(days = dates[i])) \n",
    "                            for i in range(1, len(dates))]\n",
    "x_axis = 'days'\n",
    "y_axis = 'number_of_moderated_comments'\n",
    "line_plot_df = pd.DataFrame({x_axis: dates, y_axis: number_of_moderated_comments}, columns = [x_axis, y_axis])\n",
    "seaborn.set_style(\"darkgrid\")\n",
    "line_plot = seaborn.lineplot(x = x_axis, y = y_axis, data = line_plot_df)\n",
    "line_plot.set_title(f'Total Number of Moderator Removals \\n from {min_date.strftime(\"%d %B, %Y\")}')\n",
    "line_plot.set_xlabel(f'Days since {min_date.strftime(\"%d %B, %Y\")}, Bucket Size: {bucket_size}')\n",
    "line_plot.set_ylabel(f'Number of Removals')\n",
    "##############################################################\n",
    "# Set scale for x and y axis\n",
    "##############################################################\n",
    "plt.xlim(0, max(dates))\n",
    "plt.ylim(0, max(number_of_moderated_comments))\n",
    "##############################################################\n",
    "plt.show()"
   ]
  },
  {
   "cell_type": "markdown",
   "metadata": {},
   "source": [
    "## Rate of Moderator Removals"
   ]
  },
  {
   "cell_type": "code",
   "execution_count": 78,
   "metadata": {},
   "outputs": [
    {
     "data": {
      "image/png": "[encoded data removed]",
      "text/plain": [
       "<Figure size 432x288 with 1 Axes>"
      ]
     },
     "metadata": {},
     "output_type": "display_data"
    }
   ],
   "source": [
    "# Rate of Moderator Removals\n",
    "rate_of_moderated_comments = normalize_rate(number_of_moderated_comments, number_of_comments)\n",
    "x_axis = 'days'\n",
    "y_axis = 'rate_of_moderated_comments'\n",
    "line_plot_df = pd.DataFrame({x_axis: dates, y_axis: rate_of_moderated_comments}, columns = [x_axis, y_axis])\n",
    "seaborn.set_style(\"darkgrid\")\n",
    "line_plot = seaborn.lineplot(x = x_axis, y = y_axis, data = line_plot_df)\n",
    "line_plot.set_title(f'Rate of Moderator Removals \\n from {min_date.strftime(\"%d %B, %Y\")}')\n",
    "line_plot.set_xlabel(f'Days since {min_date.strftime(\"%d %B, %Y\")}, Bucket Size: {bucket_size}')\n",
    "line_plot.set_ylabel(f'Rate of Removals')\n",
    "##############################################################\n",
    "# Set scale for x and y axis\n",
    "##############################################################\n",
    "plt.xlim(0, max(dates))\n",
    "plt.ylim(0, max(rate_of_moderated_comments)+0.04)\n",
    "##############################################################\n",
    "plt.show()"
   ]
  },
  {
   "cell_type": "markdown",
   "metadata": {},
   "source": [
    "## Total Number of Crossmod Reports"
   ]
  },
  {
   "cell_type": "code",
   "execution_count": 79,
   "metadata": {},
   "outputs": [
    {
     "name": "stderr",
     "output_type": "stream",
     "text": [
      "/data/home/crossmod-dev/crossmod-retrain/env/lib/python3.6/site-packages/ipykernel_launcher.py:20: UserWarning: Attempting to set identical bottom == top == 0 results in singular transformations; automatically expanding.\n"
     ]
    },
    {
     "data": {
      "image/png": "[encoded data removed]",
      "text/plain": [
       "<Figure size 432x288 with 1 Axes>"
      ]
     },
     "metadata": {},
     "output_type": "display_data"
    }
   ],
   "source": [
    "# Total Number of Crossmod Reports\n",
    "def comments_reported_between_dates(start_date, end_date):\n",
    "    return df[(df.ingested >= start_date) & (df.ingested < end_date) & (df.crossmod_action == \"report\")].shape[0]\n",
    "##############################################################\n",
    "number_of_reported_comments = [0] + [comments_reported_between_dates(min_date + datetime.timedelta(days = dates[i - 1]),\n",
    "                                                   min_date + datetime.timedelta(days = dates[i])) \n",
    "                            for i in range(1, len(dates))]\n",
    "x_axis = 'days'\n",
    "y_axis = 'number_of_reported_comments'\n",
    "line_plot_df = pd.DataFrame({x_axis: dates, y_axis: number_of_reported_comments}, columns = [x_axis, y_axis])\n",
    "seaborn.set_style(\"darkgrid\")\n",
    "line_plot = seaborn.lineplot(x = x_axis, y = y_axis, data = line_plot_df)\n",
    "line_plot.set_title(f'Total Number of Crossmod Reports \\n from {min_date.strftime(\"%d %B, %Y\")}')\n",
    "line_plot.set_xlabel(f'Days since {min_date.strftime(\"%d %B, %Y\")}, Bucket Size: {bucket_size}')\n",
    "line_plot.set_ylabel(f'Number of Reports')\n",
    "##############################################################\n",
    "# Set scale for x and y axis\n",
    "##############################################################\n",
    "plt.xlim(0, max(dates))\n",
    "plt.ylim(0, max(number_of_reported_comments))\n",
    "##############################################################\n",
    "plt.show()"
   ]
  },
  {
   "cell_type": "markdown",
   "metadata": {},
   "source": [
    "## Rate of Crossmod Reports"
   ]
  },
  {
   "cell_type": "code",
   "execution_count": 80,
   "metadata": {},
   "outputs": [
    {
     "data": {
      "image/png": "[encoded data removed]",
      "text/plain": [
       "<Figure size 432x288 with 1 Axes>"
      ]
     },
     "metadata": {},
     "output_type": "display_data"
    }
   ],
   "source": [
    "# Rate of Crossmod Reports\n",
    "rate_of_reported_comments = normalize_rate(number_of_reported_comments, number_of_comments)\n",
    "x_axis = 'days'\n",
    "y_axis = 'rate_of_reported_comments'\n",
    "line_plot_df = pd.DataFrame({x_axis: dates, y_axis: rate_of_reported_comments}, columns = [x_axis, y_axis])\n",
    "seaborn.set_style(\"darkgrid\")\n",
    "line_plot = seaborn.lineplot(x = x_axis, y = y_axis, data = line_plot_df)\n",
    "line_plot.set_title(f'Rate of Crossmod Reports \\n from {min_date.strftime(\"%d %B, %Y\")}')\n",
    "line_plot.set_xlabel(f'Days since {min_date.strftime(\"%d %B, %Y\")}, Bucket Size: {bucket_size}')\n",
    "line_plot.set_ylabel(f'Rate of Reports')\n",
    "##############################################################\n",
    "# Set scale for x and y axis\n",
    "##############################################################\n",
    "plt.xlim(0, max(dates))\n",
    "##############################################################\n",
    "plt.show()"
   ]
  },
  {
   "cell_type": "markdown",
   "metadata": {},
   "source": [
    "## Total Number of Report Removal Sequences"
   ]
  },
  {
   "cell_type": "code",
   "execution_count": 81,
   "metadata": {},
   "outputs": [
    {
     "name": "stderr",
     "output_type": "stream",
     "text": [
      "/data/home/crossmod-dev/crossmod-retrain/env/lib/python3.6/site-packages/ipykernel_launcher.py:20: UserWarning: Attempting to set identical bottom == top == 0 results in singular transformations; automatically expanding.\n"
     ]
    },
    {
     "data": {
      "image/png": "[encoded data removed]",
      "text/plain": [
       "<Figure size 432x288 with 1 Axes>"
      ]
     },
     "metadata": {},
     "output_type": "display_data"
    }
   ],
   "source": [
    "# Total Number of Report Removal Sequences\n",
    "def comments_reported_and_removed_between_dates(start_date, end_date):\n",
    "    return df[(df.ingested >= start_date) & (df.ingested < end_date) & (df.crossmod_action == \"report\") & (df.banned_by.notnull())].shape[0]\n",
    "##############################################################\n",
    "number_of_reported_and_removed_comments = [0] + [comments_reported_and_removed_between_dates(min_date + datetime.timedelta(days = dates[i - 1]),\n",
    "                                                   min_date + datetime.timedelta(days = dates[i])) \n",
    "                            for i in range(1, len(dates))]\n",
    "x_axis = 'days'\n",
    "y_axis = 'number_of_reported_and_removed_comments'\n",
    "line_plot_df = pd.DataFrame({x_axis: dates, y_axis: number_of_reported_and_removed_comments}, columns = [x_axis, y_axis])\n",
    "seaborn.set_style(\"darkgrid\")\n",
    "line_plot = seaborn.lineplot(x = x_axis, y = y_axis, data = line_plot_df)\n",
    "line_plot.set_title(f'Total Number of Report Removal Sequences \\n from {min_date.strftime(\"%d %B, %Y\")}')\n",
    "line_plot.set_xlabel(f'Days since {min_date.strftime(\"%d %B, %Y\")}, Bucket Size: {bucket_size}')\n",
    "line_plot.set_ylabel(f'Number of Reports')\n",
    "##############################################################\n",
    "# Set scale for x and y axis\n",
    "##############################################################\n",
    "plt.xlim(0, max(dates))\n",
    "plt.ylim(0, max(number_of_reported_comments))\n",
    "##############################################################\n",
    "plt.show()"
   ]
  },
  {
   "cell_type": "markdown",
   "metadata": {},
   "source": [
    "## Rate of Report Removal Sequences"
   ]
  },
  {
   "cell_type": "code",
   "execution_count": 82,
   "metadata": {},
   "outputs": [
    {
     "data": {
      "image/png": "[encoded data removed]",
      "text/plain": [
       "<Figure size 432x288 with 1 Axes>"
      ]
     },
     "metadata": {},
     "output_type": "display_data"
    }
   ],
   "source": [
    "# Rate of Report Removal Sequences\n",
    "rate_of_report_removal_sequences = normalize_rate(number_of_reported_and_removed_comments, number_of_comments)\n",
    "x_axis = 'days'\n",
    "y_axis = 'rate_of_report_removal_sequences'\n",
    "line_plot_df = pd.DataFrame({x_axis: dates, y_axis: rate_of_report_removal_sequences}, columns = [x_axis, y_axis])\n",
    "seaborn.set_style(\"darkgrid\")\n",
    "line_plot = seaborn.lineplot(x = x_axis, y = y_axis, data = line_plot_df)\n",
    "line_plot.set_title(f'Rate of Report Removal Sequences \\n from {min_date.strftime(\"%d %B, %Y\")}')\n",
    "line_plot.set_xlabel(f'Days since {min_date.strftime(\"%d %B, %Y\")}, Bucket Size: {bucket_size}')\n",
    "line_plot.set_ylabel(f'Rate of Report Removal Sequences')\n",
    "##############################################################\n",
    "# Set scale for x and y axis\n",
    "##############################################################\n",
    "plt.xlim(0, max(dates))\n",
    "##############################################################\n",
    "plt.show()"
   ]
  },
  {
   "cell_type": "code",
   "execution_count": null,
   "metadata": {},
   "outputs": [],
   "source": []
  },
  {
   "cell_type": "code",
   "execution_count": null,
   "metadata": {},
   "outputs": [],
   "source": []
  },
  {
   "cell_type": "code",
   "execution_count": null,
   "metadata": {},
   "outputs": [],
   "source": []
  }
 ],
 "metadata": {
  "kernelspec": {
   "display_name": "Python 3",
   "language": "python",
   "name": "python3"
  },
  "language_info": {
   "codemirror_mode": {
    "name": "ipython",
    "version": 3
   },
   "file_extension": ".py",
   "mimetype": "text/x-python",
   "name": "python",
   "nbconvert_exporter": "python",
   "pygments_lexer": "ipython3",
   "version": "3.6.9"
  }
 },
 "nbformat": 4,
 "nbformat_minor": 4
}
