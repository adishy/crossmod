{
 "cells": [
  {
   "cell_type": "code",
   "execution_count": 9,
   "metadata": {},
   "outputs": [],
   "source": [
    "import pandas as pd\n",
    "import numpy as np\n",
    "from datetime import datetime, timedelta\n",
    "import csv"
   ]
  },
  {
   "cell_type": "code",
   "execution_count": 2,
   "metadata": {},
   "outputs": [],
   "source": [
    "# Process weird date formats \n",
    "def normalize_dates(date):\n",
    "    try:\n",
    "        return datetime.strptime(date, '%Y-%m-%d %H:%M:%S')\n",
    "    except:\n",
    "        return datetime.strptime(date[:-7], '%Y-%m-%d %H:%M:%S')"
   ]
  },
  {
   "cell_type": "code",
   "execution_count": 3,
   "metadata": {},
   "outputs": [],
   "source": [
    "# This contains ALL our reporting experiment data, but includes some invalid data in 2019 due to faulty thresholds \n",
    "# filepath = \"/data/databases/erroneous_reporting_experiment_data.csv\"\n",
    "\n",
    "# This is our main data-set\n",
    "filepath = \"/data/databases/reporting_experiment.csv\"\n",
    "\n",
    "df = pd.read_csv(filepath)"
   ]
  },
  {
   "cell_type": "code",
   "execution_count": 4,
   "metadata": {},
   "outputs": [
    {
     "data": {
      "text/plain": [
       "(250423, 17767)"
      ]
     },
     "execution_count": 4,
     "metadata": {},
     "output_type": "execute_result"
    }
   ],
   "source": [
    "df.shape[0], df.dropna().shape[0]"
   ]
  },
  {
   "cell_type": "code",
   "execution_count": 5,
   "metadata": {},
   "outputs": [],
   "source": [
    "df['created'] = df['created_utc'].apply(normalize_dates)\n",
    "df['ingested'] = df['ingested_utc'].apply(normalize_dates)"
   ]
  },
  {
   "cell_type": "code",
   "execution_count": 7,
   "metadata": {},
   "outputs": [
    {
     "name": "stdout",
     "output_type": "stream",
     "text": [
      "Total number of comments ingested by Crossmod during the experiment =  250423\n",
      "Total number of comments reported by Crossmod during the experiment =  2686\n",
      "% of comments reported by Crossmod during the experiment =  1.0725851858655155 %\n",
      "Total number of comments removed by moderators during the experiment =  17767\n",
      "% of comments removed by moderators during the experiment =  7.0947956058349275 %\n"
     ]
    }
   ],
   "source": [
    "print(\"Total number of comments ingested by Crossmod during the experiment = \", df.shape[0])\n",
    "print(\"Total number of comments reported by Crossmod during the experiment = \", df[df.crossmod_action == \"report\"].shape[0])\n",
    "print(\"% of comments reported by Crossmod during the experiment = \", 100.0 * df[df.crossmod_action == \"report\"].shape[0]/df.shape[0], \"%\")\n",
    "print(\"Total number of comments removed by moderators during the experiment = \", df[df.banned_by.notna()].shape[0])\n",
    "print(\"% of comments removed by moderators during the experiment = \", 100.0 * df[df.banned_by.notna()].shape[0]/df.shape[0], \"%\")"
   ]
  },
  {
   "cell_type": "code",
   "execution_count": 44,
   "metadata": {},
   "outputs": [
    {
     "name": "stdout",
     "output_type": "stream",
     "text": [
      "Currently processed 100  discussion threads\n",
      "Currently processed 200  discussion threads\n",
      "Currently processed 300  discussion threads\n",
      "Currently processed 400  discussion threads\n",
      "Currently processed 500  discussion threads\n",
      "Currently processed 600  discussion threads\n",
      "Currently processed 700  discussion threads\n",
      "Currently processed 800  discussion threads\n",
      "Currently processed 900  discussion threads\n",
      "Currently processed 1000  discussion threads\n",
      "Currently processed 1100  discussion threads\n",
      "Currently processed 1200  discussion threads\n",
      "Currently processed 1300  discussion threads\n",
      "Currently processed 1400  discussion threads\n",
      "Currently processed 1500  discussion threads\n",
      "Currently processed 1600  discussion threads\n",
      "Currently processed 1700  discussion threads\n",
      "Currently processed 1800  discussion threads\n",
      "Currently processed 1900  discussion threads\n",
      "Currently processed 2000  discussion threads\n",
      "Currently processed 2100  discussion threads\n",
      "Currently processed 2200  discussion threads\n",
      "Currently processed 2300  discussion threads\n",
      "Currently processed 2400  discussion threads\n",
      "Currently processed 2500  discussion threads\n",
      "Currently processed 2600  discussion threads\n",
      "Currently processed 2700  discussion threads\n",
      "Currently processed 2800  discussion threads\n",
      "Currently processed 2900  discussion threads\n",
      "Currently processed 3000  discussion threads\n",
      "Currently processed 3100  discussion threads\n",
      "Currently processed 3200  discussion threads\n",
      "Currently processed 3300  discussion threads\n",
      "Currently processed 3400  discussion threads\n",
      "Currently processed 3500  discussion threads\n",
      "Currently processed 3600  discussion threads\n",
      "Currently processed 3700  discussion threads\n",
      "Currently processed 3800  discussion threads\n",
      "Currently processed 3900  discussion threads\n",
      "Currently processed 4000  discussion threads\n",
      "Currently processed 4100  discussion threads\n",
      "Currently processed 4200  discussion threads\n",
      "Currently processed 4300  discussion threads\n",
      "Currently processed 4400  discussion threads\n",
      "Currently processed 4500  discussion threads\n",
      "Currently processed 4600  discussion threads\n",
      "Currently processed 4700  discussion threads\n",
      "Currently processed 4800  discussion threads\n",
      "Currently processed 4900  discussion threads\n",
      "Currently processed 5000  discussion threads\n",
      "Currently processed 5100  discussion threads\n",
      "Currently processed 5200  discussion threads\n",
      "Currently processed 5300  discussion threads\n",
      "Currently processed 5400  discussion threads\n",
      "Currently processed 5500  discussion threads\n",
      "Currently processed 5600  discussion threads\n"
     ]
    }
   ],
   "source": [
    "# Threads, combined text CSV\n",
    "COMMENT_DELIMITER = \"||\"\n",
    "output_filepath = \"/data/databases/threads.csv\"\n",
    "csv_file = open(output_filepath, 'w')\n",
    "csv_writer = csv.writer(csv_file)\n",
    "header = \\\n",
    "[\n",
    "    \"total_comments_in_thread\",\n",
    "    \"total_moderator_removed\",\n",
    "    \"automoderator_removed\",\n",
    "    \"human_moderator_removed\",\n",
    "    \"crossmod_removed\",\n",
    "    \"combined_text\",  \n",
    "    \"parent_id\",\n",
    "    \"link_id\"\n",
    "]\n",
    "csv_writer.writerow(header)\n",
    "\n",
    "thread_values = []\n",
    "threads_collected = 0\n",
    "\n",
    "# Group by link_id to gather comments for the same post together\n",
    "for name, group in df.groupby('parent_id'):\n",
    "        \n",
    "    discarding_zeros = list(filter(lambda x: x > 0, group['agreement_score']))\n",
    "    \n",
    "    # discard if all the comments are filtered (agreement score -1.0)\n",
    "    if len(discarding_zeros) == 0:\n",
    "        continue\n",
    "\n",
    "    total_thread = len(group)\n",
    "    \n",
    "    if total_thread < 5:\n",
    "        continue\n",
    "    moderator_removed = len(group[group.banned_by.notna()])\n",
    "    automoderator_removed = len(group[group.banned_by == \"AutoModerator\"])\n",
    "    human_moderator_removed =  moderator_removed - automoderator_removed\n",
    "    crossmod_removed = len(group[group.crossmod_action == \"report\"])\n",
    "    combined_text = COMMENT_DELIMITER.join(group[\"body\"]).replace('\\n',' ')\n",
    "    parent_id = group['parent_id'].array[0]\n",
    "    link_id = group['link_id'].array[0]\n",
    "    thread = \\\n",
    "    [\n",
    "      total_thread,\n",
    "      moderator_removed,\n",
    "      automoderator_removed,\n",
    "      human_moderator_removed,\n",
    "      crossmod_removed,\n",
    "      combined_text,\n",
    "      parent_id,\n",
    "      link_id\n",
    "    ]\n",
    "    csv_writer.writerow(thread)\n",
    "    thread_values.append(thread)\n",
    "    threads_collected += 1\n",
    "    if (threads_collected % 100 == 0):\n",
    "        print(\"Currently processed\", threads_collected, \" discussion threads\")\n",
    "\n"
   ]
  },
  {
   "cell_type": "code",
   "execution_count": null,
   "metadata": {},
   "outputs": [],
   "source": []
  }
 ],
 "metadata": {
  "kernelspec": {
   "display_name": "Python 3",
   "language": "python",
   "name": "python3"
  },
  "language_info": {
   "codemirror_mode": {
    "name": "ipython",
    "version": 3
   },
   "file_extension": ".py",
   "mimetype": "text/x-python",
   "name": "python",
   "nbconvert_exporter": "python",
   "pygments_lexer": "ipython3",
   "version": "3.6.9"
  }
 },
 "nbformat": 4,
 "nbformat_minor": 2
}
